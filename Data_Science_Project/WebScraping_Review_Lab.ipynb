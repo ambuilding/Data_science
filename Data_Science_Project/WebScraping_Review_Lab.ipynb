{
 "cells": [
  {
   "cell_type": "markdown",
   "metadata": {},
   "source": [
    "<h2>Table of Contents</h2>\n",
    "<div class=\"alert alert-block alert-info\" style=\"margin-top: 20px\">\n",
    "    <ul>\n",
    "        <li>\n",
    "            <a href=\"https://bso/?utm_medium=Exinfluencer&utm_source=Exinfluencer&utm_content=000026UJ&utm_term=10006555&utm_id=NA-SkillsNetwork-Channel-SkillsNetworkCoursesIBMDeveloperSkillsNetworkPY0220ENSkillsNetwork23455606-2021-01-01\">Beautiful Soup Object</a>\n",
    "            <ul>\n",
    "                <li>Tag</li>\n",
    "                <li>Children, Parents, and Siblings</li>\n",
    "                <li>HTML Attributes</li>\n",
    "                <li>Navigable String</li>\n",
    "            </ul>\n",
    "        </li>\n",
    "     </ul>\n",
    "    <ul>\n",
    "        <li>\n",
    "            <a href=\"https://filter/?utm_medium=Exinfluencer&utm_source=Exinfluencer&utm_content=000026UJ&utm_term=10006555&utm_id=NA-SkillsNetwork-Channel-SkillsNetworkCoursesIBMDeveloperSkillsNetworkPY0220ENSkillsNetwork23455606-2021-01-01\">Filter</a>\n",
    "            <ul>\n",
    "                <li>find All</li>\n",
    "                <li>find </li>\n",
    "                <li>HTML Attributes</li>\n",
    "                <li>Navigable String</li>\n",
    "            </ul>\n",
    "        </li>\n",
    "     </ul>\n",
    "     <ul>\n",
    "        <li>\n",
    "            <a href=\"https://dscw/?utm_medium=Exinfluencer&utm_source=Exinfluencer&utm_content=000026UJ&utm_term=10006555&utm_id=NA-SkillsNetwork-Channel-SkillsNetworkCoursesIBMDeveloperSkillsNetworkPY0220ENSkillsNetwork23455606-2021-01-01\">Downloading And Scraping The Contents Of A Web</a>\n",
    "    </li>\n",
    "         </ul>\n",
    "\n",
    "</div>\n",
    "\n",
    "<hr>\n"
   ]
  },
  {
   "cell_type": "markdown",
   "metadata": {},
   "source": [
    "After completing this lab you will be able to:\n"
   ]
  },
  {
   "cell_type": "markdown",
   "metadata": {},
   "source": [
    "For this lab, we are going to be using Python and several Python libraries. Some of these libraries might be installed in your lab environment or in SN Labs. Others may need to be installed by you. The cells below will install these libraries when executed.\n"
   ]
  },
  {
   "cell_type": "markdown",
   "metadata": {},
   "source": [
    "Import the required modules and functions\n"
   ]
  },
  {
   "cell_type": "code",
   "execution_count": 1,
   "metadata": {
    "tags": []
   },
   "outputs": [],
   "source": [
    "from bs4 import BeautifulSoup # this module helps in web scrapping.\n",
    "import requests  # this module helps us to download a web page"
   ]
  },
  {
   "cell_type": "markdown",
   "metadata": {},
   "source": [
    "<h2 id=\"BSO\">Beautiful Soup Objects</h2>\n"
   ]
  },
  {
   "cell_type": "markdown",
   "metadata": {},
   "source": [
    "Beautiful Soup is a Python library for pulling data out of HTML and XML files, we will focus on HTML files. This is accomplished by representing the HTML as a set of objects with methods used to parse the HTML.  We can navigate the HTML as a tree and/or filter out what we are looking for.\n",
    "\n",
    "Consider the following HTML:\n"
   ]
  },
  {
   "cell_type": "code",
   "execution_count": 2,
   "metadata": {},
   "outputs": [
    {
     "data": {
      "text/html": [
       "<!DOCTYPE html>\n",
       "<html>\n",
       "<head>\n",
       "<title>Page Title</title>\n",
       "</head>\n",
       "<body>\n",
       "<h3><b id='boldest'>Lebron James</b></h3>\n",
       "<p> Salary: $ 92,000,000 </p>\n",
       "<h3> Stephen Curry</h3>\n",
       "<p> Salary: $85,000, 000 </p>\n",
       "<h3> Kevin Durant </h3>\n",
       "<p> Salary: $73,200, 000</p>\n",
       "</body>\n",
       "</html>\n"
      ],
      "text/plain": [
       "<IPython.core.display.HTML object>"
      ]
     },
     "metadata": {},
     "output_type": "display_data"
    }
   ],
   "source": [
    "%%html\n",
    "<!DOCTYPE html>\n",
    "<html>\n",
    "<head>\n",
    "<title>Page Title</title>\n",
    "</head>\n",
    "<body>\n",
    "<h3><b id='boldest'>Lebron James</b></h3>\n",
    "<p> Salary: $ 92,000,000 </p>\n",
    "<h3> Stephen Curry</h3>\n",
    "<p> Salary: $85,000, 000 </p>\n",
    "<h3> Kevin Durant </h3>\n",
    "<p> Salary: $73,200, 000</p>\n",
    "</body>\n",
    "</html>"
   ]
  },
  {
   "cell_type": "markdown",
   "metadata": {},
   "source": [
    "We can store it as a string in the variable HTML:\n"
   ]
  },
  {
   "cell_type": "code",
   "execution_count": 3,
   "metadata": {},
   "outputs": [],
   "source": [
    "html=\"<!DOCTYPE html><html><head><title>Page Title</title></head><body><h3><b id='boldest'>Lebron James</b></h3><p> Salary: $ 92,000,000 </p><h3> Stephen Curry</h3><p> Salary: $85,000, 000 </p><h3> Kevin Durant </h3><p> Salary: $73,200, 000</p></body></html>\""
   ]
  },
  {
   "cell_type": "markdown",
   "metadata": {},
   "source": [
    "To parse a document, pass it into the <code>BeautifulSoup</code> constructor, the <code>BeautifulSoup</code> object, which represents the document as a nested data structure:\n"
   ]
  },
  {
   "cell_type": "code",
   "execution_count": 4,
   "metadata": {},
   "outputs": [],
   "source": [
    "soup = BeautifulSoup(html, \"html.parser\")"
   ]
  },
  {
   "cell_type": "markdown",
   "metadata": {},
   "source": [
    "First, the document is converted to Unicode, (similar to ASCII),  and HTML entities are converted to Unicode characters. Beautiful Soup transforms a complex HTML document into a complex tree of Python objects. The <code>BeautifulSoup</code> object can create other types of objects. In this lab, we will cover <code>BeautifulSoup</code> and <code>Tag</code> objects that for the purposes of this lab are identical, and <code>NavigableString</code> objects.\n"
   ]
  },
  {
   "cell_type": "markdown",
   "metadata": {},
   "source": [
    "We can use the method <code>prettify()</code> to display the HTML in the nested structure:\n"
   ]
  },
  {
   "cell_type": "code",
   "execution_count": 5,
   "metadata": {},
   "outputs": [
    {
     "name": "stdout",
     "output_type": "stream",
     "text": [
      "<!DOCTYPE html>\n",
      "<html>\n",
      " <head>\n",
      "  <title>\n",
      "   Page Title\n",
      "  </title>\n",
      " </head>\n",
      " <body>\n",
      "  <h3>\n",
      "   <b id=\"boldest\">\n",
      "    Lebron James\n",
      "   </b>\n",
      "  </h3>\n",
      "  <p>\n",
      "   Salary: $ 92,000,000\n",
      "  </p>\n",
      "  <h3>\n",
      "   Stephen Curry\n",
      "  </h3>\n",
      "  <p>\n",
      "   Salary: $85,000, 000\n",
      "  </p>\n",
      "  <h3>\n",
      "   Kevin Durant\n",
      "  </h3>\n",
      "  <p>\n",
      "   Salary: $73,200, 000\n",
      "  </p>\n",
      " </body>\n",
      "</html>\n"
     ]
    }
   ],
   "source": [
    "print(soup.prettify())"
   ]
  },
  {
   "cell_type": "markdown",
   "metadata": {},
   "source": [
    "## Tags\n"
   ]
  },
  {
   "cell_type": "markdown",
   "metadata": {},
   "source": [
    "Let's say we want the  title of the page and the name of the top paid player we can use the <code>Tag</code>. The <code>Tag</code> object corresponds to an HTML tag in the original document, for example, the tag title.\n"
   ]
  },
  {
   "cell_type": "code",
   "execution_count": 6,
   "metadata": {},
   "outputs": [
    {
     "name": "stdout",
     "output_type": "stream",
     "text": [
      "tag object: <title>Page Title</title>\n"
     ]
    }
   ],
   "source": [
    "tag_object=soup.title\n",
    "print(\"tag object:\",tag_object)"
   ]
  },
  {
   "cell_type": "markdown",
   "metadata": {},
   "source": [
    "we can see the tag type <code>bs4.element.Tag</code>\n"
   ]
  },
  {
   "cell_type": "code",
   "execution_count": 7,
   "metadata": {},
   "outputs": [
    {
     "name": "stdout",
     "output_type": "stream",
     "text": [
      "tag object type: <class 'bs4.element.Tag'>\n"
     ]
    }
   ],
   "source": [
    "print(\"tag object type:\",type(tag_object))"
   ]
  },
  {
   "cell_type": "markdown",
   "metadata": {},
   "source": [
    "If there is more than one <code>Tag</code>  with the same name, the first element with that <code>Tag</code> name is called, this corresponds to the most paid player:\n"
   ]
  },
  {
   "cell_type": "code",
   "execution_count": 8,
   "metadata": {},
   "outputs": [
    {
     "data": {
      "text/plain": [
       "<h3><b id=\"boldest\">Lebron James</b></h3>"
      ]
     },
     "execution_count": 8,
     "metadata": {},
     "output_type": "execute_result"
    }
   ],
   "source": [
    "tag_object=soup.h3\n",
    "tag_object"
   ]
  },
  {
   "cell_type": "markdown",
   "metadata": {},
   "source": [
    "Enclosed in the bold attribute <code>b</code>, it helps to use the tree representation. We can navigate down the tree using the child attribute to get the name.\n"
   ]
  },
  {
   "cell_type": "markdown",
   "metadata": {},
   "source": [
    "### Children, Parents, and Siblings\n"
   ]
  },
  {
   "cell_type": "markdown",
   "metadata": {},
   "source": [
    "As stated above the <code>Tag</code> object is a tree of objects we can access the child of the tag or navigate down the branch as follows:\n"
   ]
  },
  {
   "cell_type": "code",
   "execution_count": 9,
   "metadata": {},
   "outputs": [
    {
     "data": {
      "text/plain": [
       "<b id=\"boldest\">Lebron James</b>"
      ]
     },
     "execution_count": 9,
     "metadata": {},
     "output_type": "execute_result"
    }
   ],
   "source": [
    "tag_child =tag_object.b\n",
    "tag_child"
   ]
  },
  {
   "cell_type": "markdown",
   "metadata": {},
   "source": [
    "You can access the parent with the <code> parent</code>\n"
   ]
  },
  {
   "cell_type": "code",
   "execution_count": 10,
   "metadata": {},
   "outputs": [
    {
     "data": {
      "text/plain": [
       "<h3><b id=\"boldest\">Lebron James</b></h3>"
      ]
     },
     "execution_count": 10,
     "metadata": {},
     "output_type": "execute_result"
    }
   ],
   "source": [
    "parent_tag=tag_child.parent\n",
    "parent_tag"
   ]
  },
  {
   "cell_type": "markdown",
   "metadata": {},
   "source": [
    "this is identical to\n"
   ]
  },
  {
   "cell_type": "code",
   "execution_count": 11,
   "metadata": {},
   "outputs": [
    {
     "data": {
      "text/plain": [
       "<h3><b id=\"boldest\">Lebron James</b></h3>"
      ]
     },
     "execution_count": 11,
     "metadata": {},
     "output_type": "execute_result"
    }
   ],
   "source": [
    "tag_object"
   ]
  },
  {
   "cell_type": "markdown",
   "metadata": {},
   "source": [
    "<code>tag_object</code> parent is the <code>body</code> element.\n"
   ]
  },
  {
   "cell_type": "code",
   "execution_count": 12,
   "metadata": {},
   "outputs": [
    {
     "data": {
      "text/plain": [
       "<body><h3><b id=\"boldest\">Lebron James</b></h3><p> Salary: $ 92,000,000 </p><h3> Stephen Curry</h3><p> Salary: $85,000, 000 </p><h3> Kevin Durant </h3><p> Salary: $73,200, 000</p></body>"
      ]
     },
     "execution_count": 12,
     "metadata": {},
     "output_type": "execute_result"
    }
   ],
   "source": [
    "tag_object.parent"
   ]
  },
  {
   "cell_type": "markdown",
   "metadata": {},
   "source": [
    "<code>tag_object</code> sibling is the <code>paragraph</code> element\n"
   ]
  },
  {
   "cell_type": "code",
   "execution_count": 13,
   "metadata": {},
   "outputs": [
    {
     "data": {
      "text/plain": [
       "<p> Salary: $ 92,000,000 </p>"
      ]
     },
     "execution_count": 13,
     "metadata": {},
     "output_type": "execute_result"
    }
   ],
   "source": [
    "sibling_1=tag_object.next_sibling\n",
    "sibling_1"
   ]
  },
  {
   "cell_type": "markdown",
   "metadata": {},
   "source": [
    "`sibling_2` is the `header` element which is also a sibling of both `sibling_1` and `tag_object`\n"
   ]
  },
  {
   "cell_type": "code",
   "execution_count": 14,
   "metadata": {},
   "outputs": [
    {
     "data": {
      "text/plain": [
       "<h3> Stephen Curry</h3>"
      ]
     },
     "execution_count": 14,
     "metadata": {},
     "output_type": "execute_result"
    }
   ],
   "source": [
    "sibling_2=sibling_1.next_sibling\n",
    "sibling_2"
   ]
  },
  {
   "cell_type": "markdown",
   "metadata": {},
   "source": [
    "<h3 id=\"first_question\">Exercise: <code>next_sibling</code></h3>\n"
   ]
  },
  {
   "cell_type": "markdown",
   "metadata": {},
   "source": [
    "Using the object <code>sibling\\_2</code> and the property <code>next_sibling</code> to find the salary of Stephen Curry:\n"
   ]
  },
  {
   "cell_type": "code",
   "execution_count": 15,
   "metadata": {},
   "outputs": [
    {
     "data": {
      "text/plain": [
       "<p> Salary: $85,000, 000 </p>"
      ]
     },
     "execution_count": 15,
     "metadata": {},
     "output_type": "execute_result"
    }
   ],
   "source": [
    "sibling_2.next_sibling"
   ]
  },
  {
   "cell_type": "markdown",
   "metadata": {},
   "source": [
    "<details><summary>Click here for the solution</summary>\n",
    "\n",
    "```\n",
    "sibling_2.next_sibling\n",
    "\n",
    "```\n",
    "\n",
    "</details>\n"
   ]
  },
  {
   "cell_type": "markdown",
   "metadata": {},
   "source": [
    "### HTML Attributes\n"
   ]
  },
  {
   "cell_type": "markdown",
   "metadata": {},
   "source": [
    "If the tag has attributes, the tag <code>id=\"boldest\"</code> has an attribute <code>id</code> whose value is <code>boldest</code>. You can access a tag’s attributes by treating the tag like a dictionary:\n"
   ]
  },
  {
   "cell_type": "code",
   "execution_count": 16,
   "metadata": {},
   "outputs": [
    {
     "data": {
      "text/plain": [
       "'boldest'"
      ]
     },
     "execution_count": 16,
     "metadata": {},
     "output_type": "execute_result"
    }
   ],
   "source": [
    "tag_child['id']"
   ]
  },
  {
   "cell_type": "markdown",
   "metadata": {},
   "source": [
    "You can access that dictionary directly as <code>attrs</code>:\n"
   ]
  },
  {
   "cell_type": "code",
   "execution_count": 17,
   "metadata": {},
   "outputs": [
    {
     "data": {
      "text/plain": [
       "{'id': 'boldest'}"
      ]
     },
     "execution_count": 17,
     "metadata": {},
     "output_type": "execute_result"
    }
   ],
   "source": [
    "tag_child.attrs"
   ]
  },
  {
   "cell_type": "markdown",
   "metadata": {},
   "source": [
    "You can also work with Multi-valued attribute check out <a href=\"https://www.crummy.com/software/BeautifulSoup/bs4/doc/?utm_medium=Exinfluencer&utm_source=Exinfluencer&utm_content=000026UJ&utm_term=10006555&utm_id=NA-SkillsNetwork-Channel-SkillsNetworkCoursesIBMDeveloperSkillsNetworkPY0220ENSkillsNetwork23455606-2021-01-01\">\\[1]</a> for more.\n"
   ]
  },
  {
   "cell_type": "markdown",
   "metadata": {},
   "source": [
    "We can also obtain the content if the attribute of the <code>tag</code> using the Python <code>get()</code> method.\n"
   ]
  },
  {
   "cell_type": "code",
   "execution_count": 18,
   "metadata": {},
   "outputs": [
    {
     "data": {
      "text/plain": [
       "'boldest'"
      ]
     },
     "execution_count": 18,
     "metadata": {},
     "output_type": "execute_result"
    }
   ],
   "source": [
    "tag_child.get('id')"
   ]
  },
  {
   "cell_type": "markdown",
   "metadata": {},
   "source": [
    "### Navigable String\n"
   ]
  },
  {
   "cell_type": "markdown",
   "metadata": {},
   "source": [
    "A string corresponds to a bit of text or content within a tag. Beautiful Soup uses the <code>NavigableString</code> class to contain this text. In our HTML we can obtain the name of the first player by extracting the sting of the <code>Tag</code> object <code>tag_child</code> as follows:\n"
   ]
  },
  {
   "cell_type": "code",
   "execution_count": 19,
   "metadata": {},
   "outputs": [
    {
     "data": {
      "text/plain": [
       "'Lebron James'"
      ]
     },
     "execution_count": 19,
     "metadata": {},
     "output_type": "execute_result"
    }
   ],
   "source": [
    "tag_string=tag_child.string\n",
    "tag_string"
   ]
  },
  {
   "cell_type": "markdown",
   "metadata": {},
   "source": [
    "we can verify the type is Navigable String\n"
   ]
  },
  {
   "cell_type": "code",
   "execution_count": 20,
   "metadata": {},
   "outputs": [
    {
     "data": {
      "text/plain": [
       "bs4.element.NavigableString"
      ]
     },
     "execution_count": 20,
     "metadata": {},
     "output_type": "execute_result"
    }
   ],
   "source": [
    "type(tag_string)"
   ]
  },
  {
   "cell_type": "markdown",
   "metadata": {},
   "source": [
    "A NavigableString is just like a Python string or Unicode string, to be more precise. The main difference is that it also supports some  <code>BeautifulSoup</code> features. We can covert it to sting object in Python:\n"
   ]
  },
  {
   "cell_type": "code",
   "execution_count": 21,
   "metadata": {},
   "outputs": [
    {
     "data": {
      "text/plain": [
       "'Lebron James'"
      ]
     },
     "execution_count": 21,
     "metadata": {},
     "output_type": "execute_result"
    }
   ],
   "source": [
    "unicode_string = str(tag_string)\n",
    "unicode_string"
   ]
  },
  {
   "cell_type": "markdown",
   "metadata": {},
   "source": [
    "<h2 id=\"filter\">Filter</h2>\n"
   ]
  },
  {
   "cell_type": "markdown",
   "metadata": {},
   "source": [
    "Filters allow you to find complex patterns, the simplest filter is a string. In this section we will pass a string to a different filter method and Beautiful Soup will perform a match against that exact string.  Consider the following HTML of rocket launchs:\n"
   ]
  },
  {
   "cell_type": "code",
   "execution_count": 22,
   "metadata": {},
   "outputs": [
    {
     "data": {
      "text/html": [
       "<table>\n",
       "  <tr>\n",
       "    <td id='flight' >Flight No</td>\n",
       "    <td>Launch site</td> \n",
       "    <td>Payload mass</td>\n",
       "   </tr>\n",
       "  <tr> \n",
       "    <td>1</td>\n",
       "    <td><a href='https://en.wikipedia.org/wiki/Florida'>Florida</a></td>\n",
       "    <td>300 kg</td>\n",
       "  </tr>\n",
       "  <tr>\n",
       "    <td>2</td>\n",
       "    <td><a href='https://en.wikipedia.org/wiki/Texas'>Texas</a></td>\n",
       "    <td>94 kg</td>\n",
       "  </tr>\n",
       "  <tr>\n",
       "    <td>3</td>\n",
       "    <td><a href='https://en.wikipedia.org/wiki/Florida'>Florida<a> </td>\n",
       "    <td>80 kg</td>\n",
       "  </tr>\n",
       "</table>\n"
      ],
      "text/plain": [
       "<IPython.core.display.HTML object>"
      ]
     },
     "metadata": {},
     "output_type": "display_data"
    }
   ],
   "source": [
    "%%html\n",
    "<table>\n",
    "  <tr>\n",
    "    <td id='flight' >Flight No</td>\n",
    "    <td>Launch site</td> \n",
    "    <td>Payload mass</td>\n",
    "   </tr>\n",
    "  <tr> \n",
    "    <td>1</td>\n",
    "    <td><a href='https://en.wikipedia.org/wiki/Florida'>Florida</a></td>\n",
    "    <td>300 kg</td>\n",
    "  </tr>\n",
    "  <tr>\n",
    "    <td>2</td>\n",
    "    <td><a href='https://en.wikipedia.org/wiki/Texas'>Texas</a></td>\n",
    "    <td>94 kg</td>\n",
    "  </tr>\n",
    "  <tr>\n",
    "    <td>3</td>\n",
    "    <td><a href='https://en.wikipedia.org/wiki/Florida'>Florida<a> </td>\n",
    "    <td>80 kg</td>\n",
    "  </tr>\n",
    "</table>"
   ]
  },
  {
   "cell_type": "markdown",
   "metadata": {},
   "source": [
    "We can store it as a string in the variable <code>table</code>:\n"
   ]
  },
  {
   "cell_type": "code",
   "execution_count": 23,
   "metadata": {},
   "outputs": [],
   "source": [
    "table=\"<table><tr><td id='flight'>Flight No</td><td>Launch site</td> <td>Payload mass</td></tr><tr> <td>1</td><td><a href='https://en.wikipedia.org/wiki/Florida'>Florida<a></td><td>300 kg</td></tr><tr><td>2</td><td><a href='https://en.wikipedia.org/wiki/Texas'>Texas</a></td><td>94 kg</td></tr><tr><td>3</td><td><a href='https://en.wikipedia.org/wiki/Florida'>Florida<a> </td><td>80 kg</td></tr></table>\""
   ]
  },
  {
   "cell_type": "code",
   "execution_count": 24,
   "metadata": {},
   "outputs": [],
   "source": [
    "table_bs = BeautifulSoup(table, \"html.parser\")"
   ]
  },
  {
   "cell_type": "markdown",
   "metadata": {
    "tags": []
   },
   "source": [
    "## find All\n"
   ]
  },
  {
   "cell_type": "markdown",
   "metadata": {},
   "source": [
    "The <code>find_all()</code> method looks through a tag’s descendants and retrieves all descendants that match your filters.\n",
    "\n",
    "<p>\n",
    "The Method signature for <code>find_all(name, attrs, recursive, string, limit, **kwargs)<c/ode>\n",
    "</p>\n"
   ]
  },
  {
   "cell_type": "markdown",
   "metadata": {},
   "source": [
    "### Name\n"
   ]
  },
  {
   "cell_type": "markdown",
   "metadata": {},
   "source": [
    "When we set the <code>name</code> parameter to a tag name, the method will extract all the tags with that name and its children.\n"
   ]
  },
  {
   "cell_type": "code",
   "execution_count": 25,
   "metadata": {},
   "outputs": [
    {
     "data": {
      "text/plain": [
       "[<tr><td id=\"flight\">Flight No</td><td>Launch site</td> <td>Payload mass</td></tr>,\n",
       " <tr> <td>1</td><td><a href=\"https://en.wikipedia.org/wiki/Florida\">Florida<a></a></a></td><td>300 kg</td></tr>,\n",
       " <tr><td>2</td><td><a href=\"https://en.wikipedia.org/wiki/Texas\">Texas</a></td><td>94 kg</td></tr>,\n",
       " <tr><td>3</td><td><a href=\"https://en.wikipedia.org/wiki/Florida\">Florida<a> </a></a></td><td>80 kg</td></tr>]"
      ]
     },
     "execution_count": 25,
     "metadata": {},
     "output_type": "execute_result"
    }
   ],
   "source": [
    "table_rows=table_bs.find_all('tr')\n",
    "table_rows"
   ]
  },
  {
   "cell_type": "markdown",
   "metadata": {},
   "source": [
    "The result is a Python Iterable just like a list, each element is a <code>tag</code> object:\n"
   ]
  },
  {
   "cell_type": "code",
   "execution_count": 26,
   "metadata": {},
   "outputs": [
    {
     "data": {
      "text/plain": [
       "<tr><td id=\"flight\">Flight No</td><td>Launch site</td> <td>Payload mass</td></tr>"
      ]
     },
     "execution_count": 26,
     "metadata": {},
     "output_type": "execute_result"
    }
   ],
   "source": [
    "first_row =table_rows[0]\n",
    "first_row"
   ]
  },
  {
   "cell_type": "markdown",
   "metadata": {},
   "source": [
    "The type is <code>tag</code>\n"
   ]
  },
  {
   "cell_type": "code",
   "execution_count": 27,
   "metadata": {},
   "outputs": [
    {
     "name": "stdout",
     "output_type": "stream",
     "text": [
      "<class 'bs4.element.Tag'>\n"
     ]
    }
   ],
   "source": [
    "print(type(first_row))"
   ]
  },
  {
   "cell_type": "markdown",
   "metadata": {},
   "source": [
    "we can obtain the child\n"
   ]
  },
  {
   "cell_type": "code",
   "execution_count": 28,
   "metadata": {},
   "outputs": [
    {
     "data": {
      "text/plain": [
       "<td id=\"flight\">Flight No</td>"
      ]
     },
     "execution_count": 28,
     "metadata": {},
     "output_type": "execute_result"
    }
   ],
   "source": [
    "first_row.td"
   ]
  },
  {
   "cell_type": "code",
   "execution_count": 29,
   "metadata": {},
   "outputs": [],
   "source": [
    "# list(enumerate(table_rows))"
   ]
  },
  {
   "cell_type": "markdown",
   "metadata": {},
   "source": [
    "If we iterate through the list, each element corresponds to a row in the table:\n"
   ]
  },
  {
   "cell_type": "code",
   "execution_count": 30,
   "metadata": {},
   "outputs": [
    {
     "name": "stdout",
     "output_type": "stream",
     "text": [
      "row 0 is <tr><td id=\"flight\">Flight No</td><td>Launch site</td> <td>Payload mass</td></tr>\n",
      "row 1 is <tr> <td>1</td><td><a href=\"https://en.wikipedia.org/wiki/Florida\">Florida<a></a></a></td><td>300 kg</td></tr>\n",
      "row 2 is <tr><td>2</td><td><a href=\"https://en.wikipedia.org/wiki/Texas\">Texas</a></td><td>94 kg</td></tr>\n",
      "row 3 is <tr><td>3</td><td><a href=\"https://en.wikipedia.org/wiki/Florida\">Florida<a> </a></a></td><td>80 kg</td></tr>\n"
     ]
    }
   ],
   "source": [
    "for i,row in enumerate(table_rows):\n",
    "    print(\"row\",i,\"is\",row)\n",
    "    "
   ]
  },
  {
   "cell_type": "markdown",
   "metadata": {},
   "source": [
    "As <code>row</code> is a <code>cell</code> object, we can apply the method <code>find_all</code> to it and extract table cells in the object <code>cells</code> using the tag <code>td</code>, this is all the children with the name <code>td</code>. The result is a list, each element corresponds to a cell and is a <code>Tag</code> object, we can iterate through this list as well. We can extract the content using the <code>string</code>  attribute.\n"
   ]
  },
  {
   "cell_type": "code",
   "execution_count": 31,
   "metadata": {},
   "outputs": [
    {
     "name": "stdout",
     "output_type": "stream",
     "text": [
      "row 0\n",
      "colunm 0 cell <td id=\"flight\">Flight No</td>\n",
      "colunm 1 cell <td>Launch site</td>\n",
      "colunm 2 cell <td>Payload mass</td>\n",
      "row 1\n",
      "colunm 0 cell <td>1</td>\n",
      "colunm 1 cell <td><a href=\"https://en.wikipedia.org/wiki/Florida\">Florida<a></a></a></td>\n",
      "colunm 2 cell <td>300 kg</td>\n",
      "row 2\n",
      "colunm 0 cell <td>2</td>\n",
      "colunm 1 cell <td><a href=\"https://en.wikipedia.org/wiki/Texas\">Texas</a></td>\n",
      "colunm 2 cell <td>94 kg</td>\n",
      "row 3\n",
      "colunm 0 cell <td>3</td>\n",
      "colunm 1 cell <td><a href=\"https://en.wikipedia.org/wiki/Florida\">Florida<a> </a></a></td>\n",
      "colunm 2 cell <td>80 kg</td>\n"
     ]
    }
   ],
   "source": [
    "for i,row in enumerate(table_rows):\n",
    "    print(\"row\",i)\n",
    "    cells=row.find_all('td')\n",
    "    for j,cell in enumerate(cells):\n",
    "        print('colunm',j,\"cell\",cell)"
   ]
  },
  {
   "cell_type": "markdown",
   "metadata": {},
   "source": [
    "If we use a list we can match against any item in that list.\n"
   ]
  },
  {
   "cell_type": "code",
   "execution_count": 32,
   "metadata": {},
   "outputs": [
    {
     "data": {
      "text/plain": [
       "[<tr><td id=\"flight\">Flight No</td><td>Launch site</td> <td>Payload mass</td></tr>,\n",
       " <td id=\"flight\">Flight No</td>,\n",
       " <td>Launch site</td>,\n",
       " <td>Payload mass</td>,\n",
       " <tr> <td>1</td><td><a href=\"https://en.wikipedia.org/wiki/Florida\">Florida<a></a></a></td><td>300 kg</td></tr>,\n",
       " <td>1</td>,\n",
       " <td><a href=\"https://en.wikipedia.org/wiki/Florida\">Florida<a></a></a></td>,\n",
       " <td>300 kg</td>,\n",
       " <tr><td>2</td><td><a href=\"https://en.wikipedia.org/wiki/Texas\">Texas</a></td><td>94 kg</td></tr>,\n",
       " <td>2</td>,\n",
       " <td><a href=\"https://en.wikipedia.org/wiki/Texas\">Texas</a></td>,\n",
       " <td>94 kg</td>,\n",
       " <tr><td>3</td><td><a href=\"https://en.wikipedia.org/wiki/Florida\">Florida<a> </a></a></td><td>80 kg</td></tr>,\n",
       " <td>3</td>,\n",
       " <td><a href=\"https://en.wikipedia.org/wiki/Florida\">Florida<a> </a></a></td>,\n",
       " <td>80 kg</td>]"
      ]
     },
     "execution_count": 32,
     "metadata": {},
     "output_type": "execute_result"
    }
   ],
   "source": [
    "list_input=table_bs .find_all(name=[\"tr\", \"td\"])\n",
    "list_input"
   ]
  },
  {
   "cell_type": "markdown",
   "metadata": {},
   "source": [
    "## Attributes\n"
   ]
  },
  {
   "cell_type": "markdown",
   "metadata": {},
   "source": [
    "If the argument is not recognized it will be turned into a filter on the tag’s attributes. For example the <code>id</code>  argument, Beautiful Soup will filter against each tag’s <code>id</code> attribute. For example, the first <code>td</code> elements have a value of <code>id</code> of <code>flight</code>, therefore we can filter based on that <code>id</code> value.\n"
   ]
  },
  {
   "cell_type": "code",
   "execution_count": 33,
   "metadata": {},
   "outputs": [
    {
     "data": {
      "text/plain": [
       "[<td id=\"flight\">Flight No</td>]"
      ]
     },
     "execution_count": 33,
     "metadata": {},
     "output_type": "execute_result"
    }
   ],
   "source": [
    "table_bs.find_all(id=\"flight\")"
   ]
  },
  {
   "cell_type": "markdown",
   "metadata": {},
   "source": [
    "We can find all the elements that have links to the Florida Wikipedia page:\n"
   ]
  },
  {
   "cell_type": "code",
   "execution_count": 34,
   "metadata": {},
   "outputs": [
    {
     "data": {
      "text/plain": [
       "[<a href=\"https://en.wikipedia.org/wiki/Florida\">Florida<a></a></a>,\n",
       " <a href=\"https://en.wikipedia.org/wiki/Florida\">Florida<a> </a></a>]"
      ]
     },
     "execution_count": 34,
     "metadata": {},
     "output_type": "execute_result"
    }
   ],
   "source": [
    "list_input=table_bs.find_all(href=\"https://en.wikipedia.org/wiki/Florida\")\n",
    "list_input"
   ]
  },
  {
   "cell_type": "markdown",
   "metadata": {},
   "source": [
    "If we set the  <code>href</code> attribute to True, regardless of what the value is, the code finds all tags with <code>href</code> value:\n"
   ]
  },
  {
   "cell_type": "code",
   "execution_count": 35,
   "metadata": {},
   "outputs": [
    {
     "data": {
      "text/plain": [
       "[<a href=\"https://en.wikipedia.org/wiki/Florida\">Florida<a></a></a>,\n",
       " <a href=\"https://en.wikipedia.org/wiki/Texas\">Texas</a>,\n",
       " <a href=\"https://en.wikipedia.org/wiki/Florida\">Florida<a> </a></a>]"
      ]
     },
     "execution_count": 35,
     "metadata": {},
     "output_type": "execute_result"
    }
   ],
   "source": [
    "table_bs.find_all(href=True)"
   ]
  },
  {
   "cell_type": "markdown",
   "metadata": {},
   "source": [
    "There are other methods for dealing with attributes and other related methods; Check out the following <a href='https://www.crummy.com/software/BeautifulSoup/bs4/doc/?utm_medium=Exinfluencer&utm_source=Exinfluencer&utm_content=000026UJ&utm_term=10006555&utm_id=NA-SkillsNetwork-Channel-SkillsNetworkCoursesIBMDeveloperSkillsNetworkPY0220ENSkillsNetwork23455606-2021-01-01#css-selectors'>link</a>\n"
   ]
  },
  {
   "cell_type": "markdown",
   "metadata": {},
   "source": [
    "<h3 id=\"exer_type\">Exercise: <code>find_all</code></h3>\n"
   ]
  },
  {
   "cell_type": "markdown",
   "metadata": {},
   "source": [
    "Using the logic above, find all the elements without <code>href</code> value\n"
   ]
  },
  {
   "cell_type": "code",
   "execution_count": 36,
   "metadata": {
    "tags": []
   },
   "outputs": [
    {
     "data": {
      "text/plain": [
       "[<table><tr><td id=\"flight\">Flight No</td><td>Launch site</td> <td>Payload mass</td></tr><tr> <td>1</td><td><a href=\"https://en.wikipedia.org/wiki/Florida\">Florida<a></a></a></td><td>300 kg</td></tr><tr><td>2</td><td><a href=\"https://en.wikipedia.org/wiki/Texas\">Texas</a></td><td>94 kg</td></tr><tr><td>3</td><td><a href=\"https://en.wikipedia.org/wiki/Florida\">Florida<a> </a></a></td><td>80 kg</td></tr></table>,\n",
       " <tr><td id=\"flight\">Flight No</td><td>Launch site</td> <td>Payload mass</td></tr>,\n",
       " <td id=\"flight\">Flight No</td>,\n",
       " <td>Launch site</td>,\n",
       " <td>Payload mass</td>,\n",
       " <tr> <td>1</td><td><a href=\"https://en.wikipedia.org/wiki/Florida\">Florida<a></a></a></td><td>300 kg</td></tr>,\n",
       " <td>1</td>,\n",
       " <td><a href=\"https://en.wikipedia.org/wiki/Florida\">Florida<a></a></a></td>,\n",
       " <a></a>,\n",
       " <td>300 kg</td>,\n",
       " <tr><td>2</td><td><a href=\"https://en.wikipedia.org/wiki/Texas\">Texas</a></td><td>94 kg</td></tr>,\n",
       " <td>2</td>,\n",
       " <td><a href=\"https://en.wikipedia.org/wiki/Texas\">Texas</a></td>,\n",
       " <td>94 kg</td>,\n",
       " <tr><td>3</td><td><a href=\"https://en.wikipedia.org/wiki/Florida\">Florida<a> </a></a></td><td>80 kg</td></tr>,\n",
       " <td>3</td>,\n",
       " <td><a href=\"https://en.wikipedia.org/wiki/Florida\">Florida<a> </a></a></td>,\n",
       " <a> </a>,\n",
       " <td>80 kg</td>]"
      ]
     },
     "execution_count": 36,
     "metadata": {},
     "output_type": "execute_result"
    }
   ],
   "source": [
    "table_bs.find_all(href=False)"
   ]
  },
  {
   "cell_type": "markdown",
   "metadata": {},
   "source": [
    "<details><summary>Click here for the solution</summary>\n",
    "\n",
    "```\n",
    "table_bs.find_all(href=False)\n",
    "\n",
    "```\n",
    "\n",
    "</details>\n"
   ]
  },
  {
   "cell_type": "markdown",
   "metadata": {},
   "source": [
    "Using the soup object <code>soup</code>, find the element with the <code>id</code> attribute content set to <code>\"boldest\"</code>.\n"
   ]
  },
  {
   "cell_type": "code",
   "execution_count": 37,
   "metadata": {
    "tags": []
   },
   "outputs": [
    {
     "data": {
      "text/plain": [
       "[<b id=\"boldest\">Lebron James</b>]"
      ]
     },
     "execution_count": 37,
     "metadata": {},
     "output_type": "execute_result"
    }
   ],
   "source": [
    "soup.find_all(id=\"boldest\")"
   ]
  },
  {
   "cell_type": "markdown",
   "metadata": {},
   "source": [
    "<details><summary>Click here for the solution</summary>\n",
    "\n",
    "```\n",
    "soup.find_all(id=\"boldest\")\n",
    "\n",
    "```\n",
    "\n",
    "</details>\n"
   ]
  },
  {
   "cell_type": "markdown",
   "metadata": {},
   "source": [
    "### string\n"
   ]
  },
  {
   "cell_type": "markdown",
   "metadata": {
    "tags": []
   },
   "source": [
    "With string you can search for strings instead of tags, where we find all the elments with Florida:\n"
   ]
  },
  {
   "cell_type": "code",
   "execution_count": 38,
   "metadata": {},
   "outputs": [
    {
     "data": {
      "text/plain": [
       "['Florida', 'Florida']"
      ]
     },
     "execution_count": 38,
     "metadata": {},
     "output_type": "execute_result"
    }
   ],
   "source": [
    "table_bs.find_all(string=\"Florida\")"
   ]
  },
  {
   "cell_type": "markdown",
   "metadata": {},
   "source": [
    "## find\n"
   ]
  },
  {
   "cell_type": "markdown",
   "metadata": {},
   "source": [
    "The <code>find_all()</code> method scans the entire document looking for results, it’s if you are looking for one element you can use the <code>find()</code> method to find the first element in the document. Consider the following two table:\n"
   ]
  },
  {
   "cell_type": "code",
   "execution_count": 39,
   "metadata": {
    "tags": []
   },
   "outputs": [
    {
     "data": {
      "text/html": [
       "<h3>Rocket Launch </h3>\n",
       "\n",
       "<p>\n",
       "<table class='rocket'>\n",
       "  <tr>\n",
       "    <td>Flight No</td>\n",
       "    <td>Launch site</td> \n",
       "    <td>Payload mass</td>\n",
       "  </tr>\n",
       "  <tr>\n",
       "    <td>1</td>\n",
       "    <td>Florida</td>\n",
       "    <td>300 kg</td>\n",
       "  </tr>\n",
       "  <tr>\n",
       "    <td>2</td>\n",
       "    <td>Texas</td>\n",
       "    <td>94 kg</td>\n",
       "  </tr>\n",
       "  <tr>\n",
       "    <td>3</td>\n",
       "    <td>Florida </td>\n",
       "    <td>80 kg</td>\n",
       "  </tr>\n",
       "</table>\n",
       "</p>\n",
       "<p>\n",
       "\n",
       "<h3>Pizza Party  </h3>\n",
       "  \n",
       "    \n",
       "<table class='pizza'>\n",
       "  <tr>\n",
       "    <td>Pizza Place</td>\n",
       "    <td>Orders</td> \n",
       "    <td>Slices </td>\n",
       "   </tr>\n",
       "  <tr>\n",
       "    <td>Domino's Pizza</td>\n",
       "    <td>10</td>\n",
       "    <td>100</td>\n",
       "  </tr>\n",
       "  <tr>\n",
       "    <td>Little Caesars</td>\n",
       "    <td>12</td>\n",
       "    <td >144 </td>\n",
       "  </tr>\n",
       "  <tr>\n",
       "    <td>Papa John's </td>\n",
       "    <td>15 </td>\n",
       "    <td>165</td>\n",
       "  </tr>\n"
      ],
      "text/plain": [
       "<IPython.core.display.HTML object>"
      ]
     },
     "metadata": {},
     "output_type": "display_data"
    }
   ],
   "source": [
    "%%html\n",
    "<h3>Rocket Launch </h3>\n",
    "\n",
    "<p>\n",
    "<table class='rocket'>\n",
    "  <tr>\n",
    "    <td>Flight No</td>\n",
    "    <td>Launch site</td> \n",
    "    <td>Payload mass</td>\n",
    "  </tr>\n",
    "  <tr>\n",
    "    <td>1</td>\n",
    "    <td>Florida</td>\n",
    "    <td>300 kg</td>\n",
    "  </tr>\n",
    "  <tr>\n",
    "    <td>2</td>\n",
    "    <td>Texas</td>\n",
    "    <td>94 kg</td>\n",
    "  </tr>\n",
    "  <tr>\n",
    "    <td>3</td>\n",
    "    <td>Florida </td>\n",
    "    <td>80 kg</td>\n",
    "  </tr>\n",
    "</table>\n",
    "</p>\n",
    "<p>\n",
    "\n",
    "<h3>Pizza Party  </h3>\n",
    "  \n",
    "    \n",
    "<table class='pizza'>\n",
    "  <tr>\n",
    "    <td>Pizza Place</td>\n",
    "    <td>Orders</td> \n",
    "    <td>Slices </td>\n",
    "   </tr>\n",
    "  <tr>\n",
    "    <td>Domino's Pizza</td>\n",
    "    <td>10</td>\n",
    "    <td>100</td>\n",
    "  </tr>\n",
    "  <tr>\n",
    "    <td>Little Caesars</td>\n",
    "    <td>12</td>\n",
    "    <td >144 </td>\n",
    "  </tr>\n",
    "  <tr>\n",
    "    <td>Papa John's </td>\n",
    "    <td>15 </td>\n",
    "    <td>165</td>\n",
    "  </tr>\n"
   ]
  },
  {
   "cell_type": "markdown",
   "metadata": {},
   "source": [
    "We store the HTML as a Python string and assign <code>two_tables</code>:\n"
   ]
  },
  {
   "cell_type": "code",
   "execution_count": 40,
   "metadata": {
    "tags": []
   },
   "outputs": [],
   "source": [
    "two_tables=\"<h3>Rocket Launch </h3><p><table class='rocket'><tr><td>Flight No</td><td>Launch site</td> <td>Payload mass</td></tr><tr><td>1</td><td>Florida</td><td>300 kg</td></tr><tr><td>2</td><td>Texas</td><td>94 kg</td></tr><tr><td>3</td><td>Florida </td><td>80 kg</td></tr></table></p><p><h3>Pizza Party  </h3><table class='pizza'><tr><td>Pizza Place</td><td>Orders</td> <td>Slices </td></tr><tr><td>Domino's Pizza</td><td>10</td><td>100</td></tr><tr><td>Little Caesars</td><td>12</td><td >144 </td></tr><tr><td>Papa John's </td><td>15 </td><td>165</td></tr>\""
   ]
  },
  {
   "cell_type": "markdown",
   "metadata": {},
   "source": [
    "We create a <code>BeautifulSoup</code> object  <code>two_tables_bs</code>\n"
   ]
  },
  {
   "cell_type": "code",
   "execution_count": 41,
   "metadata": {},
   "outputs": [],
   "source": [
    "two_tables_bs= BeautifulSoup(two_tables, 'html.parser')"
   ]
  },
  {
   "cell_type": "markdown",
   "metadata": {},
   "source": [
    "We can find the first table using the tag name table\n"
   ]
  },
  {
   "cell_type": "code",
   "execution_count": 42,
   "metadata": {},
   "outputs": [
    {
     "data": {
      "text/plain": [
       "<table class=\"rocket\"><tr><td>Flight No</td><td>Launch site</td> <td>Payload mass</td></tr><tr><td>1</td><td>Florida</td><td>300 kg</td></tr><tr><td>2</td><td>Texas</td><td>94 kg</td></tr><tr><td>3</td><td>Florida </td><td>80 kg</td></tr></table>"
      ]
     },
     "execution_count": 42,
     "metadata": {},
     "output_type": "execute_result"
    }
   ],
   "source": [
    "two_tables_bs.find(\"table\")"
   ]
  },
  {
   "cell_type": "markdown",
   "metadata": {},
   "source": [
    "We can filter on the class attribute to find the second table, but because class is a keyword in Python, we add an underscore.\n"
   ]
  },
  {
   "cell_type": "code",
   "execution_count": 43,
   "metadata": {},
   "outputs": [
    {
     "data": {
      "text/plain": [
       "<table class=\"pizza\"><tr><td>Pizza Place</td><td>Orders</td> <td>Slices </td></tr><tr><td>Domino's Pizza</td><td>10</td><td>100</td></tr><tr><td>Little Caesars</td><td>12</td><td>144 </td></tr><tr><td>Papa John's </td><td>15 </td><td>165</td></tr></table>"
      ]
     },
     "execution_count": 43,
     "metadata": {},
     "output_type": "execute_result"
    }
   ],
   "source": [
    "two_tables_bs.find(\"table\",class_='pizza')"
   ]
  },
  {
   "cell_type": "markdown",
   "metadata": {},
   "source": [
    "<h2 id=\"DSCW\">Downloading And Scraping The Contents Of A Web Page</h2> \n"
   ]
  },
  {
   "cell_type": "markdown",
   "metadata": {},
   "source": [
    "We Download the contents of the web page:\n"
   ]
  },
  {
   "cell_type": "code",
   "execution_count": 44,
   "metadata": {},
   "outputs": [],
   "source": [
    "url = \"http://www.ibm.com\""
   ]
  },
  {
   "cell_type": "markdown",
   "metadata": {},
   "source": [
    "We use <code>get</code> to download the contents of the webpage in text format and store in a variable called <code>data</code>:\n"
   ]
  },
  {
   "cell_type": "code",
   "execution_count": 45,
   "metadata": {},
   "outputs": [],
   "source": [
    "data  = requests.get(url).text "
   ]
  },
  {
   "cell_type": "markdown",
   "metadata": {},
   "source": [
    "We create a <code>BeautifulSoup</code> object using the <code>BeautifulSoup</code> constructor\n"
   ]
  },
  {
   "cell_type": "code",
   "execution_count": 46,
   "metadata": {},
   "outputs": [],
   "source": [
    "soup = BeautifulSoup(data,\"html.parser\")  # create a soup object using the variable 'data'"
   ]
  },
  {
   "cell_type": "code",
   "execution_count": 47,
   "metadata": {
    "tags": []
   },
   "outputs": [
    {
     "name": "stdout",
     "output_type": "stream",
     "text": [
      "<!DOCTYPE html>\n",
      "<html lang=\"en-US\">\n",
      " <head>\n",
      "  <meta content=\"width=device-width\" name=\"viewport\"/>\n",
      "  <meta charset=\"utf-8\"/>\n",
      "  <title>\n",
      "   IBM - United States\n",
      "  </title>\n",
      "  <link href=\"https://www.ibm.com/us-en\" rel=\"canonical\"/>\n",
      "  <meta content=\"index,follow\" name=\"robots\"/>\n",
      "  <meta content=\"For more than a century IBM has been dedicated to every client's success and to creating innovations that matter for the world\" name=\"description\"/>\n",
      "  <meta content=\"IBM\" name=\"keywords\"/>\n",
      "  <meta content=\"IE=Edge\" http-equiv=\"X-UA-Compatible\"/>\n",
      "  <meta content=\"no-cache, no-store, must-revalidate\" http-equiv=\"Cache-Control\"/>\n",
      "  <meta content=\"no-cache\" http-equiv=\"Pragma\"/>\n",
      "  <meta content=\"0\" http-equiv=\"Expires\"/>\n",
      "  <link href=\"//www.ibm.com/favicon.ico\" rel=\"icon\"/>\n",
      "  <meta content=\"^1.32.1\" name=\"ibmdotcom.version.react\"/>\n",
      "  <meta content=\"^1.32.1\" name=\"ibmdotcom.version.styles\"/>\n",
      "  <meta content=\"2022-08-12T17:47:56.389Z\" name=\"ibmdotcom.build.time\"/>\n",
      "  <meta content=\"2015-10-01\" name=\"dcterms.date\"/>\n",
      "  <meta content=\"Â© Copyright IBM Corp. 2020\" name=\"dcterms.rights\"/>\n",
      "  <meta content=\"US\" name=\"geo.country\"/>\n",
      "  <script>\n",
      "   digitalData={\"page\":{\"category\":{\"primaryCategory\":\"SB03\"},\"pageInfo\":{\"effectiveDate\":\"2022-06-02\",\"expiryDate\":\"2027-06-02\",\"language\":\"en-us\",\"publishDate\":\"2012-06-02\",\"publisher\":\"IBM Corporation\",\"version\":\"Carbon:IBM.com Library v1.32.0\",\"ibm\":{\"contentDelivery\":\"Hand coded\",\"contentProducer\":\"Lance Tappana\",\"country\":\"us\",\"industry\":\"ZZ\",\"owner\":\"Corporate Webmaster/New York/IBM\",\"siteID\":\"GLOBAL\",\"subject\":\"IBM000\",\"type\":\"CT052\",\"messaging\":{\"routing\":{\"focusArea\":\"Miscellaneous - Cross IBM\",\"languageCode\":\"en\",\"regionCode\":\"US\"},\"translation\":{\"languageCode\":\"en\",\"regionCode\":\"US\"}}},\"hotjar\":{\"enabled\":0}}}};\n",
      "  </script>\n",
      "  <script>\n",
      "   window.hj=window.hj||function(){(hj.q=hj.q||[]).push(arguments)};\n",
      "            window.hj('tagRecording', ['hjLoaded']);\n",
      "            document.addEventListener('onMegaMenuToggle', e => {\n",
      "              if(e.target.getAttribute(\"data-title\") == 'products-solutions') {\n",
      "                window.hj('trigger', 'MM_products-solutions');\n",
      "              }\n",
      "              if(e.target.getAttribute(\"data-title\") == 'services-consulting') {\n",
      "                window.hj('trigger', 'MM_services-consulting');\n",
      "              }\n",
      "              if(e.target.getAttribute(\"data-title\") == 'learn-support') {\n",
      "                window.hj('trigger', 'MM_learn-support');\n",
      "              }\n",
      "              if(e.target.getAttribute(\"data-title\") == 'explore-more') {\n",
      "                window.hj('trigger', 'MM_explore-more');\n",
      "              }\n",
      "            });\n",
      "  </script>\n",
      "  <link href=\"https://www.ibm.com/us-en\" hreflang=\"en-us\" rel=\"alternate\"/>\n",
      "  <link href=\"https://www.ibm.com\" hreflang=\"x-default\" rel=\"alternate\"/>\n",
      "  <link href=\"https://www.ibm.com/af-en\" hreflang=\"en-af\" rel=\"alternate\"/>\n",
      "  <link href=\"https://www.ibm.com/dz-fr\" hreflang=\"fr-dz\" rel=\"alternate\"/>\n",
      "  <link href=\"https://www.ibm.com/ao-pt\" hreflang=\"pt-ao\" rel=\"alternate\"/>\n",
      "  <link href=\"https://www.ibm.com/ai-en\" hreflang=\"en-ai\" rel=\"alternate\"/>\n",
      "  <link href=\"https://www.ibm.com/ag-en\" hreflang=\"en-ag\" rel=\"alternate\"/>\n",
      "  <link href=\"https://www.ibm.com/ar-es\" hreflang=\"es-ar\" rel=\"alternate\"/>\n",
      "  <link href=\"https://www.ibm.com/aw-en\" hreflang=\"en-aw\" rel=\"alternate\"/>\n",
      "  <link href=\"https://www.ibm.com/au-en\" hreflang=\"en-au\" rel=\"alternate\"/>\n",
      "  <link href=\"https://www.ibm.com/at-de\" hreflang=\"de-at\" rel=\"alternate\"/>\n",
      "  <link href=\"https://www.ibm.com/bs-en\" hreflang=\"en-bs\" rel=\"alternate\"/>\n",
      "  <link href=\"https://www.ibm.com/bh-en\" hreflang=\"en-bh\" rel=\"alternate\"/>\n",
      "  <link href=\"https://www.ibm.com/bd-en\" hreflang=\"en-bd\" rel=\"alternate\"/>\n",
      "  <link href=\"https://www.ibm.com/bb-en\" hreflang=\"en-bb\" rel=\"alternate\"/>\n",
      "  <link href=\"https://www.ibm.com/be-en\" hreflang=\"en-be\" rel=\"alternate\"/>\n",
      "  <link href=\"https://www.ibm.com/bm-en\" hreflang=\"en-bm\" rel=\"alternate\"/>\n",
      "  <link href=\"https://www.ibm.com/bo-es\" hreflang=\"es-bo\" rel=\"alternate\"/>\n",
      "  <link href=\"https://www.ibm.com/bw-en\" hreflang=\"en-bw\" rel=\"alternate\"/>\n",
      "  <link href=\"https://www.ibm.com/br-pt\" hreflang=\"pt-br\" rel=\"alternate\"/>\n",
      "  <link href=\"https://www.ibm.com/vg-en\" hreflang=\"en-vg\" rel=\"alternate\"/>\n",
      "  <link href=\"https://www.ibm.com/bn-en\" hreflang=\"en-bn\" rel=\"alternate\"/>\n",
      "  <link href=\"https://www.ibm.com/bg-en\" hreflang=\"en-bg\" rel=\"alternate\"/>\n",
      "  <link href=\"https://www.ibm.com/bf-fr\" hreflang=\"fr-bf\" rel=\"alternate\"/>\n",
      "  <link href=\"https://www.ibm.com/kh-en\" hreflang=\"en-kh\" rel=\"alternate\"/>\n",
      "  <link href=\"https://www.ibm.com/cm-fr\" hreflang=\"fr-cm\" rel=\"alternate\"/>\n",
      "  <link href=\"https://www.ibm.com/ca-en\" hreflang=\"en-ca\" rel=\"alternate\"/>\n",
      "  <link href=\"https://www.ibm.com/ca-fr\" hreflang=\"fr-ca\" rel=\"alternate\"/>\n",
      "  <link href=\"https://www.ibm.com/ky-en\" hreflang=\"en-ky\" rel=\"alternate\"/>\n",
      "  <link href=\"https://www.ibm.com/td-fr\" hreflang=\"fr-td\" rel=\"alternate\"/>\n",
      "  <link href=\"https://www.ibm.com/cl-es\" hreflang=\"es-cl\" rel=\"alternate\"/>\n",
      "  <link href=\"https://www.ibm.com/cn-zh\" hreflang=\"zh-cn\" rel=\"alternate\"/>\n",
      "  <link href=\"https://www.ibm.com/co-es\" hreflang=\"es-co\" rel=\"alternate\"/>\n",
      "  <link href=\"https://www.ibm.com/cd-fr\" hreflang=\"fr-cd\" rel=\"alternate\"/>\n",
      "  <link href=\"https://www.ibm.com/cg-fr\" hreflang=\"fr-cg\" rel=\"alternate\"/>\n",
      "  <link href=\"https://www.ibm.com/cr-es\" hreflang=\"es-cr\" rel=\"alternate\"/>\n",
      "  <link href=\"https://www.ibm.com/hr-en\" hreflang=\"en-hr\" rel=\"alternate\"/>\n",
      "  <link href=\"https://www.ibm.com/cw-en\" hreflang=\"en-cw\" rel=\"alternate\"/>\n",
      "  <link href=\"https://www.ibm.com/cy-en\" hreflang=\"en-cy\" rel=\"alternate\"/>\n",
      "  <link href=\"https://www.ibm.com/cz-en\" hreflang=\"en-cz\" rel=\"alternate\"/>\n",
      "  <link href=\"https://www.ibm.com/dm-en\" hreflang=\"en-dm\" rel=\"alternate\"/>\n",
      "  <link href=\"https://www.ibm.com/dk-en\" hreflang=\"en-dk\" rel=\"alternate\"/>\n",
      "  <link href=\"https://www.ibm.com/ec-es\" hreflang=\"es-ec\" rel=\"alternate\"/>\n",
      "  <link href=\"https://www.ibm.com/eg-en\" hreflang=\"en-eg\" rel=\"alternate\"/>\n",
      "  <link href=\"https://www.ibm.com/ee-en\" hreflang=\"en-ee\" rel=\"alternate\"/>\n",
      "  <link href=\"https://www.ibm.com/et-en\" hreflang=\"en-et\" rel=\"alternate\"/>\n",
      "  <link href=\"https://www.ibm.com/fi-en\" hreflang=\"en-fi\" rel=\"alternate\"/>\n",
      "  <link href=\"https://www.ibm.com/fr-fr\" hreflang=\"fr-fr\" rel=\"alternate\"/>\n",
      "  <link href=\"https://www.ibm.com/ga-fr\" hreflang=\"fr-ga\" rel=\"alternate\"/>\n",
      "  <link href=\"https://www.ibm.com/de-de\" hreflang=\"de-de\" rel=\"alternate\"/>\n",
      "  <link href=\"https://www.ibm.com/gh-en\" hreflang=\"en-gh\" rel=\"alternate\"/>\n",
      "  <link href=\"https://www.ibm.com/gr-en\" hreflang=\"en-gr\" rel=\"alternate\"/>\n",
      "  <link href=\"https://www.ibm.com/gd-en\" hreflang=\"en-gd\" rel=\"alternate\"/>\n",
      "  <link href=\"https://www.ibm.com/gy-en\" hreflang=\"en-gy\" rel=\"alternate\"/>\n",
      "  <link href=\"https://www.ibm.com/hk-en\" hreflang=\"en-hk\" rel=\"alternate\"/>\n",
      "  <link href=\"https://www.ibm.com/hu-en\" hreflang=\"en-hu\" rel=\"alternate\"/>\n",
      "  <link href=\"https://www.ibm.com/in-en\" hreflang=\"en-in\" rel=\"alternate\"/>\n",
      "  <link href=\"https://www.ibm.com/id-en\" hreflang=\"en-id\" rel=\"alternate\"/>\n",
      "  <link href=\"https://www.ibm.com/iq-en\" hreflang=\"en-iq\" rel=\"alternate\"/>\n",
      "  <link href=\"https://www.ibm.com/ie-en\" hreflang=\"en-ie\" rel=\"alternate\"/>\n",
      "  <link href=\"https://www.ibm.com/il-en\" hreflang=\"en-il\" rel=\"alternate\"/>\n",
      "  <link href=\"https://www.ibm.com/it-it\" hreflang=\"it-it\" rel=\"alternate\"/>\n",
      "  <link href=\"https://www.ibm.com/ci-fr\" hreflang=\"fr-ci\" rel=\"alternate\"/>\n",
      "  <link href=\"https://www.ibm.com/jm-en\" hreflang=\"en-jm\" rel=\"alternate\"/>\n",
      "  <link href=\"https://www.ibm.com/jp-ja\" hreflang=\"ja-jp\" rel=\"alternate\"/>\n",
      "  <link href=\"https://www.ibm.com/jo-en\" hreflang=\"en-jo\" rel=\"alternate\"/>\n",
      "  <link href=\"https://www.ibm.com/kz-en\" hreflang=\"en-kz\" rel=\"alternate\"/>\n",
      "  <link href=\"https://www.ibm.com/ke-en\" hreflang=\"en-ke\" rel=\"alternate\"/>\n",
      "  <link href=\"https://www.ibm.com/kr-ko\" hreflang=\"ko-kr\" rel=\"alternate\"/>\n",
      "  <link href=\"https://www.ibm.com/kw-en\" hreflang=\"en-kw\" rel=\"alternate\"/>\n",
      "  <link href=\"https://www.ibm.com/lv-en\" hreflang=\"en-lv\" rel=\"alternate\"/>\n",
      "  <link href=\"https://www.ibm.com/lb-en\" hreflang=\"en-lb\" rel=\"alternate\"/>\n",
      "  <link href=\"https://www.ibm.com/ly-en\" hreflang=\"en-ly\" rel=\"alternate\"/>\n",
      "  <link href=\"https://www.ibm.com/lt-en\" hreflang=\"en-lt\" rel=\"alternate\"/>\n",
      "  <link href=\"https://www.ibm.com/mw-en\" hreflang=\"en-mw\" rel=\"alternate\"/>\n",
      "  <link href=\"https://www.ibm.com/my-en\" hreflang=\"en-my\" rel=\"alternate\"/>\n",
      "  <link href=\"https://www.ibm.com/mu-fr\" hreflang=\"fr-mu\" rel=\"alternate\"/>\n",
      "  <link href=\"https://www.ibm.com/mx-es\" hreflang=\"es-mx\" rel=\"alternate\"/>\n",
      "  <link href=\"https://www.ibm.com/ms-en\" hreflang=\"en-ms\" rel=\"alternate\"/>\n",
      "  <link href=\"https://www.ibm.com/ma-fr\" hreflang=\"fr-ma\" rel=\"alternate\"/>\n",
      "  <link href=\"https://www.ibm.com/mz-pt\" hreflang=\"pt-mz\" rel=\"alternate\"/>\n",
      "  <link href=\"https://www.ibm.com/na-en\" hreflang=\"en-na\" rel=\"alternate\"/>\n",
      "  <link href=\"https://www.ibm.com/np-en\" hreflang=\"en-np\" rel=\"alternate\"/>\n",
      "  <link href=\"https://www.ibm.com/nl-en\" hreflang=\"en-nl\" rel=\"alternate\"/>\n",
      "  <link href=\"https://www.ibm.com/nz-en\" hreflang=\"en-nz\" rel=\"alternate\"/>\n",
      "  <link href=\"https://www.ibm.com/ne-fr\" hreflang=\"fr-ne\" rel=\"alternate\"/>\n",
      "  <link href=\"https://www.ibm.com/ng-en\" hreflang=\"en-ng\" rel=\"alternate\"/>\n",
      "  <link href=\"https://www.ibm.com/no-en\" hreflang=\"en-no\" rel=\"alternate\"/>\n",
      "  <link href=\"https://www.ibm.com/om-en\" hreflang=\"en-om\" rel=\"alternate\"/>\n",
      "  <link href=\"https://www.ibm.com/pk-en\" hreflang=\"en-pk\" rel=\"alternate\"/>\n",
      "  <link href=\"https://www.ibm.com/py-es\" hreflang=\"es-py\" rel=\"alternate\"/>\n",
      "  <link href=\"https://www.ibm.com/pe-es\" hreflang=\"es-pe\" rel=\"alternate\"/>\n",
      "  <link href=\"https://www.ibm.com/ph-en\" hreflang=\"en-ph\" rel=\"alternate\"/>\n",
      "  <link href=\"https://www.ibm.com/pl-pl\" hreflang=\"pl-pl\" rel=\"alternate\"/>\n",
      "  <link href=\"https://www.ibm.com/pt-en\" hreflang=\"en-pt\" rel=\"alternate\"/>\n",
      "  <link href=\"https://www.ibm.com/qa-en\" hreflang=\"en-qa\" rel=\"alternate\"/>\n",
      "  <link href=\"https://www.ibm.com/ro-en\" hreflang=\"en-ro\" rel=\"alternate\"/>\n",
      "  <link href=\"https://www.ibm.com/ru-ru\" hreflang=\"ru-ru\" rel=\"alternate\"/>\n",
      "  <link href=\"https://www.ibm.com/kn-en\" hreflang=\"en-kn\" rel=\"alternate\"/>\n",
      "  <link href=\"https://www.ibm.com/lc-en\" hreflang=\"en-lc\" rel=\"alternate\"/>\n",
      "  <link href=\"https://www.ibm.com/vc-en\" hreflang=\"en-vc\" rel=\"alternate\"/>\n",
      "  <link href=\"https://www.ibm.com/sa-en\" hreflang=\"en-sa\" rel=\"alternate\"/>\n",
      "  <link href=\"https://www.ibm.com/sn-fr\" hreflang=\"fr-sn\" rel=\"alternate\"/>\n",
      "  <link href=\"https://www.ibm.com/rs-en\" hreflang=\"en-rs\" rel=\"alternate\"/>\n",
      "  <link href=\"https://www.ibm.com/sc-fr\" hreflang=\"fr-sc\" rel=\"alternate\"/>\n",
      "  <link href=\"https://www.ibm.com/sl-en\" hreflang=\"en-sl\" rel=\"alternate\"/>\n",
      "  <link href=\"https://www.ibm.com/sg-en\" hreflang=\"en-sg\" rel=\"alternate\"/>\n",
      "  <link href=\"https://www.ibm.com/sk-en\" hreflang=\"en-sk\" rel=\"alternate\"/>\n",
      "  <link href=\"https://www.ibm.com/si-en\" hreflang=\"en-si\" rel=\"alternate\"/>\n",
      "  <link href=\"https://www.ibm.com/za-en\" hreflang=\"en-za\" rel=\"alternate\"/>\n",
      "  <link href=\"https://www.ibm.com/es-es\" hreflang=\"es-es\" rel=\"alternate\"/>\n",
      "  <link href=\"https://www.ibm.com/lk-en\" hreflang=\"en-lk\" rel=\"alternate\"/>\n",
      "  <link href=\"https://www.ibm.com/sr-en\" hreflang=\"en-sr\" rel=\"alternate\"/>\n",
      "  <link href=\"https://www.ibm.com/se-en\" hreflang=\"en-se\" rel=\"alternate\"/>\n",
      "  <link href=\"https://www.ibm.com/ch-fr\" hreflang=\"fr-ch\" rel=\"alternate\"/>\n",
      "  <link href=\"https://www.ibm.com/ch-de\" hreflang=\"de-ch\" rel=\"alternate\"/>\n",
      "  <link href=\"https://www.ibm.com/tw-zh\" hreflang=\"zh-tw\" rel=\"alternate\"/>\n",
      "  <link href=\"https://www.ibm.com/tz-en\" hreflang=\"en-tz\" rel=\"alternate\"/>\n",
      "  <link href=\"https://www.ibm.com/th-en\" hreflang=\"en-th\" rel=\"alternate\"/>\n",
      "  <link href=\"https://www.ibm.com/tt-en\" hreflang=\"en-tt\" rel=\"alternate\"/>\n",
      "  <link href=\"https://www.ibm.com/tn-fr\" hreflang=\"fr-tn\" rel=\"alternate\"/>\n",
      "  <link href=\"https://www.ibm.com/tr-tr\" hreflang=\"tr-tr\" rel=\"alternate\"/>\n",
      "  <link href=\"https://www.ibm.com/ye-en\" hreflang=\"en-ye\" rel=\"alternate\"/>\n",
      "  <link href=\"https://www.ibm.com/tc-en\" hreflang=\"en-tc\" rel=\"alternate\"/>\n",
      "  <link href=\"https://www.ibm.com/ua-en\" hreflang=\"en-ua\" rel=\"alternate\"/>\n",
      "  <link href=\"https://www.ibm.com/ug-en\" hreflang=\"en-ug\" rel=\"alternate\"/>\n",
      "  <link href=\"https://www.ibm.com/ae-en\" hreflang=\"en-ae\" rel=\"alternate\"/>\n",
      "  <link href=\"https://www.ibm.com/uk-en\" hreflang=\"en-gb\" rel=\"alternate\"/>\n",
      "  <link href=\"https://www.ibm.com/uy-es\" hreflang=\"es-uy\" rel=\"alternate\"/>\n",
      "  <link href=\"https://www.ibm.com/uz-en\" hreflang=\"en-uz\" rel=\"alternate\"/>\n",
      "  <link href=\"https://www.ibm.com/ve-es\" hreflang=\"es-ve\" rel=\"alternate\"/>\n",
      "  <link href=\"https://www.ibm.com/vn-en\" hreflang=\"en-vn\" rel=\"alternate\"/>\n",
      "  <link href=\"https://www.ibm.com/zm-en\" hreflang=\"en-zm\" rel=\"alternate\"/>\n",
      "  <link href=\"https://www.ibm.com/zw-en\" hreflang=\"en-zw\" rel=\"alternate\"/>\n",
      "  <link as=\"image\" href=\"https://1.dam.s81c.com/public/content/dam/worldwide-content/homepage/ul/g/e0/75/20210823-ibm-garage-26083-720x360.jpg\" rel=\"preload\"/>\n",
      "  <meta content=\"155\" name=\"next-head-count\"/>\n",
      "  <link as=\"style\" href=\"/us-en/_next/static/css/styles.c59a72e5.chunk.css\" rel=\"preload\"/>\n",
      "  <link data-n-g=\"\" href=\"/us-en/_next/static/css/styles.c59a72e5.chunk.css\" rel=\"stylesheet\"/>\n",
      "  <noscript data-n-css=\"\">\n",
      "  </noscript>\n",
      "  <link as=\"script\" href=\"/us-en/_next/static/chunks/webpack-147ea3ada7109f6dc0bb.js\" rel=\"preload\"/>\n",
      "  <link as=\"script\" href=\"/us-en/_next/static/chunks/framework.bf337b07faa30cce02dc.js\" rel=\"preload\"/>\n",
      "  <link as=\"script\" href=\"/us-en/_next/static/chunks/commons.e5f598b92e04294eff62.js\" rel=\"preload\"/>\n",
      "  <link as=\"script\" href=\"/us-en/_next/static/chunks/f6078781a05fe1bcb0902d23dbbb2662c8d200b3.d2f601340e1658353edc.js\" rel=\"preload\"/>\n",
      "  <link as=\"script\" href=\"/us-en/_next/static/chunks/main-804d3443671cc9ab3a1a.js\" rel=\"preload\"/>\n",
      "  <link as=\"script\" href=\"/us-en/_next/static/chunks/styles.d480418a16501285002b.js\" rel=\"preload\"/>\n",
      "  <link as=\"script\" href=\"/us-en/_next/static/chunks/pages/_app-ff21d76f29965c940c13.js\" rel=\"preload\"/>\n",
      "  <link as=\"script\" href=\"/us-en/_next/static/chunks/030f8acd.120c7070a26fdc18bd95.js\" rel=\"preload\"/>\n",
      "  <link as=\"script\" href=\"/us-en/_next/static/chunks/de93c76c.b126fe468b8f05465a79.js\" rel=\"preload\"/>\n",
      "  <link as=\"script\" href=\"/us-en/_next/static/chunks/aeca05f3.267a3b3519b7b9e739f3.js\" rel=\"preload\"/>\n",
      "  <link as=\"script\" href=\"/us-en/_next/static/chunks/fe48cd97.e2e2465c50d058b06ee1.js\" rel=\"preload\"/>\n",
      "  <link as=\"script\" href=\"/us-en/_next/static/chunks/3e8e8dc6.a9a670d72dbcbc80a131.js\" rel=\"preload\"/>\n",
      "  <link as=\"script\" href=\"/us-en/_next/static/chunks/9295cf4f.55238d93dd7ab9c936a9.js\" rel=\"preload\"/>\n",
      "  <link as=\"script\" href=\"/us-en/_next/static/chunks/1c920f04.1292982814230162a57d.js\" rel=\"preload\"/>\n",
      "  <link as=\"script\" href=\"/us-en/_next/static/chunks/ebd65826.a6f2b1f9462a0adf3019.js\" rel=\"preload\"/>\n",
      "  <link as=\"script\" href=\"/us-en/_next/static/chunks/pages/index-2bfdb0324d1116582291.js\" rel=\"preload\"/>\n",
      " </head>\n",
      " <body>\n",
      "  <div id=\"__next\">\n",
      "   <div>\n",
      "    <div class=\"bx--masthead\">\n",
      "     <div class=\"bx--masthead__l0\">\n",
      "      <header aria-label=\"IBM\" class=\"bx--header\" data-autoid=\"dds--masthead\">\n",
      "       <a class=\"bx--skip-to-content\" href=\"#main-content\" tabindex=\"0\">\n",
      "        Skip to main content\n",
      "       </a>\n",
      "       <button aria-label=\"Open menu\" class=\"bx--header__action bx--header__menu-trigger bx--header__menu-toggle bx--header__menu-toggle__hidden\" data-autoid=\"dds--masthead-default-sidenav__l0-menu\" title=\"Open menu\" type=\"button\">\n",
      "        <svg aria-hidden=\"true\" fill=\"currentColor\" focusable=\"false\" height=\"20\" preserveaspectratio=\"xMidYMid meet\" viewbox=\"0 0 20 20\" width=\"20\" xmlns=\"http://www.w3.org/2000/svg\">\n",
      "         <path d=\"M2 14.8H18V16H2zM2 11.2H18V12.399999999999999H2zM2 7.6H18V8.799999999999999H2zM2 4H18V5.2H2z\">\n",
      "         </path>\n",
      "        </svg>\n",
      "       </button>\n",
      "       <div class=\"bx--side-nav__overlay\">\n",
      "       </div>\n",
      "       <nav aria-hidden=\"false\" aria-label=\"Side navigation\" class=\"bx--side-nav__navigation bx--side-nav bx--side-nav--ux bx--side-nav--hidden\">\n",
      "        <nav data-autoid=\"dds--masthead-default-sidenav__l0\">\n",
      "         <ul class=\"bx--side-nav__items\">\n",
      "          <ul class=\"bx--side-nav__header-navigation\">\n",
      "           <div>\n",
      "            <div aria-hidden=\"false\" class=\"bx--side-nav__menu-section bx--side-nav__menu-section--expanded\" id=\"panel__(-1,-1)\">\n",
      "             <button aria-hidden=\"true\" class=\"bx--masthead__focus\">\n",
      "             </button>\n",
      "            </div>\n",
      "           </div>\n",
      "          </ul>\n",
      "         </ul>\n",
      "        </nav>\n",
      "       </nav>\n",
      "       <div class=\"bx--header__logo\">\n",
      "        <a aria-label=\"IBMÂ®\" data-autoid=\"dds--masthead-default__l0-logo\" href=\"http://www.ibm.com\">\n",
      "         <svg height=\"23\" viewbox=\"0 0 58 23\" width=\"58\" xmlns=\"http://www.w3.org/2000/svg\">\n",
      "          <path d=\"M58 21.467V23h-7.632v-1.533H58zm-18.316 0V23h-7.631v-1.533h7.631zm5.955 0L45.025 23l-.606-1.533h1.22zm-17.097 0A6.285 6.285 0 0 1 24.391 23H12.21v-1.533zm-17.858 0V23H0v-1.533h10.684zm29-3.067v1.533h-7.631V18.4h7.631zm7.148 0l-.594 1.533H43.82l-.598-1.533h3.609zm-16.764 0a5.719 5.719 0 0 1-.64 1.533H12.21V18.4zm-19.384 0v1.533H0V18.4h10.684zM58 18.4v1.533h-7.632V18.4H58zm-3.053-3.067v1.534h-4.579v-1.534h4.58zm-15.263 0v1.534h-4.579v-1.534h4.58zm8.345 0l-.6 1.534h-4.806l-.604-1.534h6.01zm-18.174 0c.137.49.213 1.003.213 1.534h-5.647v-1.534zm-10.013 0v1.534h-4.579v-1.534h4.58zm-12.21 0v1.534h-4.58v-1.534h4.58zm47.315-3.066V13.8h-4.579v-1.533h4.58zm-15.263 0V13.8h-4.579v-1.533h4.58zm9.541 0l-.597 1.533h-7.22l-.591-1.533h8.408zm-21.248 0c.527.432.98.951 1.328 1.533H15.263v-1.533zm-20.345 0V13.8h-4.58v-1.533h4.58zM44.599 9.2l.427 1.24.428-1.24h9.493v1.533h-4.579V9.324l-.519 1.41h-9.661l-.504-1.41v1.41h-4.579V9.2H44.6zm-36.967 0v1.533h-4.58V9.2h4.58zm21.673 0a5.95 5.95 0 0 1-1.328 1.533H15.263V9.2zm25.642-3.067v1.534h-8.964l.54-1.534h8.424zm-11.413 0l.54 1.534h-8.969V6.133h8.43zm-13.466 0c0 .531-.076 1.045-.213 1.534H24.42V6.133zm-10.226 0v1.534h-4.579V6.133h4.58zm-12.21 0v1.534h-4.58V6.133h4.58zm34.845-3.066l.53 1.533H32.054V3.067h10.424zm15.523 0V4.6H47.04l.55-1.533H58zm-28.573 0c.284.473.504.988.641 1.533H12.211V3.067zm-18.743 0V4.6H0V3.067h10.684zM41.406 0l.54 1.533h-9.893V0h9.353zM58 0v1.533h-9.881L48.647 0H58zM24.39 0c1.601 0 3.057.581 4.152 1.533H12.211V0zM10.685 0v1.533H0V0h10.684z\" fill=\"#161616\" fill-rule=\"evenodd\">\n",
      "          </path>\n",
      "         </svg>\n",
      "        </a>\n",
      "       </div>\n",
      "       <div class=\"bx--header__search\">\n",
      "        <div class=\"bx--header__nav-container\">\n",
      "         <div class=\"bx--header__nav-content\">\n",
      "          <div class=\"bx--sub-content-left\">\n",
      "          </div>\n",
      "          <div class=\"bx--sub-content-right\">\n",
      "          </div>\n",
      "          <nav aria-label=\"IBM\" class=\"bx--header__nav\" data-autoid=\"dds--masthead__l0-nav\">\n",
      "           <ul aria-label=\"IBM\" class=\"bx--header__menu-bar\">\n",
      "           </ul>\n",
      "          </nav>\n",
      "         </div>\n",
      "         <div class=\"bx--header__nav-caret-left-container\" hidden=\"\">\n",
      "          <button aria-hidden=\"true\" aria-label=\"Masthead left caret\" class=\"bx--header__nav-caret-left\" tabindex=\"-1\">\n",
      "           <svg aria-hidden=\"true\" fill=\"currentColor\" focusable=\"false\" height=\"20\" preserveaspectratio=\"xMidYMid meet\" viewbox=\"0 0 32 32\" width=\"20\" xmlns=\"http://www.w3.org/2000/svg\">\n",
      "            <path d=\"M20 24L10 16 20 8z\">\n",
      "            </path>\n",
      "           </svg>\n",
      "          </button>\n",
      "          <div class=\"bx--header__nav-caret-left-gradient\">\n",
      "          </div>\n",
      "         </div>\n",
      "         <div class=\"bx--header__nav-caret-right-container\" hidden=\"\">\n",
      "          <div class=\"bx--header__nav-caret-right-gradient\">\n",
      "          </div>\n",
      "          <button aria-hidden=\"true\" aria-label=\"Masthead right caret\" class=\"bx--header__nav-caret-right\" tabindex=\"-1\">\n",
      "           <svg aria-hidden=\"true\" fill=\"currentColor\" focusable=\"false\" height=\"20\" preserveaspectratio=\"xMidYMid meet\" viewbox=\"0 0 32 32\" width=\"20\" xmlns=\"http://www.w3.org/2000/svg\">\n",
      "            <path d=\"M12 8L22 16 12 24z\">\n",
      "            </path>\n",
      "           </svg>\n",
      "          </button>\n",
      "         </div>\n",
      "        </div>\n",
      "        <div class=\"bx--masthead__overlay\">\n",
      "        </div>\n",
      "        <div class=\"bx--masthead__search\" data-autoid=\"dds--masthead__search\">\n",
      "         <div class=\"bx--header__search--actions\">\n",
      "          <button aria-label=\"Open IBM search field\" class=\"bx--header__search--search bx--header__action bx--btn bx--btn--primary bx--tooltip--hidden bx--btn--icon-only bx--tooltip__trigger bx--tooltip--a11y bx--btn--icon-only--bottom bx--tooltip--align-center\" data-autoid=\"dds--masthead-default__l0-search\" tabindex=\"0\" type=\"button\">\n",
      "           <div class=\"bx--assistive-text\">\n",
      "            Open IBM search field\n",
      "           </div>\n",
      "           <svg aria-hidden=\"true\" fill=\"currentColor\" focusable=\"false\" height=\"20\" preserveaspectratio=\"xMidYMid meet\" viewbox=\"0 0 32 32\" width=\"20\" xmlns=\"http://www.w3.org/2000/svg\">\n",
      "            <path d=\"M29,27.5859l-7.5521-7.5521a11.0177,11.0177,0,1,0-1.4141,1.4141L27.5859,29ZM4,13a9,9,0,1,1,9,9A9.01,9.01,0,0,1,4,13Z\">\n",
      "            </path>\n",
      "           </svg>\n",
      "          </button>\n",
      "          <button aria-label=\"Close\" class=\"bx--header__search--close bx--header__action bx--btn bx--btn--primary bx--tooltip--hidden bx--btn--icon-only bx--tooltip__trigger bx--tooltip--a11y bx--btn--icon-only--bottom bx--tooltip--align-center\" data-autoid=\"dds--masthead-default__l0-search--close\" tabindex=\"0\" type=\"button\">\n",
      "           <div class=\"bx--assistive-text\">\n",
      "            Close\n",
      "           </div>\n",
      "           <svg aria-hidden=\"true\" fill=\"currentColor\" focusable=\"false\" height=\"20\" preserveaspectratio=\"xMidYMid meet\" viewbox=\"0 0 32 32\" width=\"20\" xmlns=\"http://www.w3.org/2000/svg\">\n",
      "            <path d=\"M24 9.4L22.6 8 16 14.6 9.4 8 8 9.4 14.6 16 8 22.6 9.4 24 16 17.4 22.6 24 24 22.6 17.4 16 24 9.4z\">\n",
      "            </path>\n",
      "           </svg>\n",
      "          </button>\n",
      "         </div>\n",
      "        </div>\n",
      "       </div>\n",
      "       <div class=\"bx--header__global bx--header__profile\">\n",
      "        <button aria-expanded=\"false\" aria-haspopup=\"true\" aria-label=\"User Profile\" class=\"bx--header__action bx--overflow-menu\" data-autoid=\"dds--masthead-default__l0-account\" style=\"width:3rem\" type=\"button\">\n",
      "         <svg aria-hidden=\"true\" fill=\"currentColor\" focusable=\"false\" height=\"20\" preserveaspectratio=\"xMidYMid meet\" viewbox=\"0 0 32 32\" width=\"20\" xmlns=\"http://www.w3.org/2000/svg\">\n",
      "          <path d=\"M16 4a5 5 0 11-5 5 5 5 0 015-5m0-2a7 7 0 107 7A7 7 0 0016 2zM26 30H24V25a5 5 0 00-5-5H13a5 5 0 00-5 5v5H6V25a7 7 0 017-7h6a7 7 0 017 7z\">\n",
      "          </path>\n",
      "         </svg>\n",
      "        </button>\n",
      "       </div>\n",
      "      </header>\n",
      "     </div>\n",
      "    </div>\n",
      "    <div class=\"bx--dotcom-shell\" data-autoid=\"dds--dotcom-shell\">\n",
      "     <div class=\"bx--dotcom-shell__content\" data-autoid=\"dds--dotcom-shell__content\">\n",
      "      <main>\n",
      "       <div class=\"newsflash-placeholder\">\n",
      "       </div>\n",
      "       <header aria-labelledby=\"ibm-leadspace-title\" style=\"background-color:#e0e0e0\">\n",
      "        <div class=\"\" id=\"ibm-cci_carbon-leadspace-head\" style=\"background-image:url('https://1.dam.s81c.com/public/content/dam/worldwide-content/homepage/ul/g/ba/32/20210823-ibm-garage-26083-2304x983.jpg');background-position:center right;background-size:cover;background-repeat:no-repeat;background-color:#e0e0e0;position:relative\">\n",
      "         <a class=\"ibm-blocklink ibm-no-border\" href=\"https://www.ibm.com/garage?lnk=ushpv18l1\" id=\"ibm-homepage-ls-full-cta\">\n",
      "          <div class=\"ibm_cci-grid-hidden-large ibm-hidden-xlarge ibm-pb-0 ibm__hp-mobile-image\">\n",
      "           <div style=\"display:inline-block;max-width:100%;overflow:hidden;position:relative;box-sizing:border-box;margin:0\">\n",
      "            <div style=\"box-sizing:border-box;display:block;max-width:100%\">\n",
      "             <img alt=\"\" aria-hidden=\"true\" role=\"presentation\" src=\"data:image/svg+xml;base64,PHN2ZyB3aWR0aD0iMTA1NSIgaGVpZ2h0PSI1MjcuNSIgeG1sbnM9Imh0dHA6Ly93d3cudzMub3JnLzIwMDAvc3ZnIiB2ZXJzaW9uPSIxLjEiLz4=\" style=\"max-width:100%;display:block;margin:0;border:none;padding:0\"/>\n",
      "            </div>\n",
      "            <img alt=\"A man and a happy woman sitting on stools in front of a wall of post-it notes\" class=\"ibm-resize\" decoding=\"async\" src=\"https://1.dam.s81c.com/public/content/dam/worldwide-content/homepage/ul/g/e0/75/20210823-ibm-garage-26083-720x360.jpg\" style=\"position:absolute;top:0;left:0;bottom:0;right:0;box-sizing:border-box;padding:0;border:none;margin:auto;display:block;width:0;height:0;min-width:100%;max-width:100%;min-height:100%;max-height:100%\"/>\n",
      "           </div>\n",
      "          </div>\n",
      "          <div class=\"bx--grid\" id=\"ibm-cci_carbon-leadspace-body\">\n",
      "           <div class=\"bx--row\">\n",
      "            <div class=\"bx--col-sm-4 bx--col-md-8 bx--col-lg-6 bx--col-xlg-6 ibm-cci_leadspace-content ibm-pt-4 ibm-pb-4\">\n",
      "             <h1 class=\"bx--type-display-01 ibm-cci_leadspace-content-title ibm-br--display-01\" id=\"ibm-leadspace-title\">\n",
      "              Deliver projects up to 3x faster\n",
      "             </h1>\n",
      "             <div class=\"bx--col-sm-4 bx--col-lg-16 bx--col-xlg-12 bx--grid-col-seamless ibm_cci-flex-column-inner\">\n",
      "              <p class=\"bx--type-expressive-heading-03 ibm-mb-4 ibm-pb-0 ibm-textcolor-gray-80\" id=\"ibm-leadspace-copy\">\n",
      "               Hardwired for co-creation, IBM Garage is where great ideas are born and business is reinvented with hybrid cloud and AI\n",
      "              </p>\n",
      "              <div class=\"bx--buttongroup ibm-pt-0\">\n",
      "               <button class=\"bx--btn bx--btn--primary\" tabindex=\"-1\" type=\"button\">\n",
      "                <span>\n",
      "                 Speed up your digital transformation\n",
      "                </span>\n",
      "               </button>\n",
      "              </div>\n",
      "             </div>\n",
      "            </div>\n",
      "           </div>\n",
      "          </div>\n",
      "         </a>\n",
      "        </div>\n",
      "       </header>\n",
      "       <div id=\"main-content\" style=\"background-color:#FFF\">\n",
      "        <div class=\"ibm-br--toc-section\">\n",
      "         <section class=\"bx--tableofcontents bx--tableofcontents--white\" data-autoid=\"dds--tableofcontents\">\n",
      "          <div class=\"dds-ce--table-of-contents__container\">\n",
      "           <div class=\"bx--tableofcontents__sidebar\">\n",
      "            <div class=\"bx--tableofcontents__mobile-top\">\n",
      "            </div>\n",
      "            <div style=\"position:sticky;top:64px\">\n",
      "             <div class=\"bx--tableofcontents__desktop\" data-autoid=\"dds--tableofcontents__desktop\">\n",
      "              <ul>\n",
      "              </ul>\n",
      "             </div>\n",
      "             <div class=\"bx--tableofcontents__mobile\" data-autoid=\"dds--tableofcontents__mobile\">\n",
      "              <div class=\"bx--tableofcontents__mobile__select__wrapper\">\n",
      "               <select aria-label=\"Jump to\" class=\"bx--tableofcontents__mobile__select\">\n",
      "                <option class=\"bx--tableofcontents__mobile__select__option\" data-autoid=\"dds--tableofcontents__mobile__select__option-menuLabel\" disabled=\"\" hidden=\"\" selected=\"\" value=\"menuLabel\">\n",
      "                 Jump to ...\n",
      "                </option>\n",
      "               </select>\n",
      "               <svg aria-label=\"menu icon\" class=\"bx--tableofcontents__mobile__select__icon\" fill=\"currentColor\" focusable=\"false\" height=\"20\" preserveaspectratio=\"xMidYMid meet\" role=\"img\" viewbox=\"0 0 32 32\" width=\"20\" xmlns=\"http://www.w3.org/2000/svg\">\n",
      "                <path d=\"M4 6H22V8H4zM4 12H22V14H4zM4 18H22V20H4zM4 24H22V26H4zM26 6H28V8H26zM26 12H28V14H26zM26 18H28V20H26zM26 24H28V26H26z\">\n",
      "                </path>\n",
      "                <title>\n",
      "                 menu icon\n",
      "                </title>\n",
      "               </svg>\n",
      "              </div>\n",
      "             </div>\n",
      "            </div>\n",
      "           </div>\n",
      "           <div class=\"bx--tableofcontents__content\">\n",
      "            <div class=\"bx--tableofcontents__content-wrapper\">\n",
      "             <div class=\"ibm--br-intro-section ibm--fade\">\n",
      "              <a name=\"welcome\">\n",
      "              </a>\n",
      "              <h2 class=\"bx--type-expressive-heading-05 ibm-br--heading-05\">\n",
      "               We discover, design and develop advanced\n",
      "               <a class=\"ibm-br--link\" href=\"#ibm-hp--tech-section\">\n",
      "                information technology\n",
      "               </a>\n",
      "               , and translate that into value for our clients through\n",
      "               <a class=\"ibm-br--link\" href=\"https://www.ibm.com/consulting/?lnk=ushpv18intro2\">\n",
      "                consulting services\n",
      "               </a>\n",
      "              </h2>\n",
      "              <div class=\"bx--type-display-01 ibm-br--separator\">\n",
      "              </div>\n",
      "             </div>\n",
      "             <div class=\"ibm-br--research-section ibm--fade\" id=\"ibm-hp--research-section\">\n",
      "              <a data-title=\"Research\" name=\"research\">\n",
      "              </a>\n",
      "              <div class=\"ibm-br--inside-title\">\n",
      "               <h3 class=\"bx--type-expressive-heading-05 ibm-br--heading-05\">\n",
      "                Research\n",
      "               </h3>\n",
      "               <p class=\"bx--type-expressive-heading-03 ibm-br--heading-03 ibm-mb-5\">\n",
      "                See whatâs next in science and technology from the IBMÂ labs\n",
      "               </p>\n",
      "              </div>\n",
      "              <div class=\"ibm-br--research-featured\">\n",
      "               <a href=\"https://research.ibm.com/blog/pandemic-speech-understanding?lnk=ushpv18r1\" tabindex=\"-1\">\n",
      "                <div class=\"bx--image\" data-autoid=\"dds--image__longdescription\">\n",
      "                 <picture>\n",
      "                  <img alt='Op-art word salad of \"mask\" turning into \"task\"' class=\"bx--image__img\" src=\"https://1.dam.s81c.com/p/08f95134b12702d8/20220815-r1-covid-vocabulary-v2-26889-1600x900.jpg\"/>\n",
      "                 </picture>\n",
      "                </div>\n",
      "               </a>\n",
      "               <div class=\"ibm-br--card-in-image\">\n",
      "                <div class=\"bx--tile bx--card\" data-autoid=\"dds--card\">\n",
      "                 <div class=\"bx--card__wrapper\">\n",
      "                  <div class=\"bx--card__content\">\n",
      "                   <h3 class=\"bx--card__heading\">\n",
      "                    Even if youâve never had COVID, youâre carrying its vocabulary\n",
      "                   </h3>\n",
      "                   <a aria-label=\"\" class=\"bx--link bx--card__footer bx--card__footer__copy\" href=\"https://research.ibm.com/blog/pandemic-speech-understanding?lnk=ushpv18r1\">\n",
      "                    <span class=\"bx--card__cta__copy\">\n",
      "                     <svg aria-hidden=\"true\" fill=\"currentColor\" focusable=\"false\" height=\"20\" preserveaspectratio=\"xMidYMid meet\" viewbox=\"0 0 20 20\" width=\"20\" xmlns=\"http://www.w3.org/2000/svg\">\n",
      "                      <path d=\"M11.8 2.8L10.8 3.8 16.2 9.3 1 9.3 1 10.7 16.2 10.7 10.8 16.2 11.8 17.2 19 10z\">\n",
      "                      </path>\n",
      "                     </svg>\n",
      "                    </span>\n",
      "                   </a>\n",
      "                  </div>\n",
      "                 </div>\n",
      "                </div>\n",
      "               </div>\n",
      "              </div>\n",
      "              <div class=\"ibm-br--cardgroup ibm-research-cardgroup ibm-br--cardgroup-research ratio-16-9\">\n",
      "               <div class=\"bx--card-group__cards__row bx--row--condensed\" data-autoid=\"dds--card-group\" style=\"--dds--card-group--cards-in-row:3\">\n",
      "                <div class=\"bx--card-group__cards__col\">\n",
      "                 <div class=\"bx--card-group__card\">\n",
      "                  <div class=\"bx--tile bx--card bx--card-link bx--card__CTA bx--card__CardCTA\" data-autoid=\"dds--card\" href=\"https://research.ibm.com/blog/new-sustainable-materials?lnk=ushpv18r2\">\n",
      "                   <div class=\"bx--image\" data-autoid=\"dds--image__longdescription\">\n",
      "                    <picture>\n",
      "                     <img alt=\"A blonde woman in safety glasses working with lab equipment\" class=\"bx--image__img bx--card__img\" src=\"https://1.dam.s81c.com/p/0857136baca6a8d9/20220711-r-accelerated-sustainable-materials-discovery-v1-26797-800x450.jpg\n",
      "\"/>\n",
      "                    </picture>\n",
      "                   </div>\n",
      "                   <div class=\"bx--card__wrapper\">\n",
      "                    <div class=\"bx--card__content\">\n",
      "                     <h3 class=\"bx--card__heading\">\n",
      "                      AI accelerates the discovery of sustainable materials for carbon capture, batteries and more\n",
      "                     </h3>\n",
      "                     <a aria-label=\"AI accelerates the discovery of sustainable materials for carbon capture, batteries and more\" class=\"bx--link bx--card__footer\" href=\"https://research.ibm.com/blog/new-sustainable-materials?lnk=ushpv18r2\">\n",
      "                      <svg aria-hidden=\"true\" class=\"bx--card__cta\" fill=\"currentColor\" focusable=\"false\" height=\"20\" preserveaspectratio=\"xMidYMid meet\" src=\"[object Object]\" viewbox=\"0 0 20 20\" width=\"20\" xmlns=\"http://www.w3.org/2000/svg\">\n",
      "                       <path d=\"M11.8 2.8L10.8 3.8 16.2 9.3 1 9.3 1 10.7 16.2 10.7 10.8 16.2 11.8 17.2 19 10z\">\n",
      "                       </path>\n",
      "                      </svg>\n",
      "                     </a>\n",
      "                    </div>\n",
      "                   </div>\n",
      "                  </div>\n",
      "                 </div>\n",
      "                </div>\n",
      "                <div class=\"bx--card-group__cards__col\">\n",
      "                 <div class=\"bx--card-group__card\">\n",
      "                  <div class=\"bx--tile bx--card bx--card-link bx--card__CTA bx--card__CardCTA\" data-autoid=\"dds--card\" href=\"https://research.ibm.com/blog/adversarial-attack-stock-prediction?lnk=ushpv18r3\">\n",
      "                   <div class=\"bx--image\" data-autoid=\"dds--image__longdescription\">\n",
      "                    <picture>\n",
      "                     <img alt=\"Colorful stock quotes on a smart phone\" class=\"bx--image__img bx--card__img\" src=\"https://1.dam.s81c.com/p/08b38f4a7f265590/20220801-r1-stock-tweet-manipulation-26864-1600x900.jpg\"/>\n",
      "                    </picture>\n",
      "                   </div>\n",
      "                   <div class=\"bx--card__wrapper\">\n",
      "                    <div class=\"bx--card__content\">\n",
      "                     <h3 class=\"bx--card__heading\">\n",
      "                      If youâre getting stock tips from Twitter, you should learn how researchers spot the fake ones\n",
      "                     </h3>\n",
      "                     <a aria-label=\"If youâre getting stock tips from Twitter, you should learn how researchers spot the fake ones\" class=\"bx--link bx--card__footer\" href=\"https://research.ibm.com/blog/adversarial-attack-stock-prediction?lnk=ushpv18r3\">\n",
      "                      <svg aria-hidden=\"true\" class=\"bx--card__cta\" fill=\"currentColor\" focusable=\"false\" height=\"20\" preserveaspectratio=\"xMidYMid meet\" src=\"[object Object]\" viewbox=\"0 0 20 20\" width=\"20\" xmlns=\"http://www.w3.org/2000/svg\">\n",
      "                       <path d=\"M11.8 2.8L10.8 3.8 16.2 9.3 1 9.3 1 10.7 16.2 10.7 10.8 16.2 11.8 17.2 19 10z\">\n",
      "                       </path>\n",
      "                      </svg>\n",
      "                     </a>\n",
      "                    </div>\n",
      "                   </div>\n",
      "                  </div>\n",
      "                 </div>\n",
      "                </div>\n",
      "                <div class=\"bx--card-group__cards__col\">\n",
      "                 <div class=\"bx--card-group__card\">\n",
      "                  <div class=\"bx--tile bx--card bx--card-link bx--card__CTA bx--card__CardCTA\" data-autoid=\"dds--card\" href=\"https://www.ibm.com/quantum-computing/developers/?lnk=ushpv18r4\">\n",
      "                   <div class=\"bx--image\" data-autoid=\"dds--image__longdescription\">\n",
      "                    <picture>\n",
      "                     <img alt=\"IBM Quantum project manager Kayla Lee, looking into the camera\" class=\"bx--image__img bx--card__img\" src=\"https://1.dam.s81c.com/public/content/dam/worldwide-content/homepage/ul/g/0e/10/20220321-r-quantum-for-developers-800x450.jpg\"/>\n",
      "                    </picture>\n",
      "                   </div>\n",
      "                   <div class=\"bx--card__wrapper\">\n",
      "                    <div class=\"bx--card__content\">\n",
      "                     <h3 class=\"bx--card__heading\">\n",
      "                      Developers: build programs that solve problems in new ways on IBM Quantum systems\n",
      "                     </h3>\n",
      "                     <a aria-label=\"Developers: build programs that solve problems in new ways on IBM Quantum systems\n",
      "\" class=\"bx--link bx--card__footer\" href=\"https://www.ibm.com/quantum-computing/developers/?lnk=ushpv18r4\">\n",
      "                      <svg aria-hidden=\"true\" class=\"bx--card__cta\" fill=\"currentColor\" focusable=\"false\" height=\"20\" preserveaspectratio=\"xMidYMid meet\" src=\"[object Object]\" viewbox=\"0 0 20 20\" width=\"20\" xmlns=\"http://www.w3.org/2000/svg\">\n",
      "                       <path d=\"M11.8 2.8L10.8 3.8 16.2 9.3 1 9.3 1 10.7 16.2 10.7 10.8 16.2 11.8 17.2 19 10z\">\n",
      "                       </path>\n",
      "                      </svg>\n",
      "                     </a>\n",
      "                    </div>\n",
      "                   </div>\n",
      "                  </div>\n",
      "                 </div>\n",
      "                </div>\n",
      "               </div>\n",
      "              </div>\n",
      "             </div>\n",
      "             <div class=\"ibm-br--inside-ibm ibm--fade\" id=\"ibm-hp--inside-ibm-section\">\n",
      "              <a data-title=\"Inside IBM\" name=\"inside-ibm\">\n",
      "              </a>\n",
      "              <div class=\"ibm-br--inside-title\">\n",
      "               <h3 class=\"bx--type-expressive-heading-05 ibm-br--heading-05\">\n",
      "                Inside IBM\n",
      "               </h3>\n",
      "               <p class=\"bx--type-expressive-heading-03 ibm-br--heading-03 ibm-mb-5\">\n",
      "                Solutions, stories and thought leadership from across the company\n",
      "               </p>\n",
      "              </div>\n",
      "              <div class=\"inside-ibm-cardgroup ibm-br--cardgroup\">\n",
      "               <div class=\"bx--card-group__cards__row bx--row--condensed\" data-autoid=\"dds--card-group\" style=\"--dds--card-group--cards-in-row:2\">\n",
      "                <div class=\"bx--card-group__cards__col\">\n",
      "                 <div class=\"bx--card-group__card\">\n",
      "                  <div class=\"bx--tile bx--card bx--card-link bx--card__CTA bx--card__CardCTA\" data-autoid=\"dds--card\" href=\"https://www.ibm.com/consulting/resources/design-data-led-experience-transformation/?lnk=ushpv18f1\">\n",
      "                   <div class=\"bx--image\" data-autoid=\"dds--image__longdescription\">\n",
      "                    <picture>\n",
      "                     <img alt=\"Vertical bars in shades of green with a finger pointing to a pink circle in the middle\" class=\"bx--image__img bx--card__img\" src=\"https://1.dam.s81c.com/p/08f94d882746b787/20220815-consulting-design-data-led-experience-transformation-26852-444x333.jpg\"/>\n",
      "                    </picture>\n",
      "                   </div>\n",
      "                   <div class=\"bx--card__wrapper\">\n",
      "                    <div class=\"bx--card__content\">\n",
      "                     <h3 class=\"bx--card__heading\">\n",
      "                      Human-centered transformation\n",
      "                     </h3>\n",
      "                     <div class=\"bx--card__copy\">\n",
      "                      <p>\n",
      "                       A design-led, data-driven approach to customer experience delivers a significant competitive advantage. See how.\n",
      "                      </p>\n",
      "                     </div>\n",
      "                     <a aria-label=\"Human-centered transformation\" class=\"bx--link bx--card__footer\" href=\"https://www.ibm.com/consulting/resources/design-data-led-experience-transformation/?lnk=ushpv18f1\">\n",
      "                      <svg aria-hidden=\"true\" class=\"bx--card__cta\" fill=\"currentColor\" focusable=\"false\" height=\"20\" preserveaspectratio=\"xMidYMid meet\" src=\"[object Object]\" viewbox=\"0 0 20 20\" width=\"20\" xmlns=\"http://www.w3.org/2000/svg\">\n",
      "                       <path d=\"M11.8 2.8L10.8 3.8 16.2 9.3 1 9.3 1 10.7 16.2 10.7 10.8 16.2 11.8 17.2 19 10z\">\n",
      "                       </path>\n",
      "                      </svg>\n",
      "                     </a>\n",
      "                    </div>\n",
      "                   </div>\n",
      "                  </div>\n",
      "                 </div>\n",
      "                </div>\n",
      "                <div class=\"bx--card-group__cards__col\">\n",
      "                 <div class=\"bx--card-group__card\">\n",
      "                  <div class=\"bx--tile bx--card bx--card-link bx--card__CTA bx--card__CardCTA\" data-autoid=\"dds--card\" href=\"https://www.ibm.com/blogs/ibm-training/master-technology-basics-with-ibm-information-technology-it-and-cloud-fundamentals-courses/?lnk=ushpv18f2\">\n",
      "                   <div class=\"bx--image\" data-autoid=\"dds--image__longdescription\">\n",
      "                    <picture>\n",
      "                     <img alt=\"Two men and a woman on an office sofa stare intently into a laptop screen\" class=\"bx--image__img bx--card__img\" src=\"https://1.dam.s81c.com/p/08a56f9ac2462279/2022_03_24_Slowell_INSIDE_IBM-AUSTIN-Office_128.jpg.global.s_4x3.png\"/>\n",
      "                    </picture>\n",
      "                   </div>\n",
      "                   <div class=\"bx--card__wrapper\">\n",
      "                    <div class=\"bx--card__content\">\n",
      "                     <h3 class=\"bx--card__heading\">\n",
      "                      Launch your tech career\n",
      "                     </h3>\n",
      "                     <div class=\"bx--card__copy\">\n",
      "                      <p>\n",
      "                       This five-course program in IT and cloud fundamentals prepares beginners for a variety of careers in technology\n",
      "                      </p>\n",
      "                     </div>\n",
      "                     <a aria-label=\"Launch your tech career\" class=\"bx--link bx--card__footer\" href=\"https://www.ibm.com/blogs/ibm-training/master-technology-basics-with-ibm-information-technology-it-and-cloud-fundamentals-courses/?lnk=ushpv18f2\">\n",
      "                      <svg aria-hidden=\"true\" class=\"bx--card__cta\" fill=\"currentColor\" focusable=\"false\" height=\"20\" preserveaspectratio=\"xMidYMid meet\" src=\"[object Object]\" viewbox=\"0 0 20 20\" width=\"20\" xmlns=\"http://www.w3.org/2000/svg\">\n",
      "                       <path d=\"M11.8 2.8L10.8 3.8 16.2 9.3 1 9.3 1 10.7 16.2 10.7 10.8 16.2 11.8 17.2 19 10z\">\n",
      "                       </path>\n",
      "                      </svg>\n",
      "                     </a>\n",
      "                    </div>\n",
      "                   </div>\n",
      "                  </div>\n",
      "                 </div>\n",
      "                </div>\n",
      "                <div class=\"bx--card-group__cards__col\">\n",
      "                 <div class=\"bx--card-group__card\">\n",
      "                  <div class=\"bx--tile bx--card bx--card-link bx--card__CTA bx--card__CardCTA\" data-autoid=\"dds--card\" href=\"https://www.ibm.com/thought-leadership/new-creators/lella-halloum/?lnk=ushpv18f3\">\n",
      "                   <div class=\"bx--image\" data-autoid=\"dds--image__longdescription\">\n",
      "                    <picture>\n",
      "                     <img alt=\"Portrait of the young, brunette Lella Halloum wearing a powder-blue blazer\" class=\"bx--image__img bx--card__img\" src=\"https://1.dam.s81c.com/p/08196d0e04a60b45/lella-halloum-new-creator-1600x900.jpg.global.s_4x3.jpg\"/>\n",
      "                    </picture>\n",
      "                   </div>\n",
      "                   <div class=\"bx--card__wrapper\">\n",
      "                    <div class=\"bx--card__content\">\n",
      "                     <h3 class=\"bx--card__heading\">\n",
      "                      Student, tech wiz, humanitarian\n",
      "                     </h3>\n",
      "                     <div class=\"bx--card__copy\">\n",
      "                      <p>\n",
      "                       New Creator Lella Halloum works to ensure equitable access to technology across the globe\n",
      "                      </p>\n",
      "                     </div>\n",
      "                     <a aria-label=\"Student, tech wiz, humanitarian\" class=\"bx--link bx--card__footer\" href=\"https://www.ibm.com/thought-leadership/new-creators/lella-halloum/?lnk=ushpv18f3\">\n",
      "                      <svg aria-hidden=\"true\" class=\"bx--card__cta\" fill=\"currentColor\" focusable=\"false\" height=\"20\" preserveaspectratio=\"xMidYMid meet\" src=\"[object Object]\" viewbox=\"0 0 20 20\" width=\"20\" xmlns=\"http://www.w3.org/2000/svg\">\n",
      "                       <path d=\"M11.8 2.8L10.8 3.8 16.2 9.3 1 9.3 1 10.7 16.2 10.7 10.8 16.2 11.8 17.2 19 10z\">\n",
      "                       </path>\n",
      "                      </svg>\n",
      "                     </a>\n",
      "                    </div>\n",
      "                   </div>\n",
      "                  </div>\n",
      "                 </div>\n",
      "                </div>\n",
      "                <div class=\"bx--card-group__cards__col\">\n",
      "                 <div class=\"bx--card-group__card\">\n",
      "                  <div class=\"bx--tile bx--card bx--card-link bx--card__CTA bx--card__CardCTA\" data-autoid=\"dds--card\" href=\"https://www.ibm.com/thought-leadership/institute-business-value/en-us/report/post-pandemic-overconfidence?lnk=ushpv18f4\">\n",
      "                   <div class=\"bx--image\" data-autoid=\"dds--image__longdescription\">\n",
      "                    <picture>\n",
      "                     <img alt=\"Headshot of a very confident-looking white-haired man pulling a white covid mask off his face\" class=\"bx--image__img bx--card__img\" src=\"https://1.dam.s81c.com/p/08f94d882746b788/20220815-pandemic-overconfidence-26879-444x333.jpg\"/>\n",
      "                    </picture>\n",
      "                   </div>\n",
      "                   <div class=\"bx--card__wrapper\">\n",
      "                    <div class=\"bx--card__content\">\n",
      "                     <h3 class=\"bx--card__heading\">\n",
      "                      Report: change isnât over yet\n",
      "                     </h3>\n",
      "                     <div class=\"bx--card__copy\">\n",
      "                      <p>\n",
      "                       Are business leaders overconfident in this post-pandemic moment? Hereâs a realistic look at an uncertain future.\n",
      "                      </p>\n",
      "                     </div>\n",
      "                     <a aria-label=\"Report: change isnât over yet\" class=\"bx--link bx--card__footer\" href=\"https://www.ibm.com/thought-leadership/institute-business-value/en-us/report/post-pandemic-overconfidence?lnk=ushpv18f4\">\n",
      "                      <svg aria-hidden=\"true\" class=\"bx--card__cta\" fill=\"currentColor\" focusable=\"false\" height=\"20\" preserveaspectratio=\"xMidYMid meet\" src=\"[object Object]\" viewbox=\"0 0 20 20\" width=\"20\" xmlns=\"http://www.w3.org/2000/svg\">\n",
      "                       <path d=\"M11.8 2.8L10.8 3.8 16.2 9.3 1 9.3 1 10.7 16.2 10.7 10.8 16.2 11.8 17.2 19 10z\">\n",
      "                       </path>\n",
      "                      </svg>\n",
      "                     </a>\n",
      "                    </div>\n",
      "                   </div>\n",
      "                  </div>\n",
      "                 </div>\n",
      "                </div>\n",
      "               </div>\n",
      "              </div>\n",
      "             </div>\n",
      "             <div class=\"ibm-br--creativity ibm--fade ibm-pb-6\" id=\"ibm-hp--makers-section\">\n",
      "              <a data-title=\"Creativity at work\" name=\"creativity-at-work\">\n",
      "              </a>\n",
      "              <div class=\"ibm-br--creativity-title\">\n",
      "               <h3 class=\"bx--type-expressive-heading-05 ibm-br--heading-05\">\n",
      "                Creativity at work\n",
      "               </h3>\n",
      "               <p class=\"bx--type-expressive-heading-03 ibm-br--heading-03 ibm-pb-3\">\n",
      "                IBM clients, partners and other creators are putting our technology to work in the real world â with real results\n",
      "               </p>\n",
      "               <a class=\"ibm-br--link ibm-mb-7\" href=\"https://www.ibm.com/case-studies/search?lnk=ushpv18mAll\">\n",
      "                See all case studies\n",
      "               </a>\n",
      "              </div>\n",
      "              <div class=\"slick-slider slick-initialized\" dir=\"ltr\">\n",
      "               <div class=\"slick-list\">\n",
      "                <div class=\"slick-track\" style=\"width:300%;left:0%\">\n",
      "                 <div aria-hidden=\"false\" class=\"slick-slide slick-active slick-current\" data-index=\"0\" style=\"outline:none;width:33.333333333333336%\" tabindex=\"-1\">\n",
      "                  <div>\n",
      "                   <div class=\"ibm-br--creativity-slide\" style=\"width:100%;display:inline-block\" tabindex=\"-1\">\n",
      "                    <a class=\"ibm-br--creativity-item ibm-mb-6\" href=\"https://www.ibm.com/case-studies/via-metropolitan-transit/?lnk=ushpv18m1\">\n",
      "                     <div class=\"ibm-br--creativity-img\">\n",
      "                      <div class=\"bx--image\" data-autoid=\"dds--image__longdescription\">\n",
      "                       <picture>\n",
      "                        <source media=\"(min-width: 320px)\" srcset=\"https://1.dam.s81c.com/p/08b38f4a7f265591/20220801-m-via-metropolitan-transit-26857-1600x900.jpg\"/>\n",
      "                        <img alt=\"A red bus driving on a bright street past a building with graffiti art on it\" class=\"bx--image__img\" src=\"https://1.dam.s81c.com/p/08b38f4a7f265591/20220801-m-via-metropolitan-transit-26857-1600x900.jpg\"/>\n",
      "                       </picture>\n",
      "                      </div>\n",
      "                     </div>\n",
      "                     <div class=\"ibm-br--creativity-content\">\n",
      "                      <h4 class=\"bx--type-expressive-heading-03 ibm-br--heading-03\">\n",
      "                       Whereâs the bus? If youâre in San Antonio, just ask Ava.\n",
      "                      </h4>\n",
      "                      <p class=\"\">\n",
      "                       The bilingual digital assistant conducts 3,000 conversations with public transportation riders monthly\n",
      "                      </p>\n",
      "                      <span class=\"ibm-br--link\">\n",
      "                       See how VIA Metropolitan Transit uses AI and cloud to keep customers informed 24x7\n",
      "                      </span>\n",
      "                     </div>\n",
      "                     <div class=\"ibm-br--creativity-nav\">\n",
      "                     </div>\n",
      "                    </a>\n",
      "                   </div>\n",
      "                  </div>\n",
      "                 </div>\n",
      "                 <div aria-hidden=\"true\" class=\"slick-slide\" data-index=\"1\" style=\"outline:none;width:33.333333333333336%\" tabindex=\"-1\">\n",
      "                  <div>\n",
      "                   <div class=\"ibm-br--creativity-slide\" style=\"width:100%;display:inline-block\" tabindex=\"-1\">\n",
      "                    <a class=\"ibm-br--creativity-item ibm-mb-6\" href=\"https://www.ibm.com/case-studies/deloitte/?lnk=ushpv18m2\">\n",
      "                     <div class=\"ibm-br--creativity-img\">\n",
      "                      <div class=\"bx--image\" data-autoid=\"dds--image__longdescription\">\n",
      "                       <picture>\n",
      "                        <source media=\"(min-width: 320px)\" srcset=\"https://1.dam.s81c.com/p/08b38f4a8026565a/20220808-m-deloitte-1600x900.jpg\"/>\n",
      "                        <img alt=\"Photograph of a cable-stay bridge and modern infrastructure in SÃ£o Paulo\" class=\"bx--image__img\" src=\"https://1.dam.s81c.com/p/08b38f4a8026565a/20220808-m-deloitte-1600x900.jpg\"/>\n",
      "                       </picture>\n",
      "                      </div>\n",
      "                     </div>\n",
      "                     <div class=\"ibm-br--creativity-content\">\n",
      "                      <h4 class=\"bx--type-expressive-heading-03 ibm-br--heading-03\">\n",
      "                       The work of days, done in hours\n",
      "                      </h4>\n",
      "                      <p class=\"\">\n",
      "                       Deloitteâs Brazil HQ needed to reduce the time their analysts spent composing monthly reports\n",
      "                      </p>\n",
      "                      <span class=\"ibm-br--link\">\n",
      "                       See how robotic process automation freed up to 8 days a month for each expertâs higher‑level work\n",
      "                      </span>\n",
      "                     </div>\n",
      "                     <div class=\"ibm-br--creativity-nav\">\n",
      "                     </div>\n",
      "                    </a>\n",
      "                   </div>\n",
      "                  </div>\n",
      "                 </div>\n",
      "                 <div aria-hidden=\"true\" class=\"slick-slide\" data-index=\"2\" style=\"outline:none;width:33.333333333333336%\" tabindex=\"-1\">\n",
      "                  <div>\n",
      "                   <div class=\"ibm-br--creativity-slide\" style=\"width:100%;display:inline-block\" tabindex=\"-1\">\n",
      "                    <a class=\"ibm-br--creativity-item ibm-mb-6\" href=\"https://www.ibm.com/case-studies/national-center-for-high-performance-computing/?lnk=ushpv18m3\">\n",
      "                     <div class=\"ibm-br--creativity-img\">\n",
      "                      <div class=\"bx--image\" data-autoid=\"dds--image__longdescription\">\n",
      "                       <picture>\n",
      "                        <source media=\"(min-width: 320px)\" srcset=\"https://1.dam.s81c.com/p/08f94d882746b794/20220815-m-national-center-for-high-performing-computing-26886-1600x900.jpg\"/>\n",
      "                        <img alt=\"A uniformed nurse in a surgical mask works on a computer\" class=\"bx--image__img\" src=\"https://1.dam.s81c.com/p/08f94d882746b794/20220815-m-national-center-for-high-performing-computing-26886-1600x900.jpg\"/>\n",
      "                       </picture>\n",
      "                      </div>\n",
      "                     </div>\n",
      "                     <div class=\"ibm-br--creativity-content\">\n",
      "                      <h4 class=\"bx--type-expressive-heading-03 ibm-br--heading-03\">\n",
      "                       When youâre battling a pandemic, speed saves lives\n",
      "                      </h4>\n",
      "                      <p class=\"\">\n",
      "                       Network downtime slows research efforts. With AIOps, Taiwanâs national computing center cut outage detection time by 55%.\n",
      "                      </p>\n",
      "                      <span class=\"ibm-br--link\">\n",
      "                       See how a partnership with IBM Garage is accelerating research and innovation for COVID-19 and more\n",
      "                      </span>\n",
      "                     </div>\n",
      "                     <div class=\"ibm-br--creativity-nav\">\n",
      "                     </div>\n",
      "                    </a>\n",
      "                   </div>\n",
      "                  </div>\n",
      "                 </div>\n",
      "                </div>\n",
      "               </div>\n",
      "               <ul class=\"slick-dots\" style=\"display:block\">\n",
      "                <li class=\"slick-active\">\n",
      "                 <button>\n",
      "                  1\n",
      "                 </button>\n",
      "                </li>\n",
      "                <li class=\"\">\n",
      "                 <button>\n",
      "                  2\n",
      "                 </button>\n",
      "                </li>\n",
      "                <li class=\"\">\n",
      "                 <button>\n",
      "                  3\n",
      "                 </button>\n",
      "                </li>\n",
      "               </ul>\n",
      "              </div>\n",
      "             </div>\n",
      "             <div class=\"ibm-br--trials ibm-pt-6 ibm-pb-4 ibm--fade\">\n",
      "              <a data-title=\"Trials and offers\" name=\"trials\">\n",
      "              </a>\n",
      "              <div class=\"ibm-br--trials-sidebar\">\n",
      "               <h3 class=\"bx--type-expressive-heading-05 ibm-br--heading-05 ibm-mb-2\">\n",
      "                Product trials and offers\n",
      "               </h3>\n",
      "               <p class=\"bx--type-expressive-heading-03 ibm-br--heading-03\">\n",
      "                Explore free trials for IBM Software and see what we can do together\n",
      "               </p>\n",
      "               <a class=\"ibm-br--link ibm-pt-3 ibm-pb-3\" href=\"https://www.ibm.com/products?types[0]=trial&amp;lnk=STW_US_MPDISC_BNR_BTN&amp;lnk2=THP&amp;lnk3=ushpv18tAll\">\n",
      "                See all trials\n",
      "               </a>\n",
      "               <a class=\"ibm-br--link\" href=\"https://www.ibm.com/products/offers-and-discounts?link=ushpv18t5&amp;lnk2=trial_mktpl_MPDISC\">\n",
      "                See current deals\n",
      "               </a>\n",
      "              </div>\n",
      "              <div class=\"bx--row ibm-br--trials-row\">\n",
      "               <div class=\"bx--col-sm-4 bx--col-md-8 bx--col-lg-16\">\n",
      "                <div class=\"ibm-br--cardgroup ibm-br--cardgroup-trials ratio-16-9\">\n",
      "                 <div class=\"bx--card-group__cards__row bx--row--condensed\" data-autoid=\"dds--card-group\" style=\"--dds--card-group--cards-in-row:3\">\n",
      "                  <div class=\"bx--card-group__cards__col\">\n",
      "                   <div class=\"bx--card-group__card\">\n",
      "                    <div class=\"bx--tile bx--card bx--card-link bx--card__CTA bx--card__CardCTA\" data-autoid=\"dds--card\" href=\"https://www.ibm.com/cloud/cloud-pak-for-automation?lnk=ushpv18t1\">\n",
      "                     <div class=\"bx--image\" data-autoid=\"dds--image__longdescription\">\n",
      "                      <picture>\n",
      "                       <img alt=\"Interface of a sample Cloud Pak dashboard displaying scores, a pie chart and a bar graph\" class=\"bx--image__img bx--card__img\" src=\"https://1.dam.s81c.com/p/0801d7b5f93ae6b7/Cloud-Pak-for-Automation-trial-800x450.jpg\"/>\n",
      "                      </picture>\n",
      "                     </div>\n",
      "                     <div class=\"bx--card__wrapper\">\n",
      "                      <div class=\"bx--card__content\">\n",
      "                       <h3 class=\"bx--card__heading\">\n",
      "                        IBM Cloud Pak for Automation\n",
      "                       </h3>\n",
      "                       <div class=\"bx--card__copy\">\n",
      "                        <p>\n",
      "                         Build and scale automation applications on any cloud. Start with a free trial.\n",
      "                        </p>\n",
      "                       </div>\n",
      "                       <a aria-label=\"IBM Cloud Pak for Automation\" class=\"bx--link bx--card__footer\" href=\"https://www.ibm.com/cloud/cloud-pak-for-automation?lnk=ushpv18t1\">\n",
      "                        <svg aria-hidden=\"true\" class=\"bx--card__cta\" fill=\"currentColor\" focusable=\"false\" height=\"20\" preserveaspectratio=\"xMidYMid meet\" src=\"[object Object]\" viewbox=\"0 0 20 20\" width=\"20\" xmlns=\"http://www.w3.org/2000/svg\">\n",
      "                         <path d=\"M11.8 2.8L10.8 3.8 16.2 9.3 1 9.3 1 10.7 16.2 10.7 10.8 16.2 11.8 17.2 19 10z\">\n",
      "                         </path>\n",
      "                        </svg>\n",
      "                       </a>\n",
      "                      </div>\n",
      "                     </div>\n",
      "                    </div>\n",
      "                   </div>\n",
      "                  </div>\n",
      "                  <div class=\"bx--card-group__cards__col\">\n",
      "                   <div class=\"bx--card-group__card\">\n",
      "                    <div class=\"bx--tile bx--card bx--card-link bx--card__CTA bx--card__CardCTA\" data-autoid=\"dds--card\" href=\"https://www.ibm.com/products/cognos-analytics?lnk=ushpv18t2\">\n",
      "                     <div class=\"bx--image\" data-autoid=\"dds--image__longdescription\">\n",
      "                      <picture>\n",
      "                       <img alt=\"Cognos Analytics interface showing stats and colorful bar graphs\" class=\"bx--image__img bx--card__img\" src=\"https://1.dam.s81c.com/p/08b38f4a80a656ec/cognos-analytics-dashboard-trial-800x450.jpg\"/>\n",
      "                      </picture>\n",
      "                     </div>\n",
      "                     <div class=\"bx--card__wrapper\">\n",
      "                      <div class=\"bx--card__content\">\n",
      "                       <h3 class=\"bx--card__heading\">\n",
      "                        IBM Cognos Analytics with Watson\n",
      "                       </h3>\n",
      "                       <div class=\"bx--card__copy\">\n",
      "                        <p>\n",
      "                         Get AI capabilities to take your business analytics a step further, free for 30 days\n",
      "                        </p>\n",
      "                       </div>\n",
      "                       <a aria-label=\"IBM Cognos Analytics with Watson\" class=\"bx--link bx--card__footer\" href=\"https://www.ibm.com/products/cognos-analytics?lnk=ushpv18t2\">\n",
      "                        <svg aria-hidden=\"true\" class=\"bx--card__cta\" fill=\"currentColor\" focusable=\"false\" height=\"20\" preserveaspectratio=\"xMidYMid meet\" src=\"[object Object]\" viewbox=\"0 0 20 20\" width=\"20\" xmlns=\"http://www.w3.org/2000/svg\">\n",
      "                         <path d=\"M11.8 2.8L10.8 3.8 16.2 9.3 1 9.3 1 10.7 16.2 10.7 10.8 16.2 11.8 17.2 19 10z\">\n",
      "                         </path>\n",
      "                        </svg>\n",
      "                       </a>\n",
      "                      </div>\n",
      "                     </div>\n",
      "                    </div>\n",
      "                   </div>\n",
      "                  </div>\n",
      "                  <div class=\"bx--card-group__cards__col\">\n",
      "                   <div class=\"bx--card-group__card\">\n",
      "                    <div class=\"bx--tile bx--card bx--card-link bx--card__CTA bx--card__CardCTA\" data-autoid=\"dds--card\" href=\"https://www.ibm.com/cloud/instana?lnk=ushpv18t1\">\n",
      "                     <div class=\"bx--image\" data-autoid=\"dds--image__longdescription\">\n",
      "                      <picture>\n",
      "                       <img alt=\"Instana Observability interface displaying a multi-paned dashboard for application management\" class=\"bx--image__img bx--card__img\" src=\"https://1.dam.s81c.com/p/08b38f4a80a656cd/istana-observability-apm-monitoring-use-case-1249-800x450.png\"/>\n",
      "                      </picture>\n",
      "                     </div>\n",
      "                     <div class=\"bx--card__wrapper\">\n",
      "                      <div class=\"bx--card__content\">\n",
      "                       <h3 class=\"bx--card__heading\">\n",
      "                        IBM Instana Observability\n",
      "                       </h3>\n",
      "                       <div class=\"bx--card__copy\">\n",
      "                        <p>\n",
      "                         Easily manage the performance of your microservice applications. Try it free.\n",
      "                        </p>\n",
      "                       </div>\n",
      "                       <a aria-label=\"IBM Instana Observability\" class=\"bx--link bx--card__footer\" href=\"https://www.ibm.com/cloud/instana?lnk=ushpv18t1\">\n",
      "                        <svg aria-hidden=\"true\" class=\"bx--card__cta\" fill=\"currentColor\" focusable=\"false\" height=\"20\" preserveaspectratio=\"xMidYMid meet\" src=\"[object Object]\" viewbox=\"0 0 20 20\" width=\"20\" xmlns=\"http://www.w3.org/2000/svg\">\n",
      "                         <path d=\"M11.8 2.8L10.8 3.8 16.2 9.3 1 9.3 1 10.7 16.2 10.7 10.8 16.2 11.8 17.2 19 10z\">\n",
      "                         </path>\n",
      "                        </svg>\n",
      "                       </a>\n",
      "                      </div>\n",
      "                     </div>\n",
      "                    </div>\n",
      "                   </div>\n",
      "                  </div>\n",
      "                 </div>\n",
      "                </div>\n",
      "               </div>\n",
      "              </div>\n",
      "             </div>\n",
      "             <div aria-labelledby=\"ibm-tech-row-title\" class=\"ibm-background-white-core ibm-tech-section visible ibm--fade\" id=\"ibm-hp--tech-section\">\n",
      "              <div class=\"bx--row\">\n",
      "               <div class=\"ibm-br--search-col\">\n",
      "                <h2 class=\"bx--type-expressive-heading-03 ibm-br--heading-03 ibm-pb-2\" style=\"padding-right:10%\">\n",
      "                 Search for products and services\n",
      "                </h2>\n",
      "                <div class=\"ibm-gmktp-search\">\n",
      "                 <form action=\"https://www.ibm.com/search?lnk=ushpv18srch&amp;locale=en-us&amp;q=\" class=\"ibm-row-form\" id=\"ibm-gmktp-search-form-b\" method=\"get\">\n",
      "                  <p class=\"ibm-pb-0 ibm__animated-placeholder\" id=\"ibm__animated-placeholder-0-b\">\n",
      "                   <label for=\"ibm-gmktp-input\" style=\"display:none\">\n",
      "                    Search term\n",
      "                   </label>\n",
      "                   <span style=\"display:block\">\n",
      "                    <input class=\"tech-search\" id=\"ibm-gmktp-input-b\" name=\"q\" placeholder=\"Search IBM\" size=\"40\" style=\"width:100%\" type=\"text\" value=\"\"/>\n",
      "                   </span>\n",
      "                  </p>\n",
      "                  <a class=\"ibm-search-link ibm__linky-skip\" href=\"https://www.ibm.com/search?lnk=ushpv18srch&amp;locale=en-us&amp;q=\" id=\"ibm-gmktp-search-bttn-b\">\n",
      "                   <span>\n",
      "                    Search IBM\n",
      "                   </span>\n",
      "                  </a>\n",
      "                  <div class=\"ibm-spinner\" style=\"display:none\">\n",
      "                  </div>\n",
      "                 </form>\n",
      "                 <div id=\"ibm-gmktp-output-container-b\">\n",
      "                  <ul aria-label=\"Use down and up arrow keys to navigate through the results.\" aria-live=\"polite\" class=\"ibm-plain-list ibm-pb-0 output\" id=\"ibm-gmktp-output-b\" role=\"listbox\">\n",
      "                  </ul>\n",
      "                 </div>\n",
      "                </div>\n",
      "                <p class=\"bx--type-body-long-02 ibm-pb-0 ibm-mb-10 ibm-pt-1 ibm-mb-sm-3\">\n",
      "                 <a class=\"ibm_cci-link-fade\" href=\"https://www.ibm.com/products?lnk=ushpv18p1&amp;lnk2=trial_mktpl&amp;psrc=none&amp;pexp=def\" id=\"ibm-homepage-lpsw-see-more-b\">\n",
      "                  See all products\n",
      "                 </a>\n",
      "                </p>\n",
      "                <h2 class=\"bx--type-expressive-heading-03 ibm-br--heading-03 ibm-pt-1 ibm-pb-2\" id=\"ibm-tech-row-title\" style=\"padding-right:10%\">\n",
      "                 Explore trending technologies\n",
      "                </h2>\n",
      "               </div>\n",
      "              </div>\n",
      "              <div class=\"bx--row\">\n",
      "               <div class=\"bx--col-md-8 bx--col-lg-10 ibm-br--link-list-row\">\n",
      "                <div class=\"percent-25 ibm-br--link-list-col\">\n",
      "                 <div class=\"bx--link-list\" data-autoid=\"dds--link-list\">\n",
      "                  <ul class=\"bx--link-list__list bx--link-list__list--card\">\n",
      "                   <li class=\"bx--link-list__list__CTA bx--link-list__list--local\">\n",
      "                    <div>\n",
      "                     <div ariarole=\"listitem\" class=\"bx--tile bx--card bx--card-link bx--card__CTA bx--card__CardCTA\" data-autoid=\"dds--card\" href=\"https://www.ibm.com/cloud/hybrid?lnk=ushpv18pt14\">\n",
      "                      <div class=\"bx--card__wrapper\">\n",
      "                       <div class=\"bx--card__content\">\n",
      "                        <h3 class=\"bx--card__heading\">\n",
      "                         Hybrid cloud\n",
      "                        </h3>\n",
      "                        <div class=\"bx--card__copy\">\n",
      "                         <p>\n",
      "                          Blend cloud and on-premises resources for flexibility\n",
      "                         </p>\n",
      "                        </div>\n",
      "                        <a aria-label=\"Hybrid cloud\" class=\"bx--link bx--card__footer\" href=\"https://www.ibm.com/cloud/hybrid?lnk=ushpv18pt14\">\n",
      "                         <svg aria-hidden=\"true\" class=\"bx--card__cta\" fill=\"currentColor\" focusable=\"false\" height=\"20\" preserveaspectratio=\"xMidYMid meet\" src=\"[object Object]\" viewbox=\"0 0 20 20\" width=\"20\" xmlns=\"http://www.w3.org/2000/svg\">\n",
      "                          <path d=\"M11.8 2.8L10.8 3.8 16.2 9.3 1 9.3 1 10.7 16.2 10.7 10.8 16.2 11.8 17.2 19 10z\">\n",
      "                          </path>\n",
      "                         </svg>\n",
      "                        </a>\n",
      "                       </div>\n",
      "                      </div>\n",
      "                     </div>\n",
      "                    </div>\n",
      "                   </li>\n",
      "                   <li class=\"bx--link-list__list__CTA bx--link-list__list--local\">\n",
      "                    <div>\n",
      "                     <div ariarole=\"listitem\" class=\"bx--tile bx--card bx--card-link bx--card__CTA bx--card__CardCTA\" data-autoid=\"dds--card\" href=\"https://www.ibm.com/watson?lnk=ushpv18pt17\">\n",
      "                      <div class=\"bx--card__wrapper\">\n",
      "                       <div class=\"bx--card__content\">\n",
      "                        <h3 class=\"bx--card__heading\">\n",
      "                         Watson\n",
      "                        </h3>\n",
      "                        <div class=\"bx--card__copy\">\n",
      "                         <p>\n",
      "                          See why Watson is AI for smarter business\n",
      "                         </p>\n",
      "                        </div>\n",
      "                        <a aria-label=\"Watson\" class=\"bx--link bx--card__footer\" href=\"https://www.ibm.com/watson?lnk=ushpv18pt17\">\n",
      "                         <svg aria-hidden=\"true\" class=\"bx--card__cta\" fill=\"currentColor\" focusable=\"false\" height=\"20\" preserveaspectratio=\"xMidYMid meet\" src=\"[object Object]\" viewbox=\"0 0 20 20\" width=\"20\" xmlns=\"http://www.w3.org/2000/svg\">\n",
      "                          <path d=\"M11.8 2.8L10.8 3.8 16.2 9.3 1 9.3 1 10.7 16.2 10.7 10.8 16.2 11.8 17.2 19 10z\">\n",
      "                          </path>\n",
      "                         </svg>\n",
      "                        </a>\n",
      "                       </div>\n",
      "                      </div>\n",
      "                     </div>\n",
      "                    </div>\n",
      "                   </li>\n",
      "                   <li class=\"bx--link-list__list__CTA bx--link-list__list--local\">\n",
      "                    <div>\n",
      "                     <div ariarole=\"listitem\" class=\"bx--tile bx--card bx--card-link bx--card__CTA bx--card__CardCTA\" data-autoid=\"dds--card\" href=\"https://www.ibm.com/it-infrastructure?lnk=ushpv18pt19\">\n",
      "                      <div class=\"bx--card__wrapper\">\n",
      "                       <div class=\"bx--card__content\">\n",
      "                        <h3 class=\"bx--card__heading\">\n",
      "                         IT infrastructure\n",
      "                        </h3>\n",
      "                        <div class=\"bx--card__copy\">\n",
      "                         <p>\n",
      "                          Discover servers, storage and software designed for your enterprise\n",
      "                         </p>\n",
      "                        </div>\n",
      "                        <a aria-label=\"IT infrastructure\" class=\"bx--link bx--card__footer\" href=\"https://www.ibm.com/it-infrastructure?lnk=ushpv18pt19\">\n",
      "                         <svg aria-hidden=\"true\" class=\"bx--card__cta\" fill=\"currentColor\" focusable=\"false\" height=\"20\" preserveaspectratio=\"xMidYMid meet\" src=\"[object Object]\" viewbox=\"0 0 20 20\" width=\"20\" xmlns=\"http://www.w3.org/2000/svg\">\n",
      "                          <path d=\"M11.8 2.8L10.8 3.8 16.2 9.3 1 9.3 1 10.7 16.2 10.7 10.8 16.2 11.8 17.2 19 10z\">\n",
      "                          </path>\n",
      "                         </svg>\n",
      "                        </a>\n",
      "                       </div>\n",
      "                      </div>\n",
      "                     </div>\n",
      "                    </div>\n",
      "                   </li>\n",
      "                   <li class=\"bx--link-list__list__CTA bx--link-list__list--local\">\n",
      "                    <div>\n",
      "                     <div ariarole=\"listitem\" class=\"bx--tile bx--card bx--card-link bx--card__CTA bx--card__CardCTA\" data-autoid=\"dds--card\" href=\"https://www.ibm.com/blockchain?lnk=ushpv18pt4\">\n",
      "                      <div class=\"bx--card__wrapper\">\n",
      "                       <div class=\"bx--card__content\">\n",
      "                        <h3 class=\"bx--card__heading\">\n",
      "                         Blockchain\n",
      "                        </h3>\n",
      "                        <div class=\"bx--card__copy\">\n",
      "                         <p>\n",
      "                          Bring trust and transparency to every transaction\n",
      "                         </p>\n",
      "                        </div>\n",
      "                        <a aria-label=\"Blockchain\" class=\"bx--link bx--card__footer\" href=\"https://www.ibm.com/blockchain?lnk=ushpv18pt4\">\n",
      "                         <svg aria-hidden=\"true\" class=\"bx--card__cta\" fill=\"currentColor\" focusable=\"false\" height=\"20\" preserveaspectratio=\"xMidYMid meet\" src=\"[object Object]\" viewbox=\"0 0 20 20\" width=\"20\" xmlns=\"http://www.w3.org/2000/svg\">\n",
      "                          <path d=\"M11.8 2.8L10.8 3.8 16.2 9.3 1 9.3 1 10.7 16.2 10.7 10.8 16.2 11.8 17.2 19 10z\">\n",
      "                          </path>\n",
      "                         </svg>\n",
      "                        </a>\n",
      "                       </div>\n",
      "                      </div>\n",
      "                     </div>\n",
      "                    </div>\n",
      "                   </li>\n",
      "                  </ul>\n",
      "                 </div>\n",
      "                </div>\n",
      "                <div class=\"\">\n",
      "                </div>\n",
      "                <div class=\"percent-25 ibm-br--link-list-col\">\n",
      "                 <div class=\"bx--link-list\" data-autoid=\"dds--link-list\">\n",
      "                  <ul class=\"bx--link-list__list bx--link-list__list--card\">\n",
      "                   <li class=\"bx--link-list__list__CTA bx--link-list__list--local\">\n",
      "                    <div>\n",
      "                     <div ariarole=\"listitem\" class=\"bx--tile bx--card bx--card-link bx--card__CTA bx--card__CardCTA\" data-autoid=\"dds--card\" href=\"https://www.ibm.com/security/products?lnk=ushpv18pt9\">\n",
      "                      <div class=\"bx--card__wrapper\">\n",
      "                       <div class=\"bx--card__content\">\n",
      "                        <h3 class=\"bx--card__heading\">\n",
      "                         Security\n",
      "                        </h3>\n",
      "                        <div class=\"bx--card__copy\">\n",
      "                         <p>\n",
      "                          Protect your data â and your customers\n",
      "                         </p>\n",
      "                        </div>\n",
      "                        <a aria-label=\"Security\" class=\"bx--link bx--card__footer\" href=\"https://www.ibm.com/security/products?lnk=ushpv18pt9\">\n",
      "                         <svg aria-hidden=\"true\" class=\"bx--card__cta\" fill=\"currentColor\" focusable=\"false\" height=\"20\" preserveaspectratio=\"xMidYMid meet\" src=\"[object Object]\" viewbox=\"0 0 20 20\" width=\"20\" xmlns=\"http://www.w3.org/2000/svg\">\n",
      "                          <path d=\"M11.8 2.8L10.8 3.8 16.2 9.3 1 9.3 1 10.7 16.2 10.7 10.8 16.2 11.8 17.2 19 10z\">\n",
      "                          </path>\n",
      "                         </svg>\n",
      "                        </a>\n",
      "                       </div>\n",
      "                      </div>\n",
      "                     </div>\n",
      "                    </div>\n",
      "                   </li>\n",
      "                   <li class=\"bx--link-list__list__CTA bx--link-list__list--local\">\n",
      "                    <div>\n",
      "                     <div ariarole=\"listitem\" class=\"bx--tile bx--card bx--card-link bx--card__CTA bx--card__CardCTA\" data-autoid=\"dds--card\" href=\"https://www.ibm.com/analytics/products?lnk=ushpv18pt1\">\n",
      "                      <div class=\"bx--card__wrapper\">\n",
      "                       <div class=\"bx--card__content\">\n",
      "                        <h3 class=\"bx--card__heading\">\n",
      "                         Analytics\n",
      "                        </h3>\n",
      "                        <div class=\"bx--card__copy\">\n",
      "                         <p>\n",
      "                          Make data simple and accessible\n",
      "                         </p>\n",
      "                        </div>\n",
      "                        <a aria-label=\"Analytics\" class=\"bx--link bx--card__footer\" href=\"https://www.ibm.com/analytics/products?lnk=ushpv18pt1\">\n",
      "                         <svg aria-hidden=\"true\" class=\"bx--card__cta\" fill=\"currentColor\" focusable=\"false\" height=\"20\" preserveaspectratio=\"xMidYMid meet\" src=\"[object Object]\" viewbox=\"0 0 20 20\" width=\"20\" xmlns=\"http://www.w3.org/2000/svg\">\n",
      "                          <path d=\"M11.8 2.8L10.8 3.8 16.2 9.3 1 9.3 1 10.7 16.2 10.7 10.8 16.2 11.8 17.2 19 10z\">\n",
      "                          </path>\n",
      "                         </svg>\n",
      "                        </a>\n",
      "                       </div>\n",
      "                      </div>\n",
      "                     </div>\n",
      "                    </div>\n",
      "                   </li>\n",
      "                   <li class=\"bx--link-list__list__CTA bx--link-list__list--local\">\n",
      "                    <div>\n",
      "                     <div ariarole=\"listitem\" class=\"bx--tile bx--card bx--card-link bx--card__CTA bx--card__CardCTA\" data-autoid=\"dds--card\" href=\"https://www.ibm.com/cloud/automation?lnk=ushpv18ct21\">\n",
      "                      <div class=\"bx--card__wrapper\">\n",
      "                       <div class=\"bx--card__content\">\n",
      "                        <h3 class=\"bx--card__heading\">\n",
      "                         Automation\n",
      "                        </h3>\n",
      "                        <div class=\"bx--card__copy\">\n",
      "                         <p>\n",
      "                          Automate workflows from IT to business processes\n",
      "                         </p>\n",
      "                        </div>\n",
      "                        <a aria-label=\"Automation\" class=\"bx--link bx--card__footer\" href=\"https://www.ibm.com/cloud/automation?lnk=ushpv18ct21\">\n",
      "                         <svg aria-hidden=\"true\" class=\"bx--card__cta\" fill=\"currentColor\" focusable=\"false\" height=\"20\" preserveaspectratio=\"xMidYMid meet\" src=\"[object Object]\" viewbox=\"0 0 20 20\" width=\"20\" xmlns=\"http://www.w3.org/2000/svg\">\n",
      "                          <path d=\"M11.8 2.8L10.8 3.8 16.2 9.3 1 9.3 1 10.7 16.2 10.7 10.8 16.2 11.8 17.2 19 10z\">\n",
      "                          </path>\n",
      "                         </svg>\n",
      "                        </a>\n",
      "                       </div>\n",
      "                      </div>\n",
      "                     </div>\n",
      "                    </div>\n",
      "                   </li>\n",
      "                   <li class=\"bx--link-list__list__CTA bx--link-list__list--local\">\n",
      "                    <div>\n",
      "                     <div ariarole=\"listitem\" class=\"bx--tile bx--card bx--card-link bx--card__CTA bx--card__CardCTA\" data-autoid=\"dds--card\" href=\"https://www.ibm.com/quantum-computing?lnk=ushpv18pt16\">\n",
      "                      <div class=\"bx--card__wrapper\">\n",
      "                       <div class=\"bx--card__content\">\n",
      "                        <h3 class=\"bx--card__heading\">\n",
      "                         Quantum computing\n",
      "                        </h3>\n",
      "                        <div class=\"bx--card__copy\">\n",
      "                         <p>\n",
      "                          Prepare for the quantum advantage with a trusted partner\n",
      "                         </p>\n",
      "                        </div>\n",
      "                        <a aria-label=\"Quantum computing\" class=\"bx--link bx--card__footer\" href=\"https://www.ibm.com/quantum-computing?lnk=ushpv18pt16\">\n",
      "                         <svg aria-hidden=\"true\" class=\"bx--card__cta\" fill=\"currentColor\" focusable=\"false\" height=\"20\" preserveaspectratio=\"xMidYMid meet\" src=\"[object Object]\" viewbox=\"0 0 20 20\" width=\"20\" xmlns=\"http://www.w3.org/2000/svg\">\n",
      "                          <path d=\"M11.8 2.8L10.8 3.8 16.2 9.3 1 9.3 1 10.7 16.2 10.7 10.8 16.2 11.8 17.2 19 10z\">\n",
      "                          </path>\n",
      "                         </svg>\n",
      "                        </a>\n",
      "                       </div>\n",
      "                      </div>\n",
      "                     </div>\n",
      "                    </div>\n",
      "                   </li>\n",
      "                  </ul>\n",
      "                 </div>\n",
      "                </div>\n",
      "               </div>\n",
      "               <div class=\"ibm-br--offset-lg-1 bx--col-lg-5\">\n",
      "                <div class=\"trending-col\" style=\"position:sticky;top:52px;padding-top:16px\">\n",
      "                 <h4 class=\"bx--type-expressive-heading-02 ibm-pb-2 ibm-margin-bottom-0\">\n",
      "                  Connect and learn\n",
      "                 </h4>\n",
      "                 <h3 class=\"bx--type-body-long-02 ibm-pb-0 ibm-mb-3\">\n",
      "                  <a class=\"ibm_cci-link-fade\" href=\"https://www.ibm.com/mysupport/s/?language=en_US&amp;lnk=ushpv18ct11\" id=\"ibm-homepage-tech-support\">\n",
      "                   Support\n",
      "                  </a>\n",
      "                 </h3>\n",
      "                 <h3 class=\"bx--type-body-long-02 ibm-pb-0 ibm-mb-3\">\n",
      "                  <a class=\"ibm_cci-link-fade\" href=\"https://www.ibm.com/training/?lnk=ushpv18ct15\" id=\"ibm-homepage-tech-training\">\n",
      "                   Training and skills\n",
      "                  </a>\n",
      "                 </h3>\n",
      "                 <h3 class=\"bx--type-body-long-02 ibm-pb-0 ibm-mb-3\">\n",
      "                  <a class=\"ibm_cci-link-fade\" href=\"https://community.ibm.com/community/user/home/?lnk=ushpv18ct20\" id=\"ibm-homepage-tech-training\">\n",
      "                   IBM Community\n",
      "                  </a>\n",
      "                 </h3>\n",
      "                 <h3 class=\"bx--type-body-long-02 ibm-pb-0 ibm-mb-3\">\n",
      "                  <a class=\"ibm_cci-link-fade\" href=\"https://developer.ibm.com/?lnk=ushpv18ct9\" id=\"ibm-homepage-tech-ibm-developer\">\n",
      "                   IBM Developer\n",
      "                  </a>\n",
      "                 </h3>\n",
      "                 <h3 class=\"bx--type-body-long-02 ibm-pb-0 ibm-mb-3\">\n",
      "                  <a class=\"ibm_cci-link-fade\" href=\"https://www.ibm.com/garage?lnk=ushpv18pt18\" id=\"ibm-homepage-tech-ibm-garage\">\n",
      "                   IBM Garage\n",
      "                  </a>\n",
      "                 </h3>\n",
      "                 <h3 class=\"bx--type-body-long-02 ibm-pb-0 ibm-mb-3\">\n",
      "                  <a class=\"ibm_cci-link-fade\" href=\"https://www.ibm.com/docs/en?lnk=ushpv18ct14\" id=\"ibm-homepage-tech-ibm-documentation\">\n",
      "                   IBM Documentation\n",
      "                  </a>\n",
      "                 </h3>\n",
      "                 <h3 class=\"bx--type-body-long-02 ibm-pb-0 ibm-mb-3\">\n",
      "                  <a class=\"ibm_cci-link-fade\" href=\"https://www.redbooks.ibm.com/?lnk=ushpv18ct10\" id=\"ibm-homepage-tech-redbooks\">\n",
      "                   IBM Redbooks\n",
      "                  </a>\n",
      "                 </h3>\n",
      "                 <h3 class=\"bx--type-body-long-02 ibm-pb-0 ibm-mb-3\">\n",
      "                  <a class=\"ibm_cci-link-fade\" href=\"https://www.ibm.com/subscribe/?lnk=ushpv18ct22\" id=\"ibm-homepage-tech-subscribe\">\n",
      "                   IBM Subscription Center\n",
      "                  </a>\n",
      "                 </h3>\n",
      "                 <h3 class=\"bx--type-body-long-02 ibm-pb-0 ibm-mb-3\">\n",
      "                  <a class=\"ibm_cci-link-fade\" href=\"https://www-03.ibm.com/employment/technicaltalent/developer/?lnk=ushpv18ct2\" id=\"ibm-homepage-tech-careers\">\n",
      "                   Careers\n",
      "                  </a>\n",
      "                 </h3>\n",
      "                </div>\n",
      "               </div>\n",
      "              </div>\n",
      "             </div>\n",
      "            </div>\n",
      "           </div>\n",
      "          </div>\n",
      "         </section>\n",
      "        </div>\n",
      "       </div>\n",
      "      </main>\n",
      "     </div>\n",
      "    </div>\n",
      "    <footer class=\"bx--footer\" data-autoid=\"dds--footer\">\n",
      "     <section class=\"bx--footer__main\">\n",
      "      <div class=\"bx--footer__main-container\">\n",
      "       <div class=\"bx--footer__logo-container\">\n",
      "        <div class=\"bx--footer__logo-row\">\n",
      "         <div class=\"bx--footer-logo\" data-autoid=\"dds--footer-logo\">\n",
      "          <a class=\"bx--footer-logo__link\" data-autoid=\"dds--footer-logo__link\" href=\"https://www.ibm.com/\">\n",
      "           <svg class=\"bx--footer-logo__logo\" height=\"65\" viewbox=\"0 0 157 65\" width=\"157\" xmlns=\"http://www.w3.org/2000/svg\">\n",
      "            <title>\n",
      "             IBM Logo\n",
      "            </title>\n",
      "            <path d=\"M30.444 60.208v4.03H0v-4.03h30.444zm78.291-.001v4.03H86.983v-4.03h21.752zm47.858 0v4.03H134.84v-4.03h21.753zm-33.416 0l-1.398 4.03-1.38-4.03h2.778zm-88.384 0h42.775c-2.797 2.426-6.39 3.925-10.327 4.025l-.423.006H34.793v-4.03h42.775zm-4.35-8.46v4.03H0v-4.03h30.444zm52.402 0c-.332 1.248-.8 2.44-1.389 3.555l-.259.474H34.793v-4.029h48.052zm73.748-.005v4.031H134.84v-4.03h21.753zm-47.858 0v4.031H86.983v-4.03h21.752zm17.375 0l-1.398 4.031h-5.85l-1.395-4.03h8.643zM21.745 43.285v4.03H8.698v-4.03h13.047zm61.195 0a17.32 17.32 0 0 1 .476 3.51l.008.52H68.796v-4.03H82.94zm-26.401 0v4.03H43.491v-4.03H56.54zm72.502-.007l-1.396 4.03H115.93l-1.397-4.03h14.507zm18.85 0v4.03h-13.05v-4.03h13.05zm-39.156 0v4.03H95.684v-4.03h13.051zm-86.99-8.454v4.03H8.698v-4.03h13.047zm56.117 0a16.945 16.945 0 0 1 2.926 3.582l.264.447h-37.56v-4.03h34.37zm30.873-.01v4.03H95.684v-4.03h13.051zm39.157 0v4.03H134.84v-4.03h13.052zm-15.919 0l-1.396 4.03h-17.579l-1.396-4.03h20.371zm-50.778-8.452a16.963 16.963 0 0 1-2.82 3.674l-.37.355H43.49v-4.029h37.704zm-59.45 0v4.03H8.698v-4.03h13.047zm126.147-.013v4.031H134.84v-3.839l-1.33 3.839h-11.456l1.373-4.03h24.465zm-27.743 0l1.372 4.031h-11.456l-1.33-3.839v3.84H95.684v-4.032h24.465zm-98.404-8.448v4.03H8.698V17.9h13.047zm61.68 0c0 1.215-.134 2.399-.375 3.542l-.11.487H68.796V17.9h14.628zM56.538 17.9v4.03H43.491V17.9H56.54zm91.352-.015v4.03h-22.954l1.37-4.03h21.584zm-30.624 0l1.372 4.03H95.684v-4.03h21.583zM30.444 9.437v4.03H0v-4.03h30.444zm50.753 0a17.048 17.048 0 0 1 1.498 3.499l.15.531H34.794v-4.03h46.403zm75.396-.018v4.03h-28.776l1.373-4.03h27.403zm-42.207 0l1.372 4.031H86.982V9.42h27.404zM30.444.978v4.03H0V.977h30.444zm36.374 0c3.96 0 7.594 1.415 10.448 3.772l.303.257H34.794V.977h32.024zm89.775-.022v4.031h-25.894l1.372-4.03h24.522zm-45.098 0l1.372 4.03H86.982V.955h24.513z\">\n",
      "            </path>\n",
      "           </svg>\n",
      "          </a>\n",
      "         </div>\n",
      "         <div class=\"bx--locale-btn__container\">\n",
      "          <button aria-label=\"\" class=\"bx--locale-btn bx--btn bx--btn--tertiary\" data-autoid=\"dds--locale-btn\" tabindex=\"0\" type=\"button\">\n",
      "           <svg aria-hidden=\"true\" aria-label=\"Earth Filled Icon\" class=\"bx--btn__icon\" fill=\"currentColor\" focusable=\"false\" height=\"20\" preserveaspectratio=\"xMidYMid meet\" role=\"img\" viewbox=\"0 0 32 32\" width=\"20\" xmlns=\"http://www.w3.org/2000/svg\">\n",
      "            <path d=\"M16,2A14,14,0,1,0,30,16,14.0158,14.0158,0,0,0,16,2ZM4.02,16.394l1.3384.4458L7,19.3027v1.2831a1,1,0,0,0,.2929.7071L10,24v2.3765A11.9941,11.9941,0,0,1,4.02,16.394ZM16,28a11.9682,11.9682,0,0,1-2.5718-.2847L14,26l1.8046-4.5116a1,1,0,0,0-.0964-.9261l-1.4113-2.117A1,1,0,0,0,13.4648,18h-4.93L7.2866,16.1274,9.4141,14H11v2h2V13.2656l3.8682-6.7695-1.7364-.9922L14.2769,7H11.5352l-1.086-1.6289A11.861,11.861,0,0,1,20,4.7V8a1,1,0,0,0,1,1h1.4648a1,1,0,0,0,.8321-.4453l.8769-1.3154A12.0331,12.0331,0,0,1,26.8945,11H22.82a1,1,0,0,0-.9806.8039l-.7221,4.4708a1,1,0,0,0,.54,1.0539L25,19l.6851,4.0557A11.9793,11.9793,0,0,1,16,28Z\">\n",
      "            </path>\n",
      "           </svg>\n",
      "          </button>\n",
      "          <div class=\"bx--modal bx--locale-modal-container\" data-autoid=\"dds--locale-modal\" role=\"presentation\">\n",
      "           <span class=\"bx--visually-hidden\" role=\"link\" tabindex=\"0\">\n",
      "            Focus sentinel\n",
      "           </span>\n",
      "           <div aria-label=\",[object Object]\" aria-modal=\"true\" class=\"bx--modal-container\" role=\"dialog\">\n",
      "            <div class=\"bx--modal-header\">\n",
      "             <h2 class=\"bx--modal-header__label bx--type-delta\">\n",
      "              <svg aria-hidden=\"true\" class=\"bx--locale-modal__label-globe\" fill=\"currentColor\" focusable=\"false\" height=\"16\" preserveaspectratio=\"xMidYMid meet\" viewbox=\"0 0 32 32\" width=\"16\" xmlns=\"http://www.w3.org/2000/svg\">\n",
      "               <path d=\"M16,2A14,14,0,1,0,30,16,14.0158,14.0158,0,0,0,16,2ZM4.02,16.394l1.3384.4458L7,19.3027v1.2831a1,1,0,0,0,.2929.7071L10,24v2.3765A11.9941,11.9941,0,0,1,4.02,16.394ZM16,28a11.9682,11.9682,0,0,1-2.5718-.2847L14,26l1.8046-4.5116a1,1,0,0,0-.0964-.9261l-1.4113-2.117A1,1,0,0,0,13.4648,18h-4.93L7.2866,16.1274,9.4141,14H11v2h2V13.2656l3.8682-6.7695-1.7364-.9922L14.2769,7H11.5352l-1.086-1.6289A11.861,11.861,0,0,1,20,4.7V8a1,1,0,0,0,1,1h1.4648a1,1,0,0,0,.8321-.4453l.8769-1.3154A12.0331,12.0331,0,0,1,26.8945,11H22.82a1,1,0,0,0-.9806.8039l-.7221,4.4708a1,1,0,0,0,.54,1.0539L25,19l.6851,4.0557A11.9793,11.9793,0,0,1,16,28Z\">\n",
      "               </path>\n",
      "              </svg>\n",
      "             </h2>\n",
      "             <button aria-label=\"Close\" class=\"bx--modal-close\" title=\"Close\" type=\"button\">\n",
      "              <svg aria-hidden=\"true\" class=\"bx--modal-close__icon\" fill=\"currentColor\" focusable=\"false\" height=\"20\" preserveaspectratio=\"xMidYMid meet\" viewbox=\"0 0 32 32\" width=\"20\" xmlns=\"http://www.w3.org/2000/svg\">\n",
      "               <path d=\"M24 9.4L22.6 8 16 14.6 9.4 8 8 9.4 14.6 16 8 22.6 9.4 24 16 17.4 22.6 24 24 22.6 17.4 16 24 9.4z\">\n",
      "               </path>\n",
      "              </svg>\n",
      "             </button>\n",
      "            </div>\n",
      "            <div class=\"bx--modal-content bx--locale-modal\">\n",
      "             <div class=\"bx--grid bx--no-gutter bx--locale-modal__regions\">\n",
      "              <div class=\"bx--row\">\n",
      "              </div>\n",
      "             </div>\n",
      "             <div class=\"bx--locale-modal__filter\">\n",
      "              <div class=\"bx--locale-modal__search\">\n",
      "               <div aria-labelledby=\"bx--locale-modal__filter-search\" class=\"bx--search bx--search--xl\" role=\"search\">\n",
      "                <div class=\"bx--search-magnifier\">\n",
      "                 <svg aria-hidden=\"true\" class=\"bx--search-magnifier-icon\" fill=\"currentColor\" focusable=\"false\" height=\"16\" preserveaspectratio=\"xMidYMid meet\" viewbox=\"0 0 16 16\" width=\"16\" xmlns=\"http://www.w3.org/2000/svg\">\n",
      "                  <path d=\"M15,14.3L10.7,10c1.9-2.3,1.6-5.8-0.7-7.7S4.2,0.7,2.3,3S0.7,8.8,3,10.7c2,1.7,5,1.7,7,0l4.3,4.3L15,14.3z M2,6.5\tC2,4,4,2,6.5,2S11,4,11,6.5S9,11,6.5,11S2,9,2,6.5z\">\n",
      "                  </path>\n",
      "                 </svg>\n",
      "                </div>\n",
      "                <label class=\"bx--label\" for=\"bx--locale-modal__filter\" id=\"bx--locale-modal__filter-search\">\n",
      "                 Search by location or language\n",
      "                </label>\n",
      "                <input autocomplete=\"off\" class=\"bx--search-input\" data-autoid=\"dds--locale-modal__filter\" id=\"bx--locale-modal__filter\" placeholder=\"\" role=\"searchbox\" tabindex=\"0\" type=\"text\"/>\n",
      "                <button aria-label=\"Clear search input\" class=\"bx--search-close bx--search-close--hidden\" type=\"button\">\n",
      "                 <svg aria-hidden=\"true\" fill=\"currentColor\" focusable=\"false\" height=\"16\" preserveaspectratio=\"xMidYMid meet\" viewbox=\"0 0 32 32\" width=\"16\" xmlns=\"http://www.w3.org/2000/svg\">\n",
      "                  <path d=\"M24 9.4L22.6 8 16 14.6 9.4 8 8 9.4 14.6 16 8 22.6 9.4 24 16 17.4 22.6 24 24 22.6 17.4 16 24 9.4z\">\n",
      "                  </path>\n",
      "                 </svg>\n",
      "                </button>\n",
      "               </div>\n",
      "               <p class=\"bx--locale-modal__search-text\">\n",
      "               </p>\n",
      "              </div>\n",
      "              <ul class=\"bx--locale-modal__list\">\n",
      "               <p aria-live=\"assertive\" class=\"bx--assistive-text\" role=\"status\">\n",
      "               </p>\n",
      "              </ul>\n",
      "             </div>\n",
      "            </div>\n",
      "           </div>\n",
      "           <span class=\"bx--visually-hidden\" role=\"link\" tabindex=\"0\">\n",
      "            Focus sentinel\n",
      "           </span>\n",
      "          </div>\n",
      "         </div>\n",
      "        </div>\n",
      "       </div>\n",
      "      </div>\n",
      "     </section>\n",
      "    </footer>\n",
      "   </div>\n",
      "   <script defer=\"\" src=\"//1.www.s81c.com/common/stats/ibm-common.js\">\n",
      "   </script>\n",
      "   <link href=\"//1.www.s81c.com/common/v18/css/forms.css\" rel=\"stylesheet\"/>\n",
      "  </div>\n",
      "  <script id=\"__NEXT_DATA__\" type=\"application/json\">\n",
      "   {\"props\":{\"pageProps\":{\"data\":{\"_id\":\"7ec18a83cb1c595406965cba92f231c4\",\"_rev\":\"11018-6275b8906c3cdedcf88b926080579469\",\"type\":\"production\",\"sections\":{\"leadspace\":{\"data\":{\"content\":[{\"blocklink\":true,\"largeCol\":\"bx--col-lg-6\",\"imagePos\":\"center right\",\"bgColor\":\"#e0e0e0\",\"ctaType\":\"links\",\"ctaColor\":\"gray-90\",\"webm\":\"\",\"gif\":\"\",\"videoImage\":\"\",\"ibmEvLinkTitle\":\"\",\"ibmEvGroup\":\"\",\"ibmEvName\":\"\",\"ibmEvSection\":\"L1\",\"ibmEvTarget\":\"\",\"lsPaddingTop\":\"ibm-pt-2\",\"lsPaddingBottom\":\"ibm-pb-2\",\"ctaOneVideoID\":\"\",\"ctaOneIcon\":\"forward\",\"videoID\":\"\",\"mp4\":\"\",\"type\":\"carbon\",\"ctaTwoVideoID\":\"\",\"ctaTwoIcon\":\"forward\",\"videoType\":\"kaltura\",\"alternate\":false,\"titleType\":\"bx--type-expressive-heading-05\",\"title\":\"Deliver projects up to 3x\\u0026nbsp;faster\",\"copy\":\"Hardwired for co-creation, IBM\\u0026nbsp;Garage is where great ideas are born and business is reinvented with hybrid cloud and\\u0026nbsp;AI\",\"timestamp\":1660230816580,\"ctaOne\":\"Speed up your digital transformation\",\"ctaOneLink\":\"https://www.ibm.com/garage?lnk=ushpv18l1\",\"airtableID\":\"26869\",\"imageMobile\":\"https://1.dam.s81c.com/public/content/dam/worldwide-content/homepage/ul/g/e0/75/20210823-ibm-garage-26083-720x360.jpg\",\"image\":\"https://1.dam.s81c.com/public/content/dam/worldwide-content/homepage/ul/g/ba/32/20210823-ibm-garage-26083-2304x983.jpg\",\"imageAlt\":\"A man and a happy woman sitting on stools in front of a wall of post-it notes\"}]}},\"newsflash\":{\"data\":{\"content\":[{\"active\":true,\"videoID\":\"\",\"bgColor\":\"#001d6c\",\"videoType\":\"kaltura\",\"ibmEvSection\":\"NF1\",\"airtableID\":\"26831\",\"sandbox\":false,\"title\":\"\\u003ci\\u003e\\u003c/i\\u003e\\u003cstrong\\u003eNew\\u003c/strong\\u003e: COVID has changed the way you understand speech â and what you expect people to say to\\u0026nbsp;you\\u0026nbsp;\\u0026#8594;\",\"stage\":false,\"timestamp\":1660318692187,\"link\":\"https://research.ibm.com/blog/pandemic-speech-understanding?lnk=ushpv18nf1\"},{\"active\":false,\"videoID\":\"\",\"bgColor\":\"#001d6c\",\"videoType\":\"kaltura\",\"sandbox\":false,\"stage\":false,\"ibmEvSection\":\"NF2\",\"title\":\"\\u003ci\\u003e\\u003cstrong\\u003eNew\\u003c/strong\\u003e: \\u003c/i\\u003e\",\"timestamp\":1657889697090,\"airtableID\":\"\",\"videoTitle\":\"\"},{\"active\":false,\"videoID\":\"\",\"bgColor\":\"#001d6c\",\"videoType\":\"kaltura\",\"ibmEvSection\":\"NF3\",\"airtableID\":\"\",\"sandbox\":false,\"title\":\"\\u003ci\\u003e\\u003cstrong\\u003eNew\\u003c/strong\\u003e: \\u003c/i\\u003e\",\"stage\":false,\"timestamp\":1657728498922},{\"active\":false,\"videoID\":\"\",\"bgColor\":\"#001d6c\",\"videoType\":\"kaltura\",\"ibmEvSection\":\"NF4\",\"airtableID\":\"26831\",\"sandbox\":false,\"title\":\"\\u003ci\\u003e\\u003cstrong\\u003eNew\\u003c/strong\\u003e: COVID has changed the way you understand speech â and what you expect people to say to\\u0026nbsp;you\\u0026nbsp;\\u0026#8594;\\u003c/i\\u003e\",\"stage\":false,\"timestamp\":1657889697090},{\"active\":false,\"videoID\":\"\",\"bgColor\":\"#001d6c\",\"videoType\":\"kaltura\",\"sandbox\":false,\"stage\":false,\"ibmEvSection\":\"NF5\",\"title\":\"\\u003ci\\u003e\\u003cstrong\\u003eCall for Code\\u003c/strong\\u003e: fast-track your idea for supply chain sustainability in the 2-week Green Practices challenge, July 13-27\\u0026nbsp;\\u0026#8594;\\u003c/i\\u003e\",\"timestamp\":1657728462618,\"airtableID\":\"26826\",\"videoTitle\":\"\",\"link\":\"https://developer.ibm.com/events/call-for-code-green-practices-accelerator?lnk=ushpv18nf5\"},{\"active\":false,\"videoID\":\"\",\"bgColor\":\"#001d6c\",\"videoType\":\"kaltura\",\"ibmEvSection\":\"NF6\",\"airtableID\":\"\",\"sandbox\":false,\"title\":\"\\u003ci\\u003e\\u003cstrong\\u003eNew\\u003c/strong\\u003e: \\u0026nbsp;\\u0026#8594;\\u003c/i\\u003e\",\"stage\":false,\"timestamp\":1657630152839,\"link\":\"\"},{\"active\":false,\"videoID\":\"\",\"bgColor\":\"#001d6c\",\"videoType\":\"kaltura\",\"ibmEvSection\":\"NF7\",\"airtableID\":\"26804\",\"sandbox\":false,\"title\":\"\\u003ci\\u003e\\u003cstrong\\u003eNew\\u003c/strong\\u003e:  The latest IBM MQ Appliance, M2003, will simplify and speed up hybrid cloud application and data integration\\u0026nbsp;\\u0026#8594;\\u003c/i\\u003e\",\"stage\":false,\"timestamp\":1657734200736,\"link\":\"https://www.ibm.com/cloud/blog/announcements/ibm-mq-appliance-m2003?lnk=ushpv18nf7\"},{\"active\":false,\"videoID\":\"\",\"bgColor\":\"#001d6c\",\"videoType\":\"kaltura\",\"ibmEvSection\":\"NF8\",\"airtableID\":\"\",\"sandbox\":false,\"title\":\"\\u003ci\\u003e\\u003cstrong\\u003e \\u0026nbsp;\\u0026#8594;\\u003c/i\\u003e\",\"stage\":false,\"timestamp\":1657577388378,\"link\":\"\"}]}},\"mastheadbtn\":{\"data\":{\"content\":[{\"stage\":false,\"tool\":false,\"title\":\"Stay safe, y\\u0026#8217;all.\",\"link\":\"https://www.ibm.com/impact/covid-19/?lnk=ushpv18mb\",\"active\":false,\"timestamp\":1591040701251}]}},\"featured\":{\"data\":{\"content\":[{\"videoImage\":\"\",\"videoType\":\"kaltura\",\"ibmEvLinkTitle\":\"\",\"ibmEvGroup\":\"\",\"ibmEvName\":\"\",\"ibmEvSection\":\"F1\",\"ibmEvTarget\":\"\",\"damVideoMP4\":\"\",\"damVideoWebM\":\"\",\"icon\":\"forward\",\"videoID\":\"\",\"title\":\"26852 Customer experience POV\",\"timestamp\":1660252806845,\"airtableID\":\"26852\",\"eyebrow\":\"Human-centered transformation\",\"copy\":\"A design-led, data-driven approach to customer experience delivers a significant competitive advantage. See how.\",\"image\":\"https://1.dam.s81c.com/p/08f94d882746b787/20220815-consulting-design-data-led-experience-transformation-26852-444x333.jpg\",\"link\":\"https://www.ibm.com/consulting/resources/design-data-led-experience-transformation/?lnk=ushpv18f1\",\"imageAlt\":\"Vertical bars in shades of green with a finger pointing to a pink circle in the middle\"},{\"videoImage\":\"\",\"videoType\":\"youtube\",\"ibmEvLinkTitle\":\"\",\"ibmEvGroup\":\"\",\"ibmEvName\":\"\",\"ibmEvSection\":\"F2\",\"ibmEvTarget\":\"\",\"damVideoMP4\":\"\",\"damVideoWebM\":\"\",\"icon\":\"forward\",\"videoID\":\"\",\"title\":\"26872 IT \\u0026 Cloud Fundamentals courses\",\"timestamp\":1660252852897,\"airtableID\":\"26872\",\"mobileImg\":\"https://1.dam.s81c.com/public/content/dam/worldwide-content/homepage/ul/g/9e/7c/20210823-f-swiss-re-case-study-26069.jpg\",\"imageAlt\":\"Two men and a woman on an office sofa stare intently into a laptop screen\",\"eyebrow\":\"Launch your tech career\",\"copy\":\"This five-course program in IT and cloud fundamentals prepares beginners for a variety of careers in technology\",\"link\":\"https://www.ibm.com/blogs/ibm-training/master-technology-basics-with-ibm-information-technology-it-and-cloud-fundamentals-courses/?lnk=ushpv18f2\",\"image\":\"https://1.dam.s81c.com/p/08a56f9ac2462279/2022_03_24_Slowell_INSIDE_IBM-AUSTIN-Office_128.jpg.global.s_4x3.png\"},{\"videoImage\":\"\",\"videoType\":\"youtube\",\"ibmEvLinkTitle\":\"\",\"ibmEvGroup\":\"\",\"ibmEvName\":\"\",\"ibmEvSection\":\"F3\",\"ibmEvTarget\":\"\",\"damVideoMP4\":\"\",\"damVideoWebM\":\"\",\"icon\":\"forward\",\"videoID\":\"\",\"title\":\"26892 NC Lella Halloum\",\"timestamp\":1660252948787,\"airtableID\":\"26892\",\"copy\":\"New Creator Lella Halloum works to ensure equitable access to technology across the globe\",\"image\":\"https://1.dam.s81c.com/p/08196d0e04a60b45/lella-halloum-new-creator-1600x900.jpg.global.s_4x3.jpg\",\"mobileImg\":\"https://1.dam.s81c.com/public/content/dam/worldwide-content/homepage/ul/g/9e/7c/20210823-f-swiss-re-case-study-26069.jpg\",\"eyebrow\":\"Student, tech wiz, humanitarian\",\"imageAlt\":\"Portrait of the young, brunette Lella Halloum wearing a powder-blue blazer\",\"button\":\"\",\"link\":\"https://www.ibm.com/thought-leadership/new-creators/lella-halloum/?lnk=ushpv18f3\"},{\"videoImage\":\"\",\"videoType\":\"youtube\",\"ibmEvLinkTitle\":\"\",\"ibmEvGroup\":\"\",\"ibmEvName\":\"\",\"ibmEvSection\":\"F4\",\"ibmEvTarget\":\"\",\"damVideoMP4\":\"\",\"damVideoWebM\":\"\",\"icon\":\"forward\",\"videoID\":\"\",\"title\":\"26879 IBV: Post-pandemic overconfidence\",\"timestamp\":1660253032105,\"airtableID\":\"26879\",\"eyebrow\":\"Report: change isnât over yet\",\"copy\":\"Are business leaders overconfident in this post-pandemic moment? Hereâs a realistic look at an uncertain future.\",\"image\":\"https://1.dam.s81c.com/p/08f94d882746b788/20220815-pandemic-overconfidence-26879-444x333.jpg\",\"link\":\"https://www.ibm.com/thought-leadership/institute-business-value/en-us/report/post-pandemic-overconfidence?lnk=ushpv18f4\",\"imageAlt\":\"Headshot of a very confident-looking white-haired man pulling a white covid mask off his face\"},{\"subcopy\":\"\",\"ibmEvLinkTitle\":\"\",\"ibmEvGroup\":\"\",\"ibmEvName\":\"\",\"ibmEvSection\":\"F5\",\"ibmEvTarget\":\"\",\"button_mobile\":\"t1\",\"videoID\":\"\",\"icon\":\"forward\",\"image\":\"\",\"title\":\"\",\"eyebrow\":\"\",\"copy\":\"\",\"button\":\"\",\"timestamp\":1644590702649,\"airtableID\":\"\",\"link\":\"\"},{\"subcopy\":\"\",\"ibmEvLinkTitle\":\"\",\"ibmEvGroup\":\"\",\"ibmEvName\":\"\",\"ibmEvSection\":\"F6\",\"ibmEvTarget\":\"\",\"button_mobile\":\"t1\",\"videoID\":\"\",\"icon\":\"forward\",\"image\":\"https://1.dam.s81c.com/public/content/dam/worldwide-content/homepage/ul/g/7b/7b/20220117-cloud-simplicity-26358-2304x983.png\",\"title\":\"\",\"eyebrow\":\"A unified cloud experience\",\"copy\":\"Build, deploy and scale faster across any environment with consistency and security\",\"button\":\"Simplify your multicloud\",\"timestamp\":1643665707293,\"airtableID\":\"\",\"link\":\"https://www.ibm.com/cloud/campaign/cloud-simplicity?lnk=ushpv18f6\"},{\"videoImage\":\"\",\"videoType\":\"youtube\",\"ibmEvLinkTitle\":\"\",\"ibmEvGroup\":\"\",\"ibmEvName\":\"\",\"ibmEvSection\":\"F7\",\"ibmEvTarget\":\"\",\"damVideoMP4\":\"\",\"damVideoWebM\":\"\",\"icon\":\"forward\",\"videoID\":\"\",\"title\":\"\",\"link\":\"https://www.ibm.com/consulting/?lnk=ushpv18f7\",\"image\":\"https://1.dam.s81c.com/public/content/dam/worldwide-content/homepage/ul/g/ae/b2/20211103-f-ibm-consulting-26242.gif\",\"eyebrow\":\"Move fast and far with IBM Consulting\",\"copy\":\"Together, we can turn ideas into action better than we ever could alone\",\"button\":\"Navigate the new rules of modern business with a partner you\\u0026nbsp;trust\",\"timestamp\":1643665749045,\"airtableID\":\"\"},{\"videoID\":\"\",\"videoImage\":\"\",\"videoType\":\"youtube\",\"ibmEvLinkTitle\":\"\",\"ibmEvGroup\":\"\",\"ibmEvName\":\"\",\"ibmEvSection\":\"F8\",\"ibmEvTarget\":\"\",\"damVideoMP4\":\"\",\"damVideoWebM\":\"\",\"icon\":\"forward\",\"timestamp\":1643665604671,\"title\":\"\",\"eyebrow\":\"\",\"button\":\"\",\"copy\":\"\",\"image\":\"\",\"link\":\"\",\"airtableID\":\"\"},{\"videoImage\":\"\",\"videoType\":\"kaltura\",\"ibmEvLinkTitle\":\"\",\"ibmEvGroup\":\"\",\"ibmEvName\":\"\",\"ibmEvSection\":\"F9\",\"ibmEvTarget\":\"\",\"damVideoMP4\":\"\",\"damVideoWebM\":\"\",\"icon\":\"forward\",\"videoID\":\"\",\"title\":\"\",\"image\":\"\",\"link\":\"\",\"button\":\"\",\"eyebrow\":\"\",\"copy\":\"\",\"timestamp\":1643665619583,\"airtableID\":\"\"},{\"subcopy\":\"\",\"ibmEvLinkTitle\":\"\",\"ibmEvGroup\":\"\",\"ibmEvName\":\"\",\"ibmEvSection\":\"F10\",\"ibmEvTarget\":\"\",\"button_mobile\":\"t1\",\"videoID\":\"\",\"icon\":\"forward\",\"image\":\"\",\"title\":\"\",\"eyebrow\":\"\",\"copy\":\"\",\"button\":\"\",\"link\":\"\",\"timestamp\":1643665630573,\"airtableID\":\"\"},{\"subcopy\":\"\",\"ibmEvLinkTitle\":\"\",\"ibmEvGroup\":\"\",\"ibmEvName\":\"\",\"ibmEvSection\":\"F11\",\"ibmEvTarget\":\"\",\"button_mobile\":\"t1\",\"videoID\":\"\",\"icon\":\"forward\",\"image\":\"\",\"title\":\"\",\"eyebrow\":\"\",\"copy\":\"\",\"button\":\"\",\"link\":\"\",\"timestamp\":1643665641479,\"airtableID\":\"\"},{\"videoImage\":\"\",\"videoType\":\"kaltura\",\"ibmEvLinkTitle\":\"\",\"ibmEvGroup\":\"\",\"ibmEvName\":\"\",\"ibmEvSection\":\"F12\",\"ibmEvTarget\":\"\",\"damVideoMP4\":\"\",\"damVideoWebM\":\"\",\"icon\":\"forward\",\"videoID\":\"\",\"title\":\"\",\"eyebrow\":\"\",\"copy\":\"\",\"button\":\"\",\"image\":\"\",\"link\":\"\",\"timestamp\":1643665651571,\"airtableID\":\"\"}]},\"config\":{\"type\":\"quatro\",\"totalCards\":\"12\"}},\"research\":{\"data\":{\"content\":[{\"videoImage\":\"\",\"videoType\":\"youtube\",\"ibmEvLinkTitle\":\"\",\"ibmEvGroup\":\"\",\"ibmEvName\":\"\",\"ibmEvSection\":\"R1\",\"ibmEvTarget\":\"\",\"damVideoMP4\":\"\",\"damVideoWebM\":\"\",\"icon\":\"forward\",\"videoID\":\"\",\"title\":\"26889 Covid vocabulary\",\"timestamp\":1660325108248,\"airtableID\":\"26889\",\"copy\":\"\\n\",\"image\":\"https://1.dam.s81c.com/p/08f95134b12702d8/20220815-r1-covid-vocabulary-v2-26889-1600x900.jpg\",\"mobileImg\":\"https://1.dam.s81c.com/public/content/dam/worldwide-content/homepage/ul/g/9e/7c/20210823-f-swiss-re-case-study-26069.jpg\",\"headline\":\"AI processes can have a massive carbon footprint. They donât have to, thanks to analog AI.\",\"link\":\"https://research.ibm.com/blog/pandemic-speech-understanding?lnk=ushpv18r1\",\"eyebrow\":\"Even if youâve never had COVID, youâre carrying its vocabulary\",\"imageAlt\":\"Op-art word salad of \\\"mask\\\" turning into \\\"task\\\"\"},{\"videoImage\":\"\",\"videoType\":\"youtube\",\"ibmEvLinkTitle\":\"\",\"ibmEvGroup\":\"\",\"ibmEvName\":\"\",\"ibmEvSection\":\"R2\",\"ibmEvTarget\":\"\",\"damVideoMP4\":\"\",\"damVideoWebM\":\"\",\"icon\":\"forward\",\"videoID\":\"\",\"title\":\"26898 Accelerated materials discovery\",\"timestamp\":1660257881452,\"airtableID\":\"26898\",\"image\":\"https://1.dam.s81c.com/p/0857136baca6a8d9/20220711-r-accelerated-sustainable-materials-discovery-v1-26797-800x450.jpg\\n\",\"mobileImg\":\"https://1.dam.s81c.com/public/content/dam/worldwide-content/homepage/ul/g/9e/7c/20210823-f-swiss-re-case-study-26069.jpg\",\"headline\":\"Pin-Yu Chen challenges AI every day to build the most trustworthy systems possible\",\"link\":\"https://research.ibm.com/blog/new-sustainable-materials?lnk=ushpv18r2\",\"eyebrow\":\"AI accelerates the discovery of sustainable materials for carbon capture, batteries and more\",\"imageAlt\":\"A blonde woman in safety glasses working with lab equipment\"},{\"videoImage\":\"\",\"videoType\":\"youtube\",\"ibmEvLinkTitle\":\"\",\"ibmEvGroup\":\"\",\"ibmEvName\":\"\",\"ibmEvSection\":\"R3\",\"ibmEvTarget\":\"\",\"damVideoMP4\":\"\",\"damVideoWebM\":\"\",\"icon\":\"forward\",\"videoID\":\"\",\"title\":\"26894 Stock tweet manipulation\",\"timestamp\":1660257870048,\"airtableID\":\"26894\",\"image\":\"https://1.dam.s81c.com/p/08b38f4a7f265590/20220801-r1-stock-tweet-manipulation-26864-1600x900.jpg\",\"mobileImg\":\"https://1.dam.s81c.com/public/content/dam/worldwide-content/homepage/ul/g/9e/7c/20210823-f-swiss-re-case-study-26069.jpg\",\"headline\":\"Pin-Yu Chen challenges AI every day to build the most trustworthy systems possible\",\"link\":\"https://research.ibm.com/blog/adversarial-attack-stock-prediction?lnk=ushpv18r3\",\"eyebrow\":\"If youâre getting stock tips from Twitter, you should learn how researchers spot the fake ones\",\"imageAlt\":\"Colorful stock quotes on a smart phone\"},{\"videoImage\":\"\",\"videoType\":\"youtube\",\"ibmEvLinkTitle\":\"\",\"ibmEvGroup\":\"\",\"ibmEvName\":\"\",\"ibmEvSection\":\"R4\",\"ibmEvTarget\":\"\",\"damVideoMP4\":\"\",\"damVideoWebM\":\"\",\"icon\":\"forward\",\"videoID\":\"\",\"title\":\"26896 Quantum for developers\",\"timestamp\":1660252527469,\"airtableID\":\"26896\",\"copy\":\"\\n\",\"image\":\"https://1.dam.s81c.com/public/content/dam/worldwide-content/homepage/ul/g/0e/10/20220321-r-quantum-for-developers-800x450.jpg\",\"mobileImg\":\"https://1.dam.s81c.com/public/content/dam/worldwide-content/homepage/ul/g/9e/7c/20210823-f-swiss-re-case-study-26069.jpg\",\"headline\":\"AI processes can have a massive carbon footprint. They donât have to, thanks to analog AI.\",\"link\":\"https://www.ibm.com/quantum-computing/developers/?lnk=ushpv18r4\",\"eyebrow\":\"Developers: build programs that solve problems in new ways on IBM Quantum systems\\n\",\"imageAlt\":\"IBM Quantum project manager Kayla Lee, looking into the camera\"}]},\"config\":{\"enabled\":\"true\",\"type\":\"carousel\",\"totalCards\":\"12\"}},\"makers\":{\"data\":{\"content\":[{\"alternate\":true,\"ctaColor\":\"red-50\",\"ibmEvLinkTitle\":\"\",\"ibmEvGroup\":\"\",\"ibmEvName\":\"case study\",\"ibmEvSection\":\"M1\",\"ibmEvTarget\":\"\",\"imageMobile\":\"\",\"damVideoMP4\":\"\",\"damVideoWebM\":\"\",\"ctaCopyThree\":\"\",\"ctaLinkTwoThree\":\"\",\"imagePos\":\"center center\",\"copyTwo\":\"\",\"videoType\":\"kaltura\",\"eyebrow\":\"Whereâs the bus? If youâre in San Antonio, just ask Ava.\\n\",\"airtableID\":\"26888\",\"videoID\":\"\",\"mobileColumnHalf\":true,\"timestamp\":1660324455534,\"ctaLinkOne\":\"https://www.ibm.com/case-studies/audi-uk/?lnk=ushpv18cs1\",\"copyOne\":\"A commitment to enhanced user experience enabled Audi UK to deepen its connection to customers\",\"title\":\"26888 VIA Metropolitan Transit\",\"ctaCopyOne\":\"See how IBM Consulting helped boost lead generation by 59%\",\"button\":\"See how VIA Metropolitan Transit uses AI and cloud to keep customers informed\\u0026nbsp;24x7\",\"copy\":\"The bilingual digital assistant conducts 3,000 conversations with public transportation riders monthly\\n\",\"link\":\"https://www.ibm.com/case-studies/via-metropolitan-transit/?lnk=ushpv18m1\",\"image\":\"https://1.dam.s81c.com/p/08b38f4a7f265591/20220801-m-via-metropolitan-transit-26857-1600x900.jpg\",\"imageAlt\":\"A red bus driving on a bright street past a building with graffiti art on it\"},{\"alternate\":true,\"ctaColor\":\"red-50\",\"ibmEvLinkTitle\":\"\",\"ibmEvGroup\":\"\",\"ibmEvName\":\"case study\",\"ibmEvSection\":\"M2\",\"ibmEvTarget\":\"\",\"imageMobile\":\"\",\"damVideoMP4\":\"\",\"damVideoWebM\":\"\",\"ctaCopyThree\":\"\",\"ctaLinkTwoThree\":\"\",\"imagePos\":\"center center\",\"copyTwo\":\"\",\"videoType\":\"kaltura\",\"eyebrow\":\"The work of days, done in hours\\n\",\"airtableID\":\"26887\",\"videoID\":\"\",\"mobileColumnHalf\":true,\"timestamp\":1660253172485,\"ctaLinkOne\":\"https://www.ibm.com/case-studies/audi-uk/?lnk=ushpv18cs1\",\"copyOne\":\"A commitment to enhanced user experience enabled Audi UK to deepen its connection to customers\",\"title\":\"26887 Deloitte\",\"ctaCopyOne\":\"See how IBM Consulting helped boost lead generation by 59%\",\"button\":\"See how robotic process automation freed up to 8 days a month for each expertâs higher\\u0026#8209;level\\u0026nbsp;work\",\"copy\":\"Deloitteâs Brazil HQ needed to reduce the time their analysts spent composing monthly reports\\n\",\"link\":\"https://www.ibm.com/case-studies/deloitte/?lnk=ushpv18m2\",\"image\":\"https://1.dam.s81c.com/p/08b38f4a8026565a/20220808-m-deloitte-1600x900.jpg\",\"imageAlt\":\"Photograph of a cable-stay bridge and modern infrastructure in SÃ£o Paulo\"},{\"alternate\":true,\"ctaColor\":\"red-50\",\"ibmEvLinkTitle\":\"\",\"ibmEvGroup\":\"\",\"ibmEvName\":\"case study\",\"ibmEvSection\":\"M3\",\"ibmEvTarget\":\"\",\"imageMobile\":\"\",\"damVideoMP4\":\"\",\"damVideoWebM\":\"\",\"ctaCopyThree\":\"\",\"ctaLinkTwoThree\":\"\",\"imagePos\":\"center center\",\"copyTwo\":\"\",\"videoType\":\"kaltura\",\"eyebrow\":\"When youâre battling a pandemic, speed saves lives\",\"airtableID\":\"26886\",\"videoID\":\"\",\"mobileColumnHalf\":true,\"timestamp\":1660324455533,\"ctaLinkOne\":\"https://www.ibm.com/case-studies/audi-uk/?lnk=ushpv18cs1\",\"copyOne\":\"A commitment to enhanced user experience enabled Audi UK to deepen its connection to customers\",\"title\":\"26886 National Center for High-performance Computing\",\"ctaCopyOne\":\"See how IBM Consulting helped boost lead generation by 59%\",\"button\":\"See how a partnership with IBM Garage is accelerating research and innovation for COVID-19 and\\u0026nbsp;more\",\"copy\":\"Network downtime slows research efforts. With AIOps, Taiwanâs national computing center cut outage detection time by\\u0026nbsp;55%.\",\"link\":\"https://www.ibm.com/case-studies/national-center-for-high-performance-computing/?lnk=ushpv18m3\",\"image\":\"https://1.dam.s81c.com/p/08f94d882746b794/20220815-m-national-center-for-high-performing-computing-26886-1600x900.jpg\",\"imageAlt\":\"A uniformed nurse in a surgical mask works on a computer\"}]},\"config\":{\"enabled\":\"true\",\"type\":\"carousel\",\"totalCards\":\"12\"}},\"tech\":{\"data\":{\"content\":[{\"imageMobile\":\"10312017-n-episode6-starwars-600x260.jpg\",\"videoType\":\"kaltura\",\"ibmEvLinkTitle\":\"Dear Tech Sonoma\",\"ibmEvGroup\":\"Advertising\",\"ibmEvName\":\"Ad support\",\"ibmEvSection\":\"DT\",\"ibmEvTarget\":\"\",\"damVideoMP4\":\"\",\"damVideoWebM\":\"\",\"videoID\":\"\",\"icon\":\"forward\",\"copy\":\"\",\"link\":\"\",\"airtableID\":\"\",\"title\":\"\",\"eyebrow\":\"\",\"button\":\"\",\"image\":\"\",\"timestamp\":1598626304757},{\"icon\":\"forward\",\"videoID\":\"\",\"videoType\":\"kaltura\",\"ibmEvLinkTitle\":\"Network Consulting Services\",\"ibmEvGroup\":\"GTS\",\"ibmEvName\":\"service\",\"ibmEvSection\":\"BT\",\"ibmEvTarget\":\"\",\"damVideoMP4\":\"\",\"damVideoWebM\":\"\",\"title\":\"\",\"eyebrow\":\"\",\"image\":\"\",\"copy\":\"\",\"button\":\"\",\"link\":\"\",\"timestamp\":1598626317181,\"airtableID\":\"\"},{\"videoType\":\"kaltura\",\"ibmEvLinkTitle\":\"Systems TechU Las Vegas\",\"ibmEvGroup\":\"STG\",\"ibmEvName\":\"event\",\"ibmEvSection\":\"ST\",\"ibmEvTarget\":\"\",\"damVideoMP4\":\"\",\"damVideoWebM\":\"\",\"videoID\":\"\",\"icon\":\"play\",\"airtableID\":\"\",\"title\":\"\",\"copy\":\"\",\"eyebrow\":\"\",\"link\":\"\",\"image\":\"\",\"button\":\"\",\"timestamp\":1598626329298}]}},\"trials\":{\"data\":{\"content\":[{\"subcopy\":\"\",\"ibmEvLinkTitle\":\"\",\"ibmEvGroup\":\"\",\"ibmEvName\":\"\",\"ibmEvSection\":\"T1\",\"ibmEvTarget\":\"\",\"button_mobile\":\"T4\",\"timestamp\":1660253779971,\"airtableID\":\"1250\",\"title\":\"1250 IBM Cloud Pak for Automation\",\"image\":\"https://1.dam.s81c.com/p/0801d7b5f93ae6b7/Cloud-Pak-for-Automation-trial-800x450.jpg\",\"eyebrow\":\"IBM Cloud Pak for Automation\",\"copy\":\"Build and scale automation applications on any cloud. Start with a free trial.\",\"link\":\"https://www.ibm.com/cloud/cloud-pak-for-automation?lnk=ushpv18t1\",\"imageAlt\":\"Interface of a sample Cloud Pak dashboard displaying scores, a pie chart and a bar graph\"},{\"subcopy\":\"\",\"ibmEvLinkTitle\":\"\",\"ibmEvGroup\":\"\",\"ibmEvName\":\"\",\"ibmEvSection\":\"T2\",\"ibmEvTarget\":\"\",\"button_mobile\":\"\",\"icon\":\"forward\",\"timestamp\":1660253679139,\"title\":\"1251 IBM Cognos Analytics with Watson\",\"airtableID\":\"1251\",\"copy\":\"Get AI capabilities to take your business analytics a step further, free for 30\\u0026nbsp;days\",\"eyebrow\":\"IBM Cognos Analytics with Watson\",\"image\":\"https://1.dam.s81c.com/p/08b38f4a80a656ec/cognos-analytics-dashboard-trial-800x450.jpg\",\"link\":\"https://www.ibm.com/products/cognos-analytics?lnk=ushpv18t2\",\"imageAlt\":\"Cognos Analytics interface showing stats and colorful bar graphs\"},{\"icon\":\"forward\",\"videoID\":\"\",\"videoImage\":\"\",\"videoType\":\"youtube\",\"ibmEvLinkTitle\":\"\",\"ibmEvGroup\":\"\",\"ibmEvName\":\"\",\"ibmEvSection\":\"T3\",\"ibmEvTarget\":\"\",\"damVideoMP4\":\"\",\"damVideoWebM\":\"\",\"timestamp\":1660255445149,\"title\":\"1253 IBM Instana Observability\",\"airtableID\":\"1253\",\"imageAlt\":\"Instana Observability interface displaying a multi-paned dashboard for application management\",\"copy\":\"Easily manage the performance of your microservice applications. Try it\\u0026nbsp;free.\",\"eyebrow\":\"IBM Instana Observability\",\"image\":\"https://1.dam.s81c.com/p/08b38f4a80a656cd/istana-observability-apm-monitoring-use-case-1249-800x450.png\",\"link\":\"https://www.ibm.com/cloud/instana?lnk=ushpv18t1\"},{\"subcopy\":\"\",\"ibmEvLinkTitle\":\"\",\"ibmEvGroup\":\"\",\"ibmEvName\":\"\",\"ibmEvSection\":\"T4\",\"ibmEvTarget\":\"\",\"button_mobile\":\"T4\",\"timestamp\":1645198930856,\"airtableID\":\"\",\"title\":\"\",\"image\":\"\",\"eyebrow\":\"\",\"copy\":\"\",\"button\":\"\",\"link\":\"\"}]}},\"contentspotlight\":{\"data\":{\"content\":[{\"alternate\":true,\"ctaColor\":\"red-50\",\"ibmEvLinkTitle\":\"\",\"ibmEvGroup\":\"\",\"ibmEvName\":\"case study\",\"ibmEvSection\":\"CS1\",\"ibmEvTarget\":\"\",\"imageMobile\":\"\",\"damVideoMP4\":\"\",\"damVideoWebM\":\"\",\"ctaCopyThree\":\"\",\"ctaLinkTwoThree\":\"\",\"imagePos\":\"center left\",\"copyTwo\":\"\",\"videoType\":\"kaltura\",\"eyebrow\":\"\",\"airtableID\":\"\",\"videoID\":\"\",\"mobileColumnHalf\":true,\"timestamp\":1645199476505,\"ctaLinkOne\":\"\",\"copyOne\":\"\",\"title\":\"\",\"ctaCopyOne\":\"\",\"image\":\"\"},{\"alternate\":true,\"image\":\"https://1.dam.s81c.com/public/content/dam/worldwide-content/homepage/ul/g/ea/ca/cs-hub-logos-k-1042x1130.png\",\"ctaColor\":\"red-50\",\"videoID\":\"\",\"videoType\":\"youtube\",\"ibmEvLinkTitle\":\"\",\"ibmEvGroup\":\"\",\"ibmEvName\":\"case study\",\"ibmEvSection\":\"CS2\",\"ibmEvTarget\":\"\",\"imageMobile\":\"\",\"damVideoMP4\":\"\",\"damVideoWebM\":\"\",\"ctaCopyThree\":\"\",\"ctaLinkTwoThree\":\"\",\"imagePos\":\"center center\",\"eyebrow\":\"25339\",\"title\":\"Client success stories\",\"ctaCopyTwo\":\"\",\"ctaCopyOne\":\"Read how industry leaders put smart to work\",\"ctaLinkTwo\":\"\",\"ctaLinkOne\":\"https://www.ibm.com/case-studies/search?search\\u0026lnk=ushpv18cs2\",\"copyOne\":\"\",\"copyTwo\":\"\",\"timestamp\":1638195426535,\"airtableID\":\"25339\",\"mobileColumnHalf\":true}]},\"config\":{\"type\":\"dos\"}},\"thinknews\":{\"data\":{\"content\":[{\"videoImage\":\"\",\"videoType\":\"youtube\",\"ibmEvLinkTitle\":\"\",\"ibmEvGroup\":\"\",\"ibmEvName\":\"\",\"ibmEvSection\":\"Th1\",\"ibmEvTarget\":\"\",\"damVideoMP4\":\"\",\"damVideoWebM\":\"\",\"icon\":\"forward\",\"videoID\":\"\",\"label\":\"\",\"title\":\"\",\"image\":\"https://1.dam.s81c.com/p/0797bc3546c3dcc9/20220405-ibm-z-multiframe-annc-444x320-26343.jpg\",\"copy\":\"Breeze through 25 billion secure transactions daily, across any hybrid cloud structure\",\"eyebrow\":\"\",\"timestamp\":1655481021045,\"airtableID\":\"\",\"link\":\"\",\"active\":false,\"sandbox\":false,\"stage\":false},{\"videoImage\":\"\",\"videoType\":\"youtube\",\"ibmEvLinkTitle\":\"\",\"ibmEvGroup\":\"\",\"ibmEvName\":\"\",\"ibmEvSection\":\"Th2\",\"ibmEvTarget\":\"\",\"damVideoMP4\":\"\",\"damVideoWebM\":\"\",\"icon\":\"forward\",\"videoID\":\"\",\"label\":\"\",\"title\":\"\",\"timestamp\":1655481064068,\"airtableID\":\"\",\"eyebrow\":\"\",\"copy\":\"Four out of five companies surveyed use or plan to adopt AI. Find out why.\\n\",\"link\":\"\",\"active\":false,\"sandbox\":false,\"stage\":false},{\"videoImage\":\"\",\"videoType\":\"youtube\",\"ibmEvLinkTitle\":\"\",\"ibmEvGroup\":\"\",\"ibmEvName\":\"\",\"ibmEvSection\":\"Th3\",\"ibmEvTarget\":\"\",\"damVideoMP4\":\"\",\"damVideoWebM\":\"\",\"icon\":\"forward\",\"videoID\":\"\",\"label\":\"\",\"title\":\"\",\"timestamp\":1655481115853,\"airtableID\":\"\",\"eyebrow\":\"\",\"copy\":\"Boost your growth with up to $120K in cloud credits and expert mentoring when you join the Startup with IBM program\\n\",\"image\":\"https://1.dam.s81c.com/public/content/dam/worldwide-content/homepage/ul/g/0e/e0/20220131-startup-26374-444x320.jpg\",\"link\":\"\",\"active\":false,\"sandbox\":false,\"stage\":false},{\"videoImage\":\"\",\"videoType\":\"youtube\",\"ibmEvLinkTitle\":\"\",\"ibmEvGroup\":\"\",\"ibmEvName\":\"\",\"ibmEvSection\":\"Th4\",\"ibmEvTarget\":\"\",\"damVideoMP4\":\"\",\"damVideoWebM\":\"\",\"icon\":\"forward\",\"videoID\":\"\",\"label\":\"\",\"title\":\"\",\"image\":\"https://1.dam.s81c.com/p/0797bc3546c3dcc9/20220405-ibm-z-multiframe-annc-444x320-26343.jpg\",\"copy\":\"Breeze through 25 billion secure transactions daily, across any hybrid cloud structure\\n\",\"eyebrow\":\"\",\"timestamp\":1655481135287,\"airtableID\":\"\",\"link\":\"\",\"active\":false,\"sandbox\":false,\"stage\":false},{\"videoImage\":\"\",\"videoType\":\"youtube\",\"ibmEvLinkTitle\":\"\",\"ibmEvGroup\":\"\",\"ibmEvName\":\"\",\"ibmEvSection\":\"Th5\",\"ibmEvTarget\":\"\",\"damVideoMP4\":\"\",\"damVideoWebM\":\"\",\"icon\":\"forward\",\"videoID\":\"\",\"label\":\"Creativity at work\",\"title\":\"\",\"timestamp\":1652111841522,\"airtableID\":\"\",\"eyebrow\":\"Meet the New Creators, 10 visionaries creatively applying technology in business to drive change\",\"copy\":\"Boost your growth with up to $120K in cloud credits and expert mentoring when you join the Startup with IBM program\\n\",\"image\":\"https://1.dam.s81c.com/public/content/dam/worldwide-content/homepage/ul/g/0e/e0/20220131-startup-26374-444x320.jpg\",\"link\":\"https://www.ibm.com/thought-leadership/new-creators?lnk=ushpv18Th3\",\"active\":false,\"sandbox\":false,\"stage\":false},{\"videoImage\":\"\",\"videoType\":\"youtube\",\"ibmEvLinkTitle\":\"\",\"ibmEvGroup\":\"\",\"ibmEvName\":\"\",\"ibmEvSection\":\"Th6\",\"ibmEvTarget\":\"\",\"damVideoMP4\":\"\",\"damVideoWebM\":\"\",\"icon\":\"forward\",\"videoID\":\"\",\"label\":\"Creativity at work\",\"title\":\"\",\"timestamp\":1652111851031,\"airtableID\":\"\",\"eyebrow\":\"Meet the New Creators, 10 visionaries creatively applying technology in business to drive change\",\"copy\":\"Boost your growth with up to $120K in cloud credits and expert mentoring when you join the Startup with IBM program\\n\",\"image\":\"https://1.dam.s81c.com/public/content/dam/worldwide-content/homepage/ul/g/0e/e0/20220131-startup-26374-444x320.jpg\",\"link\":\"https://www.ibm.com/thought-leadership/new-creators?lnk=ushpv18Th3\",\"active\":false,\"sandbox\":false,\"stage\":false}]}},\"big6LeadspaceCards\":{\"data\":{\"content\":[{\"title\":\"Work safe. Work smart.\",\"copy\":\"\",\"link\":\"https://www.ibm.com/smarter-business/work-safe?lnk=ushpv18cv1\",\"timestamp\":1591797887933},{\"title\":\"Engage customers anywhere with Watson\",\"copy\":\"\",\"link\":\"https://www.ibm.com/smarter-business/customer-experience?lnk=ushpv18cv2\",\"timestamp\":1591797833198},{\"title\":\"Enhance your IT resiliency and business continuity\",\"copy\":\"\",\"link\":\"https://www.ibm.com/services/business-continuity?lnk=ushpv18cv3\",\"timestamp\":1591797923124},{\"title\":\"Accelerate agility and efficiency with IBM Cloud\",\"copy\":\"\",\"link\":\"https://www.ibm.com/cloud/yourcloud?lnk=ushpv18cv4\",\"timestamp\":1591798189360},{\"title\":\"Protect against new cyber risks\",\"copy\":\"\",\"link\":\"https://www.ibm.com/security?lnk=ushpv18cv5\",\"timestamp\":1591990121847},{\"title\":\"Build resilient supply chains and operations\",\"copy\":\"\",\"link\":\"https://www.ibm.com/supply-chain?lnk=ushpv18cv6\",\"timestamp\":1591990130317}]}},\"certifications\":{\"data\":{\"content\":[{\"ibmEvSection\":\"tc1\",\"image\":\" https://1.dam.s81c.com/public/content/dam/worldwide-content/homepage/ul/g/bb/fd/20211018-cert-tech-u-virtual-edition.png\",\"eyebrow\":\"IBM TechU virtual edition: October 25â28\",\"title\":\"IBM TechU 2021, the virtual edition\",\"button\":\"Register to choose from 250+ sessions and labs, and engage live with experts and peers\",\"timestamp\":1634607850644,\"airtableID\":\"26189\",\"link\":\"https://www.ibm.com/training/events/vtechu2021?lnk=ushpv18tc1\",\"mobileImg\":\"https://1.dam.s81c.com/public/content/dam/worldwide-content/homepage/ul/g/bb/fd/20211018-cert-tech-u-virtual-edition.png\",\"copy\":\"\\n\"},{\"ibmEvSection\":\"tc2\",\"eyebrow\":\"Design thinking is for everyone\",\"title\":\"26192 Design thinking practitioner \",\"button\":\"Learn how to drive business results by focusing on your usersâ needs in this free course\",\"timestamp\":1634315831253,\"airtableID\":\"26192\",\"mobileImg\":\"https://1.dam.s81c.com/public/content/dam/worldwide-content/homepage/ul/g/e1/3b/20211018-cert-design-thinking.jpg\",\"copy\":\"\\n\",\"link\":\"https://www.ibm.com/design/thinking/?lnk=ushpv18tc2\",\"image\":\"https://1.dam.s81c.com/public/content/dam/worldwide-content/homepage/ul/g/e1/3b/20211018-cert-design-thinking.jpg\"}]},\"config\":{\"enabled\":\"true\"}},\"videonews\":{\"data\":{\"content\":[{\"ibmEvSection\":\"vn1\",\"alternateColor\":true,\"eyebrow\":\"AI can take you to places youâve only dreamed of\\n\",\"title\":\"26324 Data Science: Watson Studio\",\"button\":\"Build and scale trusted AI across any cloud\",\"link\":\"https://www.ibm.com/cloud/watson-studio?lnk=ushpv18vn1\",\"timestamp\":1639779183583,\"airtableID\":\"26324\",\"copy\":\"Get there with Watson Studio, a simpler way to turn predictions into decisions collaboratively, on any cloud, on one data and AI platform\",\"videoLength\":\"1:13\",\"videoId\":\"1_iej13uex\",\"image\":\"https://1.dam.s81c.com/public/content/dam/worldwide-content/homepage/ul/g/82/93/20211025-vn-data-science-watson-studio-1200x900.jpg\"},{\"ibmEvSection\":\"vn2\",\"eyebrow\":\"A ânever trust, always verifyâ security model\\n\",\"title\":\"26325 Zero Trust Security\",\"button\":\"Read about zero trust architecture and the future of security\",\"timestamp\":1639779210749,\"airtableID\":\"26325\",\"copy\":\"On average, it can take 77 days to contain an insider data breach. Companies with a zero trust framework in place can do so in near-real time.\",\"videoLength\":\"3:06\",\"videoId\":\"1_yr2j7p5f\",\"image\":\"https://1.dam.s81c.com/public/content/dam/worldwide-content/homepage/ul/g/2e/5a/20211115-vn-zero-trust-security-26254-1200x900.jpg\",\"alternateColor\":true,\"link\":\"https://www.ibm.com/security/zero-trust?lnk=ushpv18vn2\"},{\"ibmEvSection\":\"vn3\",\"eyebrow\":\"Home Trust and IBM Cloud: prepared for the unforeseeable\\n\",\"title\":\"26326 Home Trust CS\",\"button\":\"Learn how the right platform supported the workforce during COVID\\u0026#8209;19 lockdowns\",\"timestamp\":1639779304922,\"airtableID\":\"26326\",\"copy\":\"Because of an early transition to IBM Cloud, one of Canadaâs leading financial institutions was able to change to remote work and thrive in 2020\",\"videoLength\":\"2:37\",\"videoId\":\"1_fz1liaxf\",\"image\":\"https://1.dam.s81c.com/public/content/dam/worldwide-content/homepage/ul/g/37/78/20211122-vn-home-trust-26271-1200x900.jpg\",\"alternateColor\":true,\"link\":\"https://www.ibm.com/case-studies/home-trust/?lnk=ushpv18vn3\"}]},\"config\":{\"enabled\":\"true\"}}}}},\"__N_SSG\":true},\"page\":\"/\",\"query\":{},\"buildId\":\"i2ux4OR8NdVpxQAILmxEn\",\"assetPrefix\":\"/us-en\",\"isFallback\":false,\"gsp\":true}\n",
      "  </script>\n",
      "  <script nomodule=\"\" src=\"/us-en/_next/static/chunks/polyfills-040103c5c51c5268569e.js\">\n",
      "  </script>\n",
      "  <script async=\"\" src=\"/us-en/_next/static/chunks/webpack-147ea3ada7109f6dc0bb.js\">\n",
      "  </script>\n",
      "  <script async=\"\" src=\"/us-en/_next/static/chunks/framework.bf337b07faa30cce02dc.js\">\n",
      "  </script>\n",
      "  <script async=\"\" src=\"/us-en/_next/static/chunks/commons.e5f598b92e04294eff62.js\">\n",
      "  </script>\n",
      "  <script async=\"\" src=\"/us-en/_next/static/chunks/f6078781a05fe1bcb0902d23dbbb2662c8d200b3.d2f601340e1658353edc.js\">\n",
      "  </script>\n",
      "  <script async=\"\" src=\"/us-en/_next/static/chunks/main-804d3443671cc9ab3a1a.js\">\n",
      "  </script>\n",
      "  <script async=\"\" src=\"/us-en/_next/static/chunks/styles.d480418a16501285002b.js\">\n",
      "  </script>\n",
      "  <script async=\"\" src=\"/us-en/_next/static/chunks/pages/_app-ff21d76f29965c940c13.js\">\n",
      "  </script>\n",
      "  <script async=\"\" src=\"/us-en/_next/static/chunks/030f8acd.120c7070a26fdc18bd95.js\">\n",
      "  </script>\n",
      "  <script async=\"\" src=\"/us-en/_next/static/chunks/de93c76c.b126fe468b8f05465a79.js\">\n",
      "  </script>\n",
      "  <script async=\"\" src=\"/us-en/_next/static/chunks/aeca05f3.267a3b3519b7b9e739f3.js\">\n",
      "  </script>\n",
      "  <script async=\"\" src=\"/us-en/_next/static/chunks/fe48cd97.e2e2465c50d058b06ee1.js\">\n",
      "  </script>\n",
      "  <script async=\"\" src=\"/us-en/_next/static/chunks/3e8e8dc6.a9a670d72dbcbc80a131.js\">\n",
      "  </script>\n",
      "  <script async=\"\" src=\"/us-en/_next/static/chunks/9295cf4f.55238d93dd7ab9c936a9.js\">\n",
      "  </script>\n",
      "  <script async=\"\" src=\"/us-en/_next/static/chunks/1c920f04.1292982814230162a57d.js\">\n",
      "  </script>\n",
      "  <script async=\"\" src=\"/us-en/_next/static/chunks/ebd65826.a6f2b1f9462a0adf3019.js\">\n",
      "  </script>\n",
      "  <script async=\"\" src=\"/us-en/_next/static/chunks/pages/index-2bfdb0324d1116582291.js\">\n",
      "  </script>\n",
      "  <script async=\"\" src=\"/us-en/_next/static/i2ux4OR8NdVpxQAILmxEn/_buildManifest.js\">\n",
      "  </script>\n",
      "  <script async=\"\" src=\"/us-en/_next/static/i2ux4OR8NdVpxQAILmxEn/_ssgManifest.js\">\n",
      "  </script>\n",
      "  <script src=\"/6f7_ezC-EDxvkPn15cGyqAN_TnQ/cE5NNtVr/CiMWKzkB/d2woASJp/fgIB\" type=\"text/javascript\">\n",
      "  </script>\n",
      "  <link href=\"/_sec/cp_challenge/sec-3-8.css\" rel=\"stylesheet\" type=\"text/css\"/>\n",
      "  <script async=\"\" defer=\"\" src=\"/_sec/cp_challenge/sec-cpt-3-8.js\">\n",
      "  </script>\n",
      "  <div id=\"sec-overlay\" style=\"display:none;\">\n",
      "   <div id=\"sec-container\">\n",
      "   </div>\n",
      "  </div>\n",
      " </body>\n",
      "</html>\n"
     ]
    }
   ],
   "source": [
    "print(soup.prettify())"
   ]
  },
  {
   "cell_type": "markdown",
   "metadata": {},
   "source": [
    "Scrape all links\n"
   ]
  },
  {
   "cell_type": "code",
   "execution_count": 48,
   "metadata": {
    "tags": []
   },
   "outputs": [
    {
     "name": "stdout",
     "output_type": "stream",
     "text": [
      "#main-content\n",
      "http://www.ibm.com\n",
      "https://www.ibm.com/garage?lnk=ushpv18l1\n",
      "#ibm-hp--tech-section\n",
      "https://www.ibm.com/consulting/?lnk=ushpv18intro2\n",
      "https://research.ibm.com/blog/pandemic-speech-understanding?lnk=ushpv18r1\n",
      "https://research.ibm.com/blog/pandemic-speech-understanding?lnk=ushpv18r1\n",
      "https://research.ibm.com/blog/new-sustainable-materials?lnk=ushpv18r2\n",
      "https://research.ibm.com/blog/adversarial-attack-stock-prediction?lnk=ushpv18r3\n",
      "https://www.ibm.com/quantum-computing/developers/?lnk=ushpv18r4\n",
      "https://www.ibm.com/consulting/resources/design-data-led-experience-transformation/?lnk=ushpv18f1\n",
      "https://www.ibm.com/blogs/ibm-training/master-technology-basics-with-ibm-information-technology-it-and-cloud-fundamentals-courses/?lnk=ushpv18f2\n",
      "https://www.ibm.com/thought-leadership/new-creators/lella-halloum/?lnk=ushpv18f3\n",
      "https://www.ibm.com/thought-leadership/institute-business-value/en-us/report/post-pandemic-overconfidence?lnk=ushpv18f4\n",
      "https://www.ibm.com/case-studies/search?lnk=ushpv18mAll\n",
      "https://www.ibm.com/case-studies/via-metropolitan-transit/?lnk=ushpv18m1\n",
      "https://www.ibm.com/case-studies/deloitte/?lnk=ushpv18m2\n",
      "https://www.ibm.com/case-studies/national-center-for-high-performance-computing/?lnk=ushpv18m3\n",
      "https://www.ibm.com/products?types[0]=trial&lnk=STW_US_MPDISC_BNR_BTN&lnk2=THP&lnk3=ushpv18tAll\n",
      "https://www.ibm.com/products/offers-and-discounts?link=ushpv18t5&lnk2=trial_mktpl_MPDISC\n",
      "https://www.ibm.com/cloud/cloud-pak-for-automation?lnk=ushpv18t1\n",
      "https://www.ibm.com/products/cognos-analytics?lnk=ushpv18t2\n",
      "https://www.ibm.com/cloud/instana?lnk=ushpv18t1\n",
      "https://www.ibm.com/search?lnk=ushpv18srch&locale=en-us&q=\n",
      "https://www.ibm.com/products?lnk=ushpv18p1&lnk2=trial_mktpl&psrc=none&pexp=def\n",
      "https://www.ibm.com/cloud/hybrid?lnk=ushpv18pt14\n",
      "https://www.ibm.com/watson?lnk=ushpv18pt17\n",
      "https://www.ibm.com/it-infrastructure?lnk=ushpv18pt19\n",
      "https://www.ibm.com/blockchain?lnk=ushpv18pt4\n",
      "https://www.ibm.com/security/products?lnk=ushpv18pt9\n",
      "https://www.ibm.com/analytics/products?lnk=ushpv18pt1\n",
      "https://www.ibm.com/cloud/automation?lnk=ushpv18ct21\n",
      "https://www.ibm.com/quantum-computing?lnk=ushpv18pt16\n",
      "https://www.ibm.com/mysupport/s/?language=en_US&lnk=ushpv18ct11\n",
      "https://www.ibm.com/training/?lnk=ushpv18ct15\n",
      "https://community.ibm.com/community/user/home/?lnk=ushpv18ct20\n",
      "https://developer.ibm.com/?lnk=ushpv18ct9\n",
      "https://www.ibm.com/garage?lnk=ushpv18pt18\n",
      "https://www.ibm.com/docs/en?lnk=ushpv18ct14\n",
      "https://www.redbooks.ibm.com/?lnk=ushpv18ct10\n",
      "https://www.ibm.com/subscribe/?lnk=ushpv18ct22\n",
      "https://www-03.ibm.com/employment/technicaltalent/developer/?lnk=ushpv18ct2\n",
      "https://www.ibm.com/\n"
     ]
    }
   ],
   "source": [
    "for link in soup.find_all('a',href=True):  # in html anchor/link is represented by the tag <a>\n",
    "\n",
    "    print(link.get('href'))\n"
   ]
  },
  {
   "cell_type": "markdown",
   "metadata": {},
   "source": [
    "## Scrape  all images  Tags\n"
   ]
  },
  {
   "cell_type": "code",
   "execution_count": 49,
   "metadata": {},
   "outputs": [
    {
     "name": "stdout",
     "output_type": "stream",
     "text": [
      "<img alt=\"\" aria-hidden=\"true\" role=\"presentation\" src=\"data:image/svg+xml;base64,PHN2ZyB3aWR0aD0iMTA1NSIgaGVpZ2h0PSI1MjcuNSIgeG1sbnM9Imh0dHA6Ly93d3cudzMub3JnLzIwMDAvc3ZnIiB2ZXJzaW9uPSIxLjEiLz4=\" style=\"max-width:100%;display:block;margin:0;border:none;padding:0\"/>\n",
      "data:image/svg+xml;base64,PHN2ZyB3aWR0aD0iMTA1NSIgaGVpZ2h0PSI1MjcuNSIgeG1sbnM9Imh0dHA6Ly93d3cudzMub3JnLzIwMDAvc3ZnIiB2ZXJzaW9uPSIxLjEiLz4=\n",
      "<img alt=\"A man and a happy woman sitting on stools in front of a wall of post-it notes\" class=\"ibm-resize\" decoding=\"async\" src=\"https://1.dam.s81c.com/public/content/dam/worldwide-content/homepage/ul/g/e0/75/20210823-ibm-garage-26083-720x360.jpg\" style=\"position:absolute;top:0;left:0;bottom:0;right:0;box-sizing:border-box;padding:0;border:none;margin:auto;display:block;width:0;height:0;min-width:100%;max-width:100%;min-height:100%;max-height:100%\"/>\n",
      "https://1.dam.s81c.com/public/content/dam/worldwide-content/homepage/ul/g/e0/75/20210823-ibm-garage-26083-720x360.jpg\n",
      "<img alt='Op-art word salad of \"mask\" turning into \"task\"' class=\"bx--image__img\" src=\"https://1.dam.s81c.com/p/08f95134b12702d8/20220815-r1-covid-vocabulary-v2-26889-1600x900.jpg\"/>\n",
      "https://1.dam.s81c.com/p/08f95134b12702d8/20220815-r1-covid-vocabulary-v2-26889-1600x900.jpg\n",
      "<img alt=\"A blonde woman in safety glasses working with lab equipment\" class=\"bx--image__img bx--card__img\" src=\"https://1.dam.s81c.com/p/0857136baca6a8d9/20220711-r-accelerated-sustainable-materials-discovery-v1-26797-800x450.jpg\n",
      "\"/>\n",
      "https://1.dam.s81c.com/p/0857136baca6a8d9/20220711-r-accelerated-sustainable-materials-discovery-v1-26797-800x450.jpg\n",
      "\n",
      "<img alt=\"Colorful stock quotes on a smart phone\" class=\"bx--image__img bx--card__img\" src=\"https://1.dam.s81c.com/p/08b38f4a7f265590/20220801-r1-stock-tweet-manipulation-26864-1600x900.jpg\"/>\n",
      "https://1.dam.s81c.com/p/08b38f4a7f265590/20220801-r1-stock-tweet-manipulation-26864-1600x900.jpg\n",
      "<img alt=\"IBM Quantum project manager Kayla Lee, looking into the camera\" class=\"bx--image__img bx--card__img\" src=\"https://1.dam.s81c.com/public/content/dam/worldwide-content/homepage/ul/g/0e/10/20220321-r-quantum-for-developers-800x450.jpg\"/>\n",
      "https://1.dam.s81c.com/public/content/dam/worldwide-content/homepage/ul/g/0e/10/20220321-r-quantum-for-developers-800x450.jpg\n",
      "<img alt=\"Vertical bars in shades of green with a finger pointing to a pink circle in the middle\" class=\"bx--image__img bx--card__img\" src=\"https://1.dam.s81c.com/p/08f94d882746b787/20220815-consulting-design-data-led-experience-transformation-26852-444x333.jpg\"/>\n",
      "https://1.dam.s81c.com/p/08f94d882746b787/20220815-consulting-design-data-led-experience-transformation-26852-444x333.jpg\n",
      "<img alt=\"Two men and a woman on an office sofa stare intently into a laptop screen\" class=\"bx--image__img bx--card__img\" src=\"https://1.dam.s81c.com/p/08a56f9ac2462279/2022_03_24_Slowell_INSIDE_IBM-AUSTIN-Office_128.jpg.global.s_4x3.png\"/>\n",
      "https://1.dam.s81c.com/p/08a56f9ac2462279/2022_03_24_Slowell_INSIDE_IBM-AUSTIN-Office_128.jpg.global.s_4x3.png\n",
      "<img alt=\"Portrait of the young, brunette Lella Halloum wearing a powder-blue blazer\" class=\"bx--image__img bx--card__img\" src=\"https://1.dam.s81c.com/p/08196d0e04a60b45/lella-halloum-new-creator-1600x900.jpg.global.s_4x3.jpg\"/>\n",
      "https://1.dam.s81c.com/p/08196d0e04a60b45/lella-halloum-new-creator-1600x900.jpg.global.s_4x3.jpg\n",
      "<img alt=\"Headshot of a very confident-looking white-haired man pulling a white covid mask off his face\" class=\"bx--image__img bx--card__img\" src=\"https://1.dam.s81c.com/p/08f94d882746b788/20220815-pandemic-overconfidence-26879-444x333.jpg\"/>\n",
      "https://1.dam.s81c.com/p/08f94d882746b788/20220815-pandemic-overconfidence-26879-444x333.jpg\n",
      "<img alt=\"A red bus driving on a bright street past a building with graffiti art on it\" class=\"bx--image__img\" src=\"https://1.dam.s81c.com/p/08b38f4a7f265591/20220801-m-via-metropolitan-transit-26857-1600x900.jpg\"/>\n",
      "https://1.dam.s81c.com/p/08b38f4a7f265591/20220801-m-via-metropolitan-transit-26857-1600x900.jpg\n",
      "<img alt=\"Photograph of a cable-stay bridge and modern infrastructure in SÃ£o Paulo\" class=\"bx--image__img\" src=\"https://1.dam.s81c.com/p/08b38f4a8026565a/20220808-m-deloitte-1600x900.jpg\"/>\n",
      "https://1.dam.s81c.com/p/08b38f4a8026565a/20220808-m-deloitte-1600x900.jpg\n",
      "<img alt=\"A uniformed nurse in a surgical mask works on a computer\" class=\"bx--image__img\" src=\"https://1.dam.s81c.com/p/08f94d882746b794/20220815-m-national-center-for-high-performing-computing-26886-1600x900.jpg\"/>\n",
      "https://1.dam.s81c.com/p/08f94d882746b794/20220815-m-national-center-for-high-performing-computing-26886-1600x900.jpg\n",
      "<img alt=\"Interface of a sample Cloud Pak dashboard displaying scores, a pie chart and a bar graph\" class=\"bx--image__img bx--card__img\" src=\"https://1.dam.s81c.com/p/0801d7b5f93ae6b7/Cloud-Pak-for-Automation-trial-800x450.jpg\"/>\n",
      "https://1.dam.s81c.com/p/0801d7b5f93ae6b7/Cloud-Pak-for-Automation-trial-800x450.jpg\n",
      "<img alt=\"Cognos Analytics interface showing stats and colorful bar graphs\" class=\"bx--image__img bx--card__img\" src=\"https://1.dam.s81c.com/p/08b38f4a80a656ec/cognos-analytics-dashboard-trial-800x450.jpg\"/>\n",
      "https://1.dam.s81c.com/p/08b38f4a80a656ec/cognos-analytics-dashboard-trial-800x450.jpg\n",
      "<img alt=\"Instana Observability interface displaying a multi-paned dashboard for application management\" class=\"bx--image__img bx--card__img\" src=\"https://1.dam.s81c.com/p/08b38f4a80a656cd/istana-observability-apm-monitoring-use-case-1249-800x450.png\"/>\n",
      "https://1.dam.s81c.com/p/08b38f4a80a656cd/istana-observability-apm-monitoring-use-case-1249-800x450.png\n"
     ]
    }
   ],
   "source": [
    "for link in soup.find_all('img'):# in html image is represented by the tag <img>\n",
    "    print(link)\n",
    "    print(link.get('src'))"
   ]
  },
  {
   "cell_type": "markdown",
   "metadata": {},
   "source": [
    "## Scrape data from HTML tables\n"
   ]
  },
  {
   "cell_type": "code",
   "execution_count": 50,
   "metadata": {},
   "outputs": [],
   "source": [
    "#The below url contains an html table with data about colors and color codes.\n",
    "url = \"https://cf-courses-data.s3.us.cloud-object-storage.appdomain.cloud/IBM-DA0321EN-SkillsNetwork/labs/datasets/HTMLColorCodes.html\""
   ]
  },
  {
   "cell_type": "markdown",
   "metadata": {},
   "source": [
    "Before proceeding to scrape a web site, you need to examine the contents, and the way data is organized on the website. Open the above url in your browser and check how many rows and columns are there in the color table.\n"
   ]
  },
  {
   "cell_type": "code",
   "execution_count": 51,
   "metadata": {},
   "outputs": [],
   "source": [
    "# get the contents of the webpage in text format and store in a variable called data\n",
    "data  = requests.get(url).text"
   ]
  },
  {
   "cell_type": "code",
   "execution_count": 52,
   "metadata": {},
   "outputs": [],
   "source": [
    "soup = BeautifulSoup(data,\"html.parser\")"
   ]
  },
  {
   "cell_type": "code",
   "execution_count": 53,
   "metadata": {},
   "outputs": [],
   "source": [
    "#find a html table in the web page\n",
    "table = soup.find('table') # in html table is represented by the tag <table>"
   ]
  },
  {
   "cell_type": "code",
   "execution_count": 54,
   "metadata": {},
   "outputs": [
    {
     "name": "stdout",
     "output_type": "stream",
     "text": [
      "Color Name--->None\n",
      "lightsalmon--->#FFA07A\n",
      "salmon--->#FA8072\n",
      "darksalmon--->#E9967A\n",
      "lightcoral--->#F08080\n",
      "coral--->#FF7F50\n",
      "tomato--->#FF6347\n",
      "orangered--->#FF4500\n",
      "gold--->#FFD700\n",
      "orange--->#FFA500\n",
      "darkorange--->#FF8C00\n",
      "lightyellow--->#FFFFE0\n",
      "lemonchiffon--->#FFFACD\n",
      "papayawhip--->#FFEFD5\n",
      "moccasin--->#FFE4B5\n",
      "peachpuff--->#FFDAB9\n",
      "palegoldenrod--->#EEE8AA\n",
      "khaki--->#F0E68C\n",
      "darkkhaki--->#BDB76B\n",
      "yellow--->#FFFF00\n",
      "lawngreen--->#7CFC00\n",
      "chartreuse--->#7FFF00\n",
      "limegreen--->#32CD32\n",
      "lime--->#00FF00\n",
      "forestgreen--->#228B22\n",
      "green--->#008000\n",
      "powderblue--->#B0E0E6\n",
      "lightblue--->#ADD8E6\n",
      "lightskyblue--->#87CEFA\n",
      "skyblue--->#87CEEB\n",
      "deepskyblue--->#00BFFF\n",
      "lightsteelblue--->#B0C4DE\n",
      "dodgerblue--->#1E90FF\n"
     ]
    }
   ],
   "source": [
    "#Get all rows from the table\n",
    "for row in table.find_all('tr'): # in html table row is represented by the tag <tr>\n",
    "    # Get all columns in each row.\n",
    "    cols = row.find_all('td') # in html a column is represented by the tag <td>\n",
    "    color_name = cols[2].string # store the value in column 3 as color_name\n",
    "    color_code = cols[3].string # store the value in column 4 as color_code\n",
    "    print(\"{}--->{}\".format(color_name,color_code))"
   ]
  },
  {
   "cell_type": "markdown",
   "metadata": {},
   "source": [
    "## Scrape data from HTML tables into a DataFrame using BeautifulSoup and Pandas\n"
   ]
  },
  {
   "cell_type": "code",
   "execution_count": 55,
   "metadata": {},
   "outputs": [],
   "source": [
    "import pandas as pd"
   ]
  },
  {
   "cell_type": "code",
   "execution_count": 56,
   "metadata": {},
   "outputs": [],
   "source": [
    "#The below url contains html tables with data about world population.\n",
    "url = \"https://en.wikipedia.org/wiki/World_population\""
   ]
  },
  {
   "cell_type": "markdown",
   "metadata": {},
   "source": [
    "Before proceeding to scrape a web site, you need to examine the contents, and the way data is organized on the website. Open the above url in your browser and check the tables on the webpage.\n"
   ]
  },
  {
   "cell_type": "code",
   "execution_count": 57,
   "metadata": {},
   "outputs": [],
   "source": [
    "# get the contents of the webpage in text format and store in a variable called data\n",
    "data  = requests.get(url).text"
   ]
  },
  {
   "cell_type": "code",
   "execution_count": 58,
   "metadata": {},
   "outputs": [],
   "source": [
    "soup = BeautifulSoup(data,\"html.parser\")"
   ]
  },
  {
   "cell_type": "code",
   "execution_count": 59,
   "metadata": {},
   "outputs": [],
   "source": [
    "#find all html tables in the web page\n",
    "tables = soup.find_all('table') # in html table is represented by the tag <table>"
   ]
  },
  {
   "cell_type": "code",
   "execution_count": 60,
   "metadata": {},
   "outputs": [
    {
     "data": {
      "text/plain": [
       "25"
      ]
     },
     "execution_count": 60,
     "metadata": {},
     "output_type": "execute_result"
    }
   ],
   "source": [
    "# we can see how many tables were found by checking the length of the tables list\n",
    "len(tables)"
   ]
  },
  {
   "cell_type": "markdown",
   "metadata": {},
   "source": [
    "Assume that we are looking for the `10 most densly populated countries` table, we can look through the tables list and find the right one we are look for based on the data in each table or we can search for the table name if it is in the table but this option might not always work.\n"
   ]
  },
  {
   "cell_type": "code",
   "execution_count": 61,
   "metadata": {},
   "outputs": [
    {
     "name": "stdout",
     "output_type": "stream",
     "text": [
      "5\n"
     ]
    }
   ],
   "source": [
    "for index,table in enumerate(tables):\n",
    "    if (\"10 most densely populated countries\" in str(table)):\n",
    "        table_index = index\n",
    "print(table_index)"
   ]
  },
  {
   "cell_type": "markdown",
   "metadata": {},
   "source": [
    "See if you can locate the table name of the table, `10 most densly populated countries`, below.\n"
   ]
  },
  {
   "cell_type": "code",
   "execution_count": 62,
   "metadata": {
    "tags": []
   },
   "outputs": [
    {
     "name": "stdout",
     "output_type": "stream",
     "text": [
      "<table class=\"wikitable sortable\" style=\"text-align:right\">\n",
      " <caption>\n",
      "  10 most densely populated countries\n",
      "  <small>\n",
      "   (with population above 5 million)\n",
      "  </small>\n",
      " </caption>\n",
      " <tbody>\n",
      "  <tr>\n",
      "   <th>\n",
      "    Rank\n",
      "   </th>\n",
      "   <th>\n",
      "    Country\n",
      "   </th>\n",
      "   <th>\n",
      "    Population\n",
      "   </th>\n",
      "   <th>\n",
      "    Area\n",
      "    <br/>\n",
      "    <small>\n",
      "     (km\n",
      "     <sup>\n",
      "      2\n",
      "     </sup>\n",
      "     )\n",
      "    </small>\n",
      "   </th>\n",
      "   <th>\n",
      "    Density\n",
      "    <br/>\n",
      "    <small>\n",
      "     (pop/km\n",
      "     <sup>\n",
      "      2\n",
      "     </sup>\n",
      "     )\n",
      "    </small>\n",
      "   </th>\n",
      "  </tr>\n",
      "  <tr>\n",
      "   <td>\n",
      "    1\n",
      "   </td>\n",
      "   <td align=\"left\">\n",
      "    <span class=\"flagicon\">\n",
      "     <img alt=\"\" class=\"thumbborder\" data-file-height=\"600\" data-file-width=\"900\" decoding=\"async\" height=\"15\" src=\"//upload.wikimedia.org/wikipedia/commons/thumb/4/48/Flag_of_Singapore.svg/23px-Flag_of_Singapore.svg.png\" srcset=\"//upload.wikimedia.org/wikipedia/commons/thumb/4/48/Flag_of_Singapore.svg/35px-Flag_of_Singapore.svg.png 1.5x, //upload.wikimedia.org/wikipedia/commons/thumb/4/48/Flag_of_Singapore.svg/45px-Flag_of_Singapore.svg.png 2x\" width=\"23\"/>\n",
      "    </span>\n",
      "    <a href=\"/wiki/Singapore\" title=\"Singapore\">\n",
      "     Singapore\n",
      "    </a>\n",
      "   </td>\n",
      "   <td>\n",
      "    5,704,000\n",
      "   </td>\n",
      "   <td>\n",
      "    710\n",
      "   </td>\n",
      "   <td>\n",
      "    8,033\n",
      "   </td>\n",
      "  </tr>\n",
      "  <tr>\n",
      "   <td>\n",
      "    2\n",
      "   </td>\n",
      "   <td align=\"left\">\n",
      "    <span class=\"flagicon\">\n",
      "     <img alt=\"\" class=\"thumbborder\" data-file-height=\"600\" data-file-width=\"1000\" decoding=\"async\" height=\"14\" src=\"//upload.wikimedia.org/wikipedia/commons/thumb/f/f9/Flag_of_Bangladesh.svg/23px-Flag_of_Bangladesh.svg.png\" srcset=\"//upload.wikimedia.org/wikipedia/commons/thumb/f/f9/Flag_of_Bangladesh.svg/35px-Flag_of_Bangladesh.svg.png 1.5x, //upload.wikimedia.org/wikipedia/commons/thumb/f/f9/Flag_of_Bangladesh.svg/46px-Flag_of_Bangladesh.svg.png 2x\" width=\"23\"/>\n",
      "    </span>\n",
      "    <a href=\"/wiki/Bangladesh\" title=\"Bangladesh\">\n",
      "     Bangladesh\n",
      "    </a>\n",
      "   </td>\n",
      "   <td>\n",
      "    173,240,000\n",
      "   </td>\n",
      "   <td>\n",
      "    143,998\n",
      "   </td>\n",
      "   <td>\n",
      "    1,203\n",
      "   </td>\n",
      "  </tr>\n",
      "  <tr>\n",
      "   <td>\n",
      "    3\n",
      "   </td>\n",
      "   <td align=\"left\">\n",
      "    <p>\n",
      "     <span class=\"flagicon\">\n",
      "      <img alt=\"\" class=\"thumbborder\" data-file-height=\"216\" data-file-width=\"432\" decoding=\"async\" height=\"12\" src=\"//upload.wikimedia.org/wikipedia/commons/thumb/0/00/Flag_of_Palestine.svg/23px-Flag_of_Palestine.svg.png\" srcset=\"//upload.wikimedia.org/wikipedia/commons/thumb/0/00/Flag_of_Palestine.svg/35px-Flag_of_Palestine.svg.png 1.5x, //upload.wikimedia.org/wikipedia/commons/thumb/0/00/Flag_of_Palestine.svg/46px-Flag_of_Palestine.svg.png 2x\" width=\"23\"/>\n",
      "     </span>\n",
      "     <a href=\"/wiki/State_of_Palestine\" title=\"State of Palestine\">\n",
      "      Palestine\n",
      "     </a>\n",
      "    </p>\n",
      "   </td>\n",
      "   <td>\n",
      "    5,266,785\n",
      "   </td>\n",
      "   <td>\n",
      "    6,020\n",
      "   </td>\n",
      "   <td>\n",
      "    847\n",
      "   </td>\n",
      "  </tr>\n",
      "  <tr>\n",
      "   <td>\n",
      "    4\n",
      "   </td>\n",
      "   <td align=\"left\">\n",
      "    <span class=\"flagicon\">\n",
      "     <img alt=\"\" class=\"thumbborder\" data-file-height=\"600\" data-file-width=\"900\" decoding=\"async\" height=\"15\" src=\"//upload.wikimedia.org/wikipedia/commons/thumb/5/59/Flag_of_Lebanon.svg/23px-Flag_of_Lebanon.svg.png\" srcset=\"//upload.wikimedia.org/wikipedia/commons/thumb/5/59/Flag_of_Lebanon.svg/35px-Flag_of_Lebanon.svg.png 1.5x, //upload.wikimedia.org/wikipedia/commons/thumb/5/59/Flag_of_Lebanon.svg/45px-Flag_of_Lebanon.svg.png 2x\" width=\"23\"/>\n",
      "    </span>\n",
      "    <a href=\"/wiki/Lebanon\" title=\"Lebanon\">\n",
      "     Lebanon\n",
      "    </a>\n",
      "   </td>\n",
      "   <td>\n",
      "    6,856,000\n",
      "   </td>\n",
      "   <td>\n",
      "    10,452\n",
      "   </td>\n",
      "   <td>\n",
      "    656\n",
      "   </td>\n",
      "  </tr>\n",
      "  <tr>\n",
      "   <td>\n",
      "    5\n",
      "   </td>\n",
      "   <td align=\"left\">\n",
      "    <span class=\"flagicon\">\n",
      "     <img alt=\"\" class=\"thumbborder\" data-file-height=\"600\" data-file-width=\"900\" decoding=\"async\" height=\"15\" src=\"//upload.wikimedia.org/wikipedia/commons/thumb/7/72/Flag_of_the_Republic_of_China.svg/23px-Flag_of_the_Republic_of_China.svg.png\" srcset=\"//upload.wikimedia.org/wikipedia/commons/thumb/7/72/Flag_of_the_Republic_of_China.svg/35px-Flag_of_the_Republic_of_China.svg.png 1.5x, //upload.wikimedia.org/wikipedia/commons/thumb/7/72/Flag_of_the_Republic_of_China.svg/45px-Flag_of_the_Republic_of_China.svg.png 2x\" width=\"23\"/>\n",
      "    </span>\n",
      "    <a href=\"/wiki/Taiwan\" title=\"Taiwan\">\n",
      "     Taiwan\n",
      "    </a>\n",
      "   </td>\n",
      "   <td>\n",
      "    23,604,000\n",
      "   </td>\n",
      "   <td>\n",
      "    36,193\n",
      "   </td>\n",
      "   <td>\n",
      "    652\n",
      "   </td>\n",
      "  </tr>\n",
      "  <tr>\n",
      "   <td>\n",
      "    6\n",
      "   </td>\n",
      "   <td align=\"left\">\n",
      "    <span class=\"flagicon\">\n",
      "     <img alt=\"\" class=\"thumbborder\" data-file-height=\"600\" data-file-width=\"900\" decoding=\"async\" height=\"15\" src=\"//upload.wikimedia.org/wikipedia/commons/thumb/0/09/Flag_of_South_Korea.svg/23px-Flag_of_South_Korea.svg.png\" srcset=\"//upload.wikimedia.org/wikipedia/commons/thumb/0/09/Flag_of_South_Korea.svg/35px-Flag_of_South_Korea.svg.png 1.5x, //upload.wikimedia.org/wikipedia/commons/thumb/0/09/Flag_of_South_Korea.svg/45px-Flag_of_South_Korea.svg.png 2x\" width=\"23\"/>\n",
      "    </span>\n",
      "    <a href=\"/wiki/South_Korea\" title=\"South Korea\">\n",
      "     South Korea\n",
      "    </a>\n",
      "   </td>\n",
      "   <td>\n",
      "    51,781,000\n",
      "   </td>\n",
      "   <td>\n",
      "    99,538\n",
      "   </td>\n",
      "   <td>\n",
      "    520\n",
      "   </td>\n",
      "  </tr>\n",
      "  <tr>\n",
      "   <td>\n",
      "    7\n",
      "   </td>\n",
      "   <td align=\"left\">\n",
      "    <span class=\"flagicon\">\n",
      "     <img alt=\"\" class=\"thumbborder\" data-file-height=\"720\" data-file-width=\"1080\" decoding=\"async\" height=\"15\" src=\"//upload.wikimedia.org/wikipedia/commons/thumb/1/17/Flag_of_Rwanda.svg/23px-Flag_of_Rwanda.svg.png\" srcset=\"//upload.wikimedia.org/wikipedia/commons/thumb/1/17/Flag_of_Rwanda.svg/35px-Flag_of_Rwanda.svg.png 1.5x, //upload.wikimedia.org/wikipedia/commons/thumb/1/17/Flag_of_Rwanda.svg/45px-Flag_of_Rwanda.svg.png 2x\" width=\"23\"/>\n",
      "    </span>\n",
      "    <a href=\"/wiki/Rwanda\" title=\"Rwanda\">\n",
      "     Rwanda\n",
      "    </a>\n",
      "   </td>\n",
      "   <td>\n",
      "    12,374,000\n",
      "   </td>\n",
      "   <td>\n",
      "    26,338\n",
      "   </td>\n",
      "   <td>\n",
      "    470\n",
      "   </td>\n",
      "  </tr>\n",
      "  <tr>\n",
      "   <td>\n",
      "    8\n",
      "   </td>\n",
      "   <td align=\"left\">\n",
      "    <span class=\"flagicon\">\n",
      "     <img alt=\"\" class=\"thumbborder\" data-file-height=\"600\" data-file-width=\"1000\" decoding=\"async\" height=\"14\" src=\"//upload.wikimedia.org/wikipedia/commons/thumb/5/56/Flag_of_Haiti.svg/23px-Flag_of_Haiti.svg.png\" srcset=\"//upload.wikimedia.org/wikipedia/commons/thumb/5/56/Flag_of_Haiti.svg/35px-Flag_of_Haiti.svg.png 1.5x, //upload.wikimedia.org/wikipedia/commons/thumb/5/56/Flag_of_Haiti.svg/46px-Flag_of_Haiti.svg.png 2x\" width=\"23\"/>\n",
      "    </span>\n",
      "    <a href=\"/wiki/Haiti\" title=\"Haiti\">\n",
      "     Haiti\n",
      "    </a>\n",
      "   </td>\n",
      "   <td>\n",
      "    11,578,000\n",
      "   </td>\n",
      "   <td>\n",
      "    27,065\n",
      "   </td>\n",
      "   <td>\n",
      "    428\n",
      "   </td>\n",
      "  </tr>\n",
      "  <tr>\n",
      "   <td>\n",
      "    9\n",
      "   </td>\n",
      "   <td align=\"left\">\n",
      "    <span class=\"flagicon\">\n",
      "     <img alt=\"\" class=\"thumbborder\" data-file-height=\"600\" data-file-width=\"900\" decoding=\"async\" height=\"15\" src=\"//upload.wikimedia.org/wikipedia/commons/thumb/2/20/Flag_of_the_Netherlands.svg/23px-Flag_of_the_Netherlands.svg.png\" srcset=\"//upload.wikimedia.org/wikipedia/commons/thumb/2/20/Flag_of_the_Netherlands.svg/35px-Flag_of_the_Netherlands.svg.png 1.5x, //upload.wikimedia.org/wikipedia/commons/thumb/2/20/Flag_of_the_Netherlands.svg/45px-Flag_of_the_Netherlands.svg.png 2x\" width=\"23\"/>\n",
      "    </span>\n",
      "    <a href=\"/wiki/Netherlands\" title=\"Netherlands\">\n",
      "     Netherlands\n",
      "    </a>\n",
      "   </td>\n",
      "   <td>\n",
      "    17,730,000\n",
      "   </td>\n",
      "   <td>\n",
      "    41,526\n",
      "   </td>\n",
      "   <td>\n",
      "    427\n",
      "   </td>\n",
      "  </tr>\n",
      "  <tr>\n",
      "   <td>\n",
      "    10\n",
      "   </td>\n",
      "   <td align=\"left\">\n",
      "    <span class=\"flagicon\">\n",
      "     <img alt=\"\" class=\"thumbborder\" data-file-height=\"800\" data-file-width=\"1100\" decoding=\"async\" height=\"15\" src=\"//upload.wikimedia.org/wikipedia/commons/thumb/d/d4/Flag_of_Israel.svg/21px-Flag_of_Israel.svg.png\" srcset=\"//upload.wikimedia.org/wikipedia/commons/thumb/d/d4/Flag_of_Israel.svg/32px-Flag_of_Israel.svg.png 1.5x, //upload.wikimedia.org/wikipedia/commons/thumb/d/d4/Flag_of_Israel.svg/41px-Flag_of_Israel.svg.png 2x\" width=\"21\"/>\n",
      "    </span>\n",
      "    <a href=\"/wiki/Israel\" title=\"Israel\">\n",
      "     Israel\n",
      "    </a>\n",
      "   </td>\n",
      "   <td>\n",
      "    9,560,000\n",
      "   </td>\n",
      "   <td>\n",
      "    22,072\n",
      "   </td>\n",
      "   <td>\n",
      "    433\n",
      "   </td>\n",
      "  </tr>\n",
      " </tbody>\n",
      "</table>\n",
      "\n"
     ]
    }
   ],
   "source": [
    "print(tables[table_index].prettify())"
   ]
  },
  {
   "cell_type": "code",
   "execution_count": 63,
   "metadata": {
    "tags": []
   },
   "outputs": [
    {
     "data": {
      "text/html": [
       "<div>\n",
       "<style scoped>\n",
       "    .dataframe tbody tr th:only-of-type {\n",
       "        vertical-align: middle;\n",
       "    }\n",
       "\n",
       "    .dataframe tbody tr th {\n",
       "        vertical-align: top;\n",
       "    }\n",
       "\n",
       "    .dataframe thead th {\n",
       "        text-align: right;\n",
       "    }\n",
       "</style>\n",
       "<table border=\"1\" class=\"dataframe\">\n",
       "  <thead>\n",
       "    <tr style=\"text-align: right;\">\n",
       "      <th></th>\n",
       "      <th>Rank</th>\n",
       "      <th>Country</th>\n",
       "      <th>Population</th>\n",
       "      <th>Area</th>\n",
       "      <th>Density</th>\n",
       "    </tr>\n",
       "  </thead>\n",
       "  <tbody>\n",
       "    <tr>\n",
       "      <th>0</th>\n",
       "      <td>1</td>\n",
       "      <td>Singapore</td>\n",
       "      <td>5,704,000</td>\n",
       "      <td>710</td>\n",
       "      <td>8,033</td>\n",
       "    </tr>\n",
       "    <tr>\n",
       "      <th>1</th>\n",
       "      <td>2</td>\n",
       "      <td>Bangladesh</td>\n",
       "      <td>173,240,000</td>\n",
       "      <td>143,998</td>\n",
       "      <td>1,203</td>\n",
       "    </tr>\n",
       "    <tr>\n",
       "      <th>2</th>\n",
       "      <td>3</td>\n",
       "      <td>\\n Palestine\\n\\n</td>\n",
       "      <td>5,266,785</td>\n",
       "      <td>6,020</td>\n",
       "      <td>847</td>\n",
       "    </tr>\n",
       "    <tr>\n",
       "      <th>3</th>\n",
       "      <td>4</td>\n",
       "      <td>Lebanon</td>\n",
       "      <td>6,856,000</td>\n",
       "      <td>10,452</td>\n",
       "      <td>656</td>\n",
       "    </tr>\n",
       "    <tr>\n",
       "      <th>4</th>\n",
       "      <td>5</td>\n",
       "      <td>Taiwan</td>\n",
       "      <td>23,604,000</td>\n",
       "      <td>36,193</td>\n",
       "      <td>652</td>\n",
       "    </tr>\n",
       "    <tr>\n",
       "      <th>5</th>\n",
       "      <td>6</td>\n",
       "      <td>South Korea</td>\n",
       "      <td>51,781,000</td>\n",
       "      <td>99,538</td>\n",
       "      <td>520</td>\n",
       "    </tr>\n",
       "    <tr>\n",
       "      <th>6</th>\n",
       "      <td>7</td>\n",
       "      <td>Rwanda</td>\n",
       "      <td>12,374,000</td>\n",
       "      <td>26,338</td>\n",
       "      <td>470</td>\n",
       "    </tr>\n",
       "    <tr>\n",
       "      <th>7</th>\n",
       "      <td>8</td>\n",
       "      <td>Haiti</td>\n",
       "      <td>11,578,000</td>\n",
       "      <td>27,065</td>\n",
       "      <td>428</td>\n",
       "    </tr>\n",
       "    <tr>\n",
       "      <th>8</th>\n",
       "      <td>9</td>\n",
       "      <td>Netherlands</td>\n",
       "      <td>17,730,000</td>\n",
       "      <td>41,526</td>\n",
       "      <td>427</td>\n",
       "    </tr>\n",
       "    <tr>\n",
       "      <th>9</th>\n",
       "      <td>10</td>\n",
       "      <td>Israel</td>\n",
       "      <td>9,560,000</td>\n",
       "      <td>22,072</td>\n",
       "      <td>433</td>\n",
       "    </tr>\n",
       "  </tbody>\n",
       "</table>\n",
       "</div>"
      ],
      "text/plain": [
       "  Rank           Country   Population     Area Density\n",
       "0    1         Singapore    5,704,000      710   8,033\n",
       "1    2        Bangladesh  173,240,000  143,998   1,203\n",
       "2    3  \\n Palestine\\n\\n    5,266,785    6,020     847\n",
       "3    4           Lebanon    6,856,000   10,452     656\n",
       "4    5            Taiwan   23,604,000   36,193     652\n",
       "5    6       South Korea   51,781,000   99,538     520\n",
       "6    7            Rwanda   12,374,000   26,338     470\n",
       "7    8             Haiti   11,578,000   27,065     428\n",
       "8    9       Netherlands   17,730,000   41,526     427\n",
       "9   10            Israel    9,560,000   22,072     433"
      ]
     },
     "execution_count": 63,
     "metadata": {},
     "output_type": "execute_result"
    }
   ],
   "source": [
    "population_data = pd.DataFrame(columns=[\"Rank\", \"Country\", \"Population\", \"Area\", \"Density\"])\n",
    "\n",
    "for row in tables[table_index].tbody.find_all(\"tr\"):\n",
    "    col = row.find_all(\"td\")\n",
    "    if (col != []):\n",
    "        rank = col[0].text\n",
    "        country = col[1].text\n",
    "        population = col[2].text.strip()\n",
    "        area = col[3].text.strip()\n",
    "        density = col[4].text.strip()\n",
    "        population_data = population_data.append({\"Rank\":rank, \"Country\":country, \"Population\":population, \"Area\":area, \"Density\":density}, ignore_index=True)\n",
    "\n",
    "population_data"
   ]
  },
  {
   "cell_type": "markdown",
   "metadata": {},
   "source": [
    "## Scrape data from HTML tables into a DataFrame using BeautifulSoup and read_html\n"
   ]
  },
  {
   "cell_type": "markdown",
   "metadata": {},
   "source": [
    "Using the same `url`, `data`, `soup`, and `tables` object as in the last section we can use the `read_html` function to create a DataFrame.\n",
    "\n",
    "Remember the table we need is located in `tables[table_index]`\n",
    "\n",
    "We can now use the `pandas` function `read_html` and give it the string version of the table as well as the `flavor` which is the parsing engine `bs4`.\n"
   ]
  },
  {
   "cell_type": "code",
   "execution_count": 64,
   "metadata": {},
   "outputs": [
    {
     "data": {
      "text/plain": [
       "[   Rank      Country  Population  Area(km2)  Density(pop/km2)\n",
       " 0     1    Singapore     5704000        710              8033\n",
       " 1     2   Bangladesh   173240000     143998              1203\n",
       " 2     3    Palestine     5266785       6020               847\n",
       " 3     4      Lebanon     6856000      10452               656\n",
       " 4     5       Taiwan    23604000      36193               652\n",
       " 5     6  South Korea    51781000      99538               520\n",
       " 6     7       Rwanda    12374000      26338               470\n",
       " 7     8        Haiti    11578000      27065               428\n",
       " 8     9  Netherlands    17730000      41526               427\n",
       " 9    10       Israel     9560000      22072               433]"
      ]
     },
     "execution_count": 64,
     "metadata": {},
     "output_type": "execute_result"
    }
   ],
   "source": [
    "pd.read_html(str(tables[5]), flavor='bs4')"
   ]
  },
  {
   "cell_type": "markdown",
   "metadata": {},
   "source": [
    "The function `read_html` always returns a list of DataFrames so we must pick the one we want out of the list.\n"
   ]
  },
  {
   "cell_type": "code",
   "execution_count": 65,
   "metadata": {},
   "outputs": [
    {
     "data": {
      "text/html": [
       "<div>\n",
       "<style scoped>\n",
       "    .dataframe tbody tr th:only-of-type {\n",
       "        vertical-align: middle;\n",
       "    }\n",
       "\n",
       "    .dataframe tbody tr th {\n",
       "        vertical-align: top;\n",
       "    }\n",
       "\n",
       "    .dataframe thead th {\n",
       "        text-align: right;\n",
       "    }\n",
       "</style>\n",
       "<table border=\"1\" class=\"dataframe\">\n",
       "  <thead>\n",
       "    <tr style=\"text-align: right;\">\n",
       "      <th></th>\n",
       "      <th>Rank</th>\n",
       "      <th>Country</th>\n",
       "      <th>Population</th>\n",
       "      <th>Area(km2)</th>\n",
       "      <th>Density(pop/km2)</th>\n",
       "    </tr>\n",
       "  </thead>\n",
       "  <tbody>\n",
       "    <tr>\n",
       "      <th>0</th>\n",
       "      <td>1</td>\n",
       "      <td>Singapore</td>\n",
       "      <td>5704000</td>\n",
       "      <td>710</td>\n",
       "      <td>8033</td>\n",
       "    </tr>\n",
       "    <tr>\n",
       "      <th>1</th>\n",
       "      <td>2</td>\n",
       "      <td>Bangladesh</td>\n",
       "      <td>173240000</td>\n",
       "      <td>143998</td>\n",
       "      <td>1203</td>\n",
       "    </tr>\n",
       "    <tr>\n",
       "      <th>2</th>\n",
       "      <td>3</td>\n",
       "      <td>Palestine</td>\n",
       "      <td>5266785</td>\n",
       "      <td>6020</td>\n",
       "      <td>847</td>\n",
       "    </tr>\n",
       "    <tr>\n",
       "      <th>3</th>\n",
       "      <td>4</td>\n",
       "      <td>Lebanon</td>\n",
       "      <td>6856000</td>\n",
       "      <td>10452</td>\n",
       "      <td>656</td>\n",
       "    </tr>\n",
       "    <tr>\n",
       "      <th>4</th>\n",
       "      <td>5</td>\n",
       "      <td>Taiwan</td>\n",
       "      <td>23604000</td>\n",
       "      <td>36193</td>\n",
       "      <td>652</td>\n",
       "    </tr>\n",
       "    <tr>\n",
       "      <th>5</th>\n",
       "      <td>6</td>\n",
       "      <td>South Korea</td>\n",
       "      <td>51781000</td>\n",
       "      <td>99538</td>\n",
       "      <td>520</td>\n",
       "    </tr>\n",
       "    <tr>\n",
       "      <th>6</th>\n",
       "      <td>7</td>\n",
       "      <td>Rwanda</td>\n",
       "      <td>12374000</td>\n",
       "      <td>26338</td>\n",
       "      <td>470</td>\n",
       "    </tr>\n",
       "    <tr>\n",
       "      <th>7</th>\n",
       "      <td>8</td>\n",
       "      <td>Haiti</td>\n",
       "      <td>11578000</td>\n",
       "      <td>27065</td>\n",
       "      <td>428</td>\n",
       "    </tr>\n",
       "    <tr>\n",
       "      <th>8</th>\n",
       "      <td>9</td>\n",
       "      <td>Netherlands</td>\n",
       "      <td>17730000</td>\n",
       "      <td>41526</td>\n",
       "      <td>427</td>\n",
       "    </tr>\n",
       "    <tr>\n",
       "      <th>9</th>\n",
       "      <td>10</td>\n",
       "      <td>Israel</td>\n",
       "      <td>9560000</td>\n",
       "      <td>22072</td>\n",
       "      <td>433</td>\n",
       "    </tr>\n",
       "  </tbody>\n",
       "</table>\n",
       "</div>"
      ],
      "text/plain": [
       "   Rank      Country  Population  Area(km2)  Density(pop/km2)\n",
       "0     1    Singapore     5704000        710              8033\n",
       "1     2   Bangladesh   173240000     143998              1203\n",
       "2     3    Palestine     5266785       6020               847\n",
       "3     4      Lebanon     6856000      10452               656\n",
       "4     5       Taiwan    23604000      36193               652\n",
       "5     6  South Korea    51781000      99538               520\n",
       "6     7       Rwanda    12374000      26338               470\n",
       "7     8        Haiti    11578000      27065               428\n",
       "8     9  Netherlands    17730000      41526               427\n",
       "9    10       Israel     9560000      22072               433"
      ]
     },
     "execution_count": 65,
     "metadata": {},
     "output_type": "execute_result"
    }
   ],
   "source": [
    "population_data_read_html = pd.read_html(str(tables[5]), flavor='bs4')[0]\n",
    "\n",
    "population_data_read_html"
   ]
  },
  {
   "cell_type": "markdown",
   "metadata": {},
   "source": [
    "## Scrape data from HTML tables into a DataFrame using read_html\n"
   ]
  },
  {
   "cell_type": "markdown",
   "metadata": {},
   "source": [
    "We can also use the `read_html` function to directly get DataFrames from a `url`.\n"
   ]
  },
  {
   "cell_type": "code",
   "execution_count": 66,
   "metadata": {},
   "outputs": [],
   "source": [
    "dataframe_list = pd.read_html(url, flavor='bs4')"
   ]
  },
  {
   "cell_type": "markdown",
   "metadata": {},
   "source": [
    "We can see there are 25 DataFrames just like when we used `find_all` on the `soup` object.\n"
   ]
  },
  {
   "cell_type": "code",
   "execution_count": 67,
   "metadata": {},
   "outputs": [
    {
     "data": {
      "text/plain": [
       "25"
      ]
     },
     "execution_count": 67,
     "metadata": {},
     "output_type": "execute_result"
    }
   ],
   "source": [
    "len(dataframe_list)"
   ]
  },
  {
   "cell_type": "markdown",
   "metadata": {},
   "source": [
    "Finally we can pick the DataFrame we need out of the list.\n"
   ]
  },
  {
   "cell_type": "code",
   "execution_count": 68,
   "metadata": {},
   "outputs": [
    {
     "data": {
      "text/html": [
       "<div>\n",
       "<style scoped>\n",
       "    .dataframe tbody tr th:only-of-type {\n",
       "        vertical-align: middle;\n",
       "    }\n",
       "\n",
       "    .dataframe tbody tr th {\n",
       "        vertical-align: top;\n",
       "    }\n",
       "\n",
       "    .dataframe thead th {\n",
       "        text-align: right;\n",
       "    }\n",
       "</style>\n",
       "<table border=\"1\" class=\"dataframe\">\n",
       "  <thead>\n",
       "    <tr style=\"text-align: right;\">\n",
       "      <th></th>\n",
       "      <th>Rank</th>\n",
       "      <th>Country</th>\n",
       "      <th>Population</th>\n",
       "      <th>Area(km2)</th>\n",
       "      <th>Density(pop/km2)</th>\n",
       "    </tr>\n",
       "  </thead>\n",
       "  <tbody>\n",
       "    <tr>\n",
       "      <th>0</th>\n",
       "      <td>1</td>\n",
       "      <td>Singapore</td>\n",
       "      <td>5704000</td>\n",
       "      <td>710</td>\n",
       "      <td>8033</td>\n",
       "    </tr>\n",
       "    <tr>\n",
       "      <th>1</th>\n",
       "      <td>2</td>\n",
       "      <td>Bangladesh</td>\n",
       "      <td>173240000</td>\n",
       "      <td>143998</td>\n",
       "      <td>1203</td>\n",
       "    </tr>\n",
       "    <tr>\n",
       "      <th>2</th>\n",
       "      <td>3</td>\n",
       "      <td>Palestine</td>\n",
       "      <td>5266785</td>\n",
       "      <td>6020</td>\n",
       "      <td>847</td>\n",
       "    </tr>\n",
       "    <tr>\n",
       "      <th>3</th>\n",
       "      <td>4</td>\n",
       "      <td>Lebanon</td>\n",
       "      <td>6856000</td>\n",
       "      <td>10452</td>\n",
       "      <td>656</td>\n",
       "    </tr>\n",
       "    <tr>\n",
       "      <th>4</th>\n",
       "      <td>5</td>\n",
       "      <td>Taiwan</td>\n",
       "      <td>23604000</td>\n",
       "      <td>36193</td>\n",
       "      <td>652</td>\n",
       "    </tr>\n",
       "    <tr>\n",
       "      <th>5</th>\n",
       "      <td>6</td>\n",
       "      <td>South Korea</td>\n",
       "      <td>51781000</td>\n",
       "      <td>99538</td>\n",
       "      <td>520</td>\n",
       "    </tr>\n",
       "    <tr>\n",
       "      <th>6</th>\n",
       "      <td>7</td>\n",
       "      <td>Rwanda</td>\n",
       "      <td>12374000</td>\n",
       "      <td>26338</td>\n",
       "      <td>470</td>\n",
       "    </tr>\n",
       "    <tr>\n",
       "      <th>7</th>\n",
       "      <td>8</td>\n",
       "      <td>Haiti</td>\n",
       "      <td>11578000</td>\n",
       "      <td>27065</td>\n",
       "      <td>428</td>\n",
       "    </tr>\n",
       "    <tr>\n",
       "      <th>8</th>\n",
       "      <td>9</td>\n",
       "      <td>Netherlands</td>\n",
       "      <td>17730000</td>\n",
       "      <td>41526</td>\n",
       "      <td>427</td>\n",
       "    </tr>\n",
       "    <tr>\n",
       "      <th>9</th>\n",
       "      <td>10</td>\n",
       "      <td>Israel</td>\n",
       "      <td>9560000</td>\n",
       "      <td>22072</td>\n",
       "      <td>433</td>\n",
       "    </tr>\n",
       "  </tbody>\n",
       "</table>\n",
       "</div>"
      ],
      "text/plain": [
       "   Rank      Country  Population  Area(km2)  Density(pop/km2)\n",
       "0     1    Singapore     5704000        710              8033\n",
       "1     2   Bangladesh   173240000     143998              1203\n",
       "2     3    Palestine     5266785       6020               847\n",
       "3     4      Lebanon     6856000      10452               656\n",
       "4     5       Taiwan    23604000      36193               652\n",
       "5     6  South Korea    51781000      99538               520\n",
       "6     7       Rwanda    12374000      26338               470\n",
       "7     8        Haiti    11578000      27065               428\n",
       "8     9  Netherlands    17730000      41526               427\n",
       "9    10       Israel     9560000      22072               433"
      ]
     },
     "execution_count": 68,
     "metadata": {},
     "output_type": "execute_result"
    }
   ],
   "source": [
    "dataframe_list[5]"
   ]
  },
  {
   "cell_type": "markdown",
   "metadata": {},
   "source": [
    "We can also use the `match` parameter to select the specific table we want. If the table contains a string matching the text it will be read.\n"
   ]
  },
  {
   "cell_type": "code",
   "execution_count": 69,
   "metadata": {},
   "outputs": [
    {
     "data": {
      "text/html": [
       "<div>\n",
       "<style scoped>\n",
       "    .dataframe tbody tr th:only-of-type {\n",
       "        vertical-align: middle;\n",
       "    }\n",
       "\n",
       "    .dataframe tbody tr th {\n",
       "        vertical-align: top;\n",
       "    }\n",
       "\n",
       "    .dataframe thead th {\n",
       "        text-align: right;\n",
       "    }\n",
       "</style>\n",
       "<table border=\"1\" class=\"dataframe\">\n",
       "  <thead>\n",
       "    <tr style=\"text-align: right;\">\n",
       "      <th></th>\n",
       "      <th>Rank</th>\n",
       "      <th>Country</th>\n",
       "      <th>Population</th>\n",
       "      <th>Area(km2)</th>\n",
       "      <th>Density(pop/km2)</th>\n",
       "    </tr>\n",
       "  </thead>\n",
       "  <tbody>\n",
       "    <tr>\n",
       "      <th>0</th>\n",
       "      <td>1</td>\n",
       "      <td>Singapore</td>\n",
       "      <td>5704000</td>\n",
       "      <td>710</td>\n",
       "      <td>8033</td>\n",
       "    </tr>\n",
       "    <tr>\n",
       "      <th>1</th>\n",
       "      <td>2</td>\n",
       "      <td>Bangladesh</td>\n",
       "      <td>173240000</td>\n",
       "      <td>143998</td>\n",
       "      <td>1203</td>\n",
       "    </tr>\n",
       "    <tr>\n",
       "      <th>2</th>\n",
       "      <td>3</td>\n",
       "      <td>Palestine</td>\n",
       "      <td>5266785</td>\n",
       "      <td>6020</td>\n",
       "      <td>847</td>\n",
       "    </tr>\n",
       "    <tr>\n",
       "      <th>3</th>\n",
       "      <td>4</td>\n",
       "      <td>Lebanon</td>\n",
       "      <td>6856000</td>\n",
       "      <td>10452</td>\n",
       "      <td>656</td>\n",
       "    </tr>\n",
       "    <tr>\n",
       "      <th>4</th>\n",
       "      <td>5</td>\n",
       "      <td>Taiwan</td>\n",
       "      <td>23604000</td>\n",
       "      <td>36193</td>\n",
       "      <td>652</td>\n",
       "    </tr>\n",
       "    <tr>\n",
       "      <th>5</th>\n",
       "      <td>6</td>\n",
       "      <td>South Korea</td>\n",
       "      <td>51781000</td>\n",
       "      <td>99538</td>\n",
       "      <td>520</td>\n",
       "    </tr>\n",
       "    <tr>\n",
       "      <th>6</th>\n",
       "      <td>7</td>\n",
       "      <td>Rwanda</td>\n",
       "      <td>12374000</td>\n",
       "      <td>26338</td>\n",
       "      <td>470</td>\n",
       "    </tr>\n",
       "    <tr>\n",
       "      <th>7</th>\n",
       "      <td>8</td>\n",
       "      <td>Haiti</td>\n",
       "      <td>11578000</td>\n",
       "      <td>27065</td>\n",
       "      <td>428</td>\n",
       "    </tr>\n",
       "    <tr>\n",
       "      <th>8</th>\n",
       "      <td>9</td>\n",
       "      <td>Netherlands</td>\n",
       "      <td>17730000</td>\n",
       "      <td>41526</td>\n",
       "      <td>427</td>\n",
       "    </tr>\n",
       "    <tr>\n",
       "      <th>9</th>\n",
       "      <td>10</td>\n",
       "      <td>Israel</td>\n",
       "      <td>9560000</td>\n",
       "      <td>22072</td>\n",
       "      <td>433</td>\n",
       "    </tr>\n",
       "  </tbody>\n",
       "</table>\n",
       "</div>"
      ],
      "text/plain": [
       "   Rank      Country  Population  Area(km2)  Density(pop/km2)\n",
       "0     1    Singapore     5704000        710              8033\n",
       "1     2   Bangladesh   173240000     143998              1203\n",
       "2     3    Palestine     5266785       6020               847\n",
       "3     4      Lebanon     6856000      10452               656\n",
       "4     5       Taiwan    23604000      36193               652\n",
       "5     6  South Korea    51781000      99538               520\n",
       "6     7       Rwanda    12374000      26338               470\n",
       "7     8        Haiti    11578000      27065               428\n",
       "8     9  Netherlands    17730000      41526               427\n",
       "9    10       Israel     9560000      22072               433"
      ]
     },
     "execution_count": 69,
     "metadata": {},
     "output_type": "execute_result"
    }
   ],
   "source": [
    "pd.read_html(url, match=\"10 most densely populated countries\", flavor='bs4')[0]"
   ]
  },
  {
   "cell_type": "markdown",
   "metadata": {},
   "source": [
    "## Authors\n"
   ]
  },
  {
   "cell_type": "markdown",
   "metadata": {},
   "source": [
    "Ramesh Sannareddy\n"
   ]
  },
  {
   "cell_type": "markdown",
   "metadata": {},
   "source": [
    "### Other Contributors\n"
   ]
  },
  {
   "cell_type": "markdown",
   "metadata": {},
   "source": [
    "Rav Ahuja\n"
   ]
  },
  {
   "cell_type": "markdown",
   "metadata": {},
   "source": [
    "## Change Log\n"
   ]
  },
  {
   "cell_type": "markdown",
   "metadata": {},
   "source": [
    "| Date (YYYY-MM-DD) | Version | Changed By                                               | Change Description |\n",
    "| ----------------- | ------- | -------------------------------------------------------- | ------------------ |\n",
    "| 2021-08-04        | 0.2     | Made changes to markdown of nextsibling                  |                    |\n",
    "| 2020-10-17        | 0.1     | Joseph Santarcangelo  Created initial version of the lab |                    |\n"
   ]
  },
  {
   "cell_type": "markdown",
   "metadata": {},
   "source": [
    "Copyright © 2020 IBM Corporation. This notebook and its source code are released under the terms of the [MIT License](https://cognitiveclass.ai/mit-license?utm_medium=Exinfluencer&utm_source=Exinfluencer&utm_content=000026UJ&utm_term=10006555&utm_id=NA-SkillsNetwork-Channel-SkillsNetworkCoursesIBMDeveloperSkillsNetworkPY0220ENSkillsNetwork23455606-2021-01-01&cm_mmc=Email_Newsletter-\\_-Developer_Ed%2BTech-\\_-WW_WW-\\_-SkillsNetwork-Courses-IBMDeveloperSkillsNetwork-PY0101EN-SkillsNetwork-19487395&cm_mmca1=000026UJ&cm_mmca2=10006555&cm_mmca3=M12345678&cvosrc=email.Newsletter.M12345678&cvo_campaign=000026UJ).\n"
   ]
  },
  {
   "cell_type": "code",
   "execution_count": null,
   "metadata": {},
   "outputs": [],
   "source": []
  }
 ],
 "metadata": {
  "kernelspec": {
   "display_name": "Python 3",
   "language": "python",
   "name": "python3"
  },
  "language_info": {
   "codemirror_mode": {
    "name": "ipython",
    "version": 3
   },
   "file_extension": ".py",
   "mimetype": "text/x-python",
   "name": "python",
   "nbconvert_exporter": "python",
   "pygments_lexer": "ipython3",
   "version": "3.8.5"
  }
 },
 "nbformat": 4,
 "nbformat_minor": 4
}
